{
  "nbformat": 4,
  "nbformat_minor": 0,
  "metadata": {
    "colab": {
      "provenance": [],
      "gpuType": "T4"
    },
    "kernelspec": {
      "name": "python3",
      "display_name": "Python 3"
    },
    "language_info": {
      "name": "python"
    },
    "accelerator": "GPU"
  },
  "cells": [
    {
      "cell_type": "markdown",
      "source": [
        "# **Machine Learning - Dados do ENEM 2019**"
      ],
      "metadata": {
        "id": "Er9Vr7otGij4"
      }
    },
    {
      "cell_type": "markdown",
      "source": [
        "## Bibliotecas e Carregamento do Dataset"
      ],
      "metadata": {
        "id": "okJD30_1G8bf"
      }
    },
    {
      "cell_type": "code",
      "source": [
        "# Importar as bibliotecas\n",
        "import pandas as pd"
      ],
      "metadata": {
        "id": "Oz4jHRl_HEC6"
      },
      "execution_count": 1,
      "outputs": []
    },
    {
      "cell_type": "code",
      "source": [
        "# 'Montar' o Google Drive\n",
        "from google.colab import drive\n",
        "drive.mount('/content/gdrive')\n",
        "\n",
        "import os\n",
        "\n",
        "# Carregando o dataframe original\n",
        "df = pd.read_csv('/content/gdrive/MyDrive/df.csv')\n",
        "\n",
        "# Verificar se a pasta 'Data' existe; caso contrário, crie-a\n",
        "data_directory = '/content/data'\n",
        "if not os.path.exists(data_directory):\n",
        "    os.makedirs(data_directory)\n",
        "\n",
        "# Salvar o dataframe na pasta 'Data'\n",
        "df.to_csv(os.path.join(data_directory, 'df.csv'), sep=';', index=False)"
      ],
      "metadata": {
        "colab": {
          "base_uri": "https://localhost:8080/"
        },
        "id": "Uz2MkRJSHGiI",
        "outputId": "d6acc4f0-d4e1-44a1-f84e-5eb49ecacddc"
      },
      "execution_count": 2,
      "outputs": [
        {
          "output_type": "stream",
          "name": "stdout",
          "text": [
            "Mounted at /content/gdrive\n"
          ]
        }
      ]
    },
    {
      "cell_type": "markdown",
      "source": [
        "## Carregar o conjunto de dados"
      ],
      "metadata": {
        "id": "0DtgIDptrMnl"
      }
    },
    {
      "cell_type": "code",
      "source": [
        "# Carregar o conjunto de dados\n",
        "df = pd.read_csv('data/df.csv', delimiter=';')"
      ],
      "metadata": {
        "id": "efDtG4M1rHAb"
      },
      "execution_count": 3,
      "outputs": []
    },
    {
      "cell_type": "code",
      "source": [
        "df.head(10)"
      ],
      "metadata": {
        "colab": {
          "base_uri": "https://localhost:8080/",
          "height": 412
        },
        "id": "zU-VmXnntCzH",
        "outputId": "611c9cae-d13d-408b-e6e4-4eb59e41b6df"
      },
      "execution_count": 4,
      "outputs": [
        {
          "output_type": "execute_result",
          "data": {
            "text/plain": [
              "   NU_INSCRICAO  NU_ANO  CO_MUNICIPIO_RESIDENCIA   NO_MUNICIPIO_RESIDENCIA  \\\n",
              "0  190001237819    2019                  3106200            Belo Horizonte   \n",
              "1  190001237839    2019                  3106200            Belo Horizonte   \n",
              "2  190001237840    2019                  3138401                Leopoldina   \n",
              "3  190001237857    2019                  3125101                   Extrema   \n",
              "4  190001241373    2019                  3122306               Divinópolis   \n",
              "5  190001241396    2019                  3168309        Taquaraçu de Minas   \n",
              "6  190001244958    2019                  3164704  São Sebastião do Paraíso   \n",
              "7  190001244962    2019                  3122306               Divinópolis   \n",
              "8  190001244978    2019                  3118601                  Contagem   \n",
              "9  190001244980    2019                  3152501              Pouso Alegre   \n",
              "\n",
              "   CO_UF_RESIDENCIA SG_UF_RESIDENCIA  NU_IDADE TP_SEXO  TP_ESTADO_CIVIL  \\\n",
              "0                31               MG      18.0       F                1   \n",
              "1                31               MG      18.0       F                1   \n",
              "2                31               MG      18.0       F                1   \n",
              "3                31               MG      18.0       F                1   \n",
              "4                31               MG      20.0       M                1   \n",
              "5                31               MG      18.0       F                1   \n",
              "6                31               MG      18.0       F                1   \n",
              "7                31               MG      18.0       F                1   \n",
              "8                31               MG      18.0       M                1   \n",
              "9                31               MG      18.0       M                1   \n",
              "\n",
              "   TP_COR_RACA  ...  Q019  Q020  Q021  Q022  Q023  Q024  Q025  MEDIA_GERAL  \\\n",
              "0            0  ...     C     B     B     E     B     B     B       703.80   \n",
              "1            1  ...     B     A     B     E     B     C     B       641.72   \n",
              "2            3  ...     B     B     A     E     A     B     B       579.66   \n",
              "3            3  ...     D     B     A     D     B     C     B       528.52   \n",
              "4            1  ...     B     B     A     E     B     A     B       530.80   \n",
              "5            3  ...     A     A     A     B     A     A     A       547.56   \n",
              "6            3  ...     B     A     A     D     A     A     B       655.90   \n",
              "7            3  ...     E     A     B     D     B     D     B       529.86   \n",
              "8            1  ...     B     A     A     B     A     B     B       691.22   \n",
              "9            3  ...     B     A     A     D     B     A     B       705.62   \n",
              "\n",
              "   MEDIA_NOTAS  NOTA_MEDIA  \n",
              "0       703.80      703.80  \n",
              "1       641.72      641.72  \n",
              "2       579.66      579.66  \n",
              "3       528.52      528.52  \n",
              "4       530.80      530.80  \n",
              "5       547.56      547.56  \n",
              "6       655.90      655.90  \n",
              "7       529.86      529.86  \n",
              "8       691.22      691.22  \n",
              "9       705.62      705.62  \n",
              "\n",
              "[10 rows x 116 columns]"
            ],
            "text/html": [
              "\n",
              "  <div id=\"df-f5f64fcf-ffc3-4552-99b3-c735de9aa39e\" class=\"colab-df-container\">\n",
              "    <div>\n",
              "<style scoped>\n",
              "    .dataframe tbody tr th:only-of-type {\n",
              "        vertical-align: middle;\n",
              "    }\n",
              "\n",
              "    .dataframe tbody tr th {\n",
              "        vertical-align: top;\n",
              "    }\n",
              "\n",
              "    .dataframe thead th {\n",
              "        text-align: right;\n",
              "    }\n",
              "</style>\n",
              "<table border=\"1\" class=\"dataframe\">\n",
              "  <thead>\n",
              "    <tr style=\"text-align: right;\">\n",
              "      <th></th>\n",
              "      <th>NU_INSCRICAO</th>\n",
              "      <th>NU_ANO</th>\n",
              "      <th>CO_MUNICIPIO_RESIDENCIA</th>\n",
              "      <th>NO_MUNICIPIO_RESIDENCIA</th>\n",
              "      <th>CO_UF_RESIDENCIA</th>\n",
              "      <th>SG_UF_RESIDENCIA</th>\n",
              "      <th>NU_IDADE</th>\n",
              "      <th>TP_SEXO</th>\n",
              "      <th>TP_ESTADO_CIVIL</th>\n",
              "      <th>TP_COR_RACA</th>\n",
              "      <th>...</th>\n",
              "      <th>Q019</th>\n",
              "      <th>Q020</th>\n",
              "      <th>Q021</th>\n",
              "      <th>Q022</th>\n",
              "      <th>Q023</th>\n",
              "      <th>Q024</th>\n",
              "      <th>Q025</th>\n",
              "      <th>MEDIA_GERAL</th>\n",
              "      <th>MEDIA_NOTAS</th>\n",
              "      <th>NOTA_MEDIA</th>\n",
              "    </tr>\n",
              "  </thead>\n",
              "  <tbody>\n",
              "    <tr>\n",
              "      <th>0</th>\n",
              "      <td>190001237819</td>\n",
              "      <td>2019</td>\n",
              "      <td>3106200</td>\n",
              "      <td>Belo Horizonte</td>\n",
              "      <td>31</td>\n",
              "      <td>MG</td>\n",
              "      <td>18.0</td>\n",
              "      <td>F</td>\n",
              "      <td>1</td>\n",
              "      <td>0</td>\n",
              "      <td>...</td>\n",
              "      <td>C</td>\n",
              "      <td>B</td>\n",
              "      <td>B</td>\n",
              "      <td>E</td>\n",
              "      <td>B</td>\n",
              "      <td>B</td>\n",
              "      <td>B</td>\n",
              "      <td>703.80</td>\n",
              "      <td>703.80</td>\n",
              "      <td>703.80</td>\n",
              "    </tr>\n",
              "    <tr>\n",
              "      <th>1</th>\n",
              "      <td>190001237839</td>\n",
              "      <td>2019</td>\n",
              "      <td>3106200</td>\n",
              "      <td>Belo Horizonte</td>\n",
              "      <td>31</td>\n",
              "      <td>MG</td>\n",
              "      <td>18.0</td>\n",
              "      <td>F</td>\n",
              "      <td>1</td>\n",
              "      <td>1</td>\n",
              "      <td>...</td>\n",
              "      <td>B</td>\n",
              "      <td>A</td>\n",
              "      <td>B</td>\n",
              "      <td>E</td>\n",
              "      <td>B</td>\n",
              "      <td>C</td>\n",
              "      <td>B</td>\n",
              "      <td>641.72</td>\n",
              "      <td>641.72</td>\n",
              "      <td>641.72</td>\n",
              "    </tr>\n",
              "    <tr>\n",
              "      <th>2</th>\n",
              "      <td>190001237840</td>\n",
              "      <td>2019</td>\n",
              "      <td>3138401</td>\n",
              "      <td>Leopoldina</td>\n",
              "      <td>31</td>\n",
              "      <td>MG</td>\n",
              "      <td>18.0</td>\n",
              "      <td>F</td>\n",
              "      <td>1</td>\n",
              "      <td>3</td>\n",
              "      <td>...</td>\n",
              "      <td>B</td>\n",
              "      <td>B</td>\n",
              "      <td>A</td>\n",
              "      <td>E</td>\n",
              "      <td>A</td>\n",
              "      <td>B</td>\n",
              "      <td>B</td>\n",
              "      <td>579.66</td>\n",
              "      <td>579.66</td>\n",
              "      <td>579.66</td>\n",
              "    </tr>\n",
              "    <tr>\n",
              "      <th>3</th>\n",
              "      <td>190001237857</td>\n",
              "      <td>2019</td>\n",
              "      <td>3125101</td>\n",
              "      <td>Extrema</td>\n",
              "      <td>31</td>\n",
              "      <td>MG</td>\n",
              "      <td>18.0</td>\n",
              "      <td>F</td>\n",
              "      <td>1</td>\n",
              "      <td>3</td>\n",
              "      <td>...</td>\n",
              "      <td>D</td>\n",
              "      <td>B</td>\n",
              "      <td>A</td>\n",
              "      <td>D</td>\n",
              "      <td>B</td>\n",
              "      <td>C</td>\n",
              "      <td>B</td>\n",
              "      <td>528.52</td>\n",
              "      <td>528.52</td>\n",
              "      <td>528.52</td>\n",
              "    </tr>\n",
              "    <tr>\n",
              "      <th>4</th>\n",
              "      <td>190001241373</td>\n",
              "      <td>2019</td>\n",
              "      <td>3122306</td>\n",
              "      <td>Divinópolis</td>\n",
              "      <td>31</td>\n",
              "      <td>MG</td>\n",
              "      <td>20.0</td>\n",
              "      <td>M</td>\n",
              "      <td>1</td>\n",
              "      <td>1</td>\n",
              "      <td>...</td>\n",
              "      <td>B</td>\n",
              "      <td>B</td>\n",
              "      <td>A</td>\n",
              "      <td>E</td>\n",
              "      <td>B</td>\n",
              "      <td>A</td>\n",
              "      <td>B</td>\n",
              "      <td>530.80</td>\n",
              "      <td>530.80</td>\n",
              "      <td>530.80</td>\n",
              "    </tr>\n",
              "    <tr>\n",
              "      <th>5</th>\n",
              "      <td>190001241396</td>\n",
              "      <td>2019</td>\n",
              "      <td>3168309</td>\n",
              "      <td>Taquaraçu de Minas</td>\n",
              "      <td>31</td>\n",
              "      <td>MG</td>\n",
              "      <td>18.0</td>\n",
              "      <td>F</td>\n",
              "      <td>1</td>\n",
              "      <td>3</td>\n",
              "      <td>...</td>\n",
              "      <td>A</td>\n",
              "      <td>A</td>\n",
              "      <td>A</td>\n",
              "      <td>B</td>\n",
              "      <td>A</td>\n",
              "      <td>A</td>\n",
              "      <td>A</td>\n",
              "      <td>547.56</td>\n",
              "      <td>547.56</td>\n",
              "      <td>547.56</td>\n",
              "    </tr>\n",
              "    <tr>\n",
              "      <th>6</th>\n",
              "      <td>190001244958</td>\n",
              "      <td>2019</td>\n",
              "      <td>3164704</td>\n",
              "      <td>São Sebastião do Paraíso</td>\n",
              "      <td>31</td>\n",
              "      <td>MG</td>\n",
              "      <td>18.0</td>\n",
              "      <td>F</td>\n",
              "      <td>1</td>\n",
              "      <td>3</td>\n",
              "      <td>...</td>\n",
              "      <td>B</td>\n",
              "      <td>A</td>\n",
              "      <td>A</td>\n",
              "      <td>D</td>\n",
              "      <td>A</td>\n",
              "      <td>A</td>\n",
              "      <td>B</td>\n",
              "      <td>655.90</td>\n",
              "      <td>655.90</td>\n",
              "      <td>655.90</td>\n",
              "    </tr>\n",
              "    <tr>\n",
              "      <th>7</th>\n",
              "      <td>190001244962</td>\n",
              "      <td>2019</td>\n",
              "      <td>3122306</td>\n",
              "      <td>Divinópolis</td>\n",
              "      <td>31</td>\n",
              "      <td>MG</td>\n",
              "      <td>18.0</td>\n",
              "      <td>F</td>\n",
              "      <td>1</td>\n",
              "      <td>3</td>\n",
              "      <td>...</td>\n",
              "      <td>E</td>\n",
              "      <td>A</td>\n",
              "      <td>B</td>\n",
              "      <td>D</td>\n",
              "      <td>B</td>\n",
              "      <td>D</td>\n",
              "      <td>B</td>\n",
              "      <td>529.86</td>\n",
              "      <td>529.86</td>\n",
              "      <td>529.86</td>\n",
              "    </tr>\n",
              "    <tr>\n",
              "      <th>8</th>\n",
              "      <td>190001244978</td>\n",
              "      <td>2019</td>\n",
              "      <td>3118601</td>\n",
              "      <td>Contagem</td>\n",
              "      <td>31</td>\n",
              "      <td>MG</td>\n",
              "      <td>18.0</td>\n",
              "      <td>M</td>\n",
              "      <td>1</td>\n",
              "      <td>1</td>\n",
              "      <td>...</td>\n",
              "      <td>B</td>\n",
              "      <td>A</td>\n",
              "      <td>A</td>\n",
              "      <td>B</td>\n",
              "      <td>A</td>\n",
              "      <td>B</td>\n",
              "      <td>B</td>\n",
              "      <td>691.22</td>\n",
              "      <td>691.22</td>\n",
              "      <td>691.22</td>\n",
              "    </tr>\n",
              "    <tr>\n",
              "      <th>9</th>\n",
              "      <td>190001244980</td>\n",
              "      <td>2019</td>\n",
              "      <td>3152501</td>\n",
              "      <td>Pouso Alegre</td>\n",
              "      <td>31</td>\n",
              "      <td>MG</td>\n",
              "      <td>18.0</td>\n",
              "      <td>M</td>\n",
              "      <td>1</td>\n",
              "      <td>3</td>\n",
              "      <td>...</td>\n",
              "      <td>B</td>\n",
              "      <td>A</td>\n",
              "      <td>A</td>\n",
              "      <td>D</td>\n",
              "      <td>B</td>\n",
              "      <td>A</td>\n",
              "      <td>B</td>\n",
              "      <td>705.62</td>\n",
              "      <td>705.62</td>\n",
              "      <td>705.62</td>\n",
              "    </tr>\n",
              "  </tbody>\n",
              "</table>\n",
              "<p>10 rows × 116 columns</p>\n",
              "</div>\n",
              "    <div class=\"colab-df-buttons\">\n",
              "\n",
              "  <div class=\"colab-df-container\">\n",
              "    <button class=\"colab-df-convert\" onclick=\"convertToInteractive('df-f5f64fcf-ffc3-4552-99b3-c735de9aa39e')\"\n",
              "            title=\"Convert this dataframe to an interactive table.\"\n",
              "            style=\"display:none;\">\n",
              "\n",
              "  <svg xmlns=\"http://www.w3.org/2000/svg\" height=\"24px\" viewBox=\"0 -960 960 960\">\n",
              "    <path d=\"M120-120v-720h720v720H120Zm60-500h600v-160H180v160Zm220 220h160v-160H400v160Zm0 220h160v-160H400v160ZM180-400h160v-160H180v160Zm440 0h160v-160H620v160ZM180-180h160v-160H180v160Zm440 0h160v-160H620v160Z\"/>\n",
              "  </svg>\n",
              "    </button>\n",
              "\n",
              "  <style>\n",
              "    .colab-df-container {\n",
              "      display:flex;\n",
              "      gap: 12px;\n",
              "    }\n",
              "\n",
              "    .colab-df-convert {\n",
              "      background-color: #E8F0FE;\n",
              "      border: none;\n",
              "      border-radius: 50%;\n",
              "      cursor: pointer;\n",
              "      display: none;\n",
              "      fill: #1967D2;\n",
              "      height: 32px;\n",
              "      padding: 0 0 0 0;\n",
              "      width: 32px;\n",
              "    }\n",
              "\n",
              "    .colab-df-convert:hover {\n",
              "      background-color: #E2EBFA;\n",
              "      box-shadow: 0px 1px 2px rgba(60, 64, 67, 0.3), 0px 1px 3px 1px rgba(60, 64, 67, 0.15);\n",
              "      fill: #174EA6;\n",
              "    }\n",
              "\n",
              "    .colab-df-buttons div {\n",
              "      margin-bottom: 4px;\n",
              "    }\n",
              "\n",
              "    [theme=dark] .colab-df-convert {\n",
              "      background-color: #3B4455;\n",
              "      fill: #D2E3FC;\n",
              "    }\n",
              "\n",
              "    [theme=dark] .colab-df-convert:hover {\n",
              "      background-color: #434B5C;\n",
              "      box-shadow: 0px 1px 3px 1px rgba(0, 0, 0, 0.15);\n",
              "      filter: drop-shadow(0px 1px 2px rgba(0, 0, 0, 0.3));\n",
              "      fill: #FFFFFF;\n",
              "    }\n",
              "  </style>\n",
              "\n",
              "    <script>\n",
              "      const buttonEl =\n",
              "        document.querySelector('#df-f5f64fcf-ffc3-4552-99b3-c735de9aa39e button.colab-df-convert');\n",
              "      buttonEl.style.display =\n",
              "        google.colab.kernel.accessAllowed ? 'block' : 'none';\n",
              "\n",
              "      async function convertToInteractive(key) {\n",
              "        const element = document.querySelector('#df-f5f64fcf-ffc3-4552-99b3-c735de9aa39e');\n",
              "        const dataTable =\n",
              "          await google.colab.kernel.invokeFunction('convertToInteractive',\n",
              "                                                    [key], {});\n",
              "        if (!dataTable) return;\n",
              "\n",
              "        const docLinkHtml = 'Like what you see? Visit the ' +\n",
              "          '<a target=\"_blank\" href=https://colab.research.google.com/notebooks/data_table.ipynb>data table notebook</a>'\n",
              "          + ' to learn more about interactive tables.';\n",
              "        element.innerHTML = '';\n",
              "        dataTable['output_type'] = 'display_data';\n",
              "        await google.colab.output.renderOutput(dataTable, element);\n",
              "        const docLink = document.createElement('div');\n",
              "        docLink.innerHTML = docLinkHtml;\n",
              "        element.appendChild(docLink);\n",
              "      }\n",
              "    </script>\n",
              "  </div>\n",
              "\n",
              "\n",
              "<div id=\"df-56bfc050-14ff-4517-b8c6-29627aaf161f\">\n",
              "  <button class=\"colab-df-quickchart\" onclick=\"quickchart('df-56bfc050-14ff-4517-b8c6-29627aaf161f')\"\n",
              "            title=\"Suggest charts.\"\n",
              "            style=\"display:none;\">\n",
              "\n",
              "<svg xmlns=\"http://www.w3.org/2000/svg\" height=\"24px\"viewBox=\"0 0 24 24\"\n",
              "     width=\"24px\">\n",
              "    <g>\n",
              "        <path d=\"M19 3H5c-1.1 0-2 .9-2 2v14c0 1.1.9 2 2 2h14c1.1 0 2-.9 2-2V5c0-1.1-.9-2-2-2zM9 17H7v-7h2v7zm4 0h-2V7h2v10zm4 0h-2v-4h2v4z\"/>\n",
              "    </g>\n",
              "</svg>\n",
              "  </button>\n",
              "\n",
              "<style>\n",
              "  .colab-df-quickchart {\n",
              "      --bg-color: #E8F0FE;\n",
              "      --fill-color: #1967D2;\n",
              "      --hover-bg-color: #E2EBFA;\n",
              "      --hover-fill-color: #174EA6;\n",
              "      --disabled-fill-color: #AAA;\n",
              "      --disabled-bg-color: #DDD;\n",
              "  }\n",
              "\n",
              "  [theme=dark] .colab-df-quickchart {\n",
              "      --bg-color: #3B4455;\n",
              "      --fill-color: #D2E3FC;\n",
              "      --hover-bg-color: #434B5C;\n",
              "      --hover-fill-color: #FFFFFF;\n",
              "      --disabled-bg-color: #3B4455;\n",
              "      --disabled-fill-color: #666;\n",
              "  }\n",
              "\n",
              "  .colab-df-quickchart {\n",
              "    background-color: var(--bg-color);\n",
              "    border: none;\n",
              "    border-radius: 50%;\n",
              "    cursor: pointer;\n",
              "    display: none;\n",
              "    fill: var(--fill-color);\n",
              "    height: 32px;\n",
              "    padding: 0;\n",
              "    width: 32px;\n",
              "  }\n",
              "\n",
              "  .colab-df-quickchart:hover {\n",
              "    background-color: var(--hover-bg-color);\n",
              "    box-shadow: 0 1px 2px rgba(60, 64, 67, 0.3), 0 1px 3px 1px rgba(60, 64, 67, 0.15);\n",
              "    fill: var(--button-hover-fill-color);\n",
              "  }\n",
              "\n",
              "  .colab-df-quickchart-complete:disabled,\n",
              "  .colab-df-quickchart-complete:disabled:hover {\n",
              "    background-color: var(--disabled-bg-color);\n",
              "    fill: var(--disabled-fill-color);\n",
              "    box-shadow: none;\n",
              "  }\n",
              "\n",
              "  .colab-df-spinner {\n",
              "    border: 2px solid var(--fill-color);\n",
              "    border-color: transparent;\n",
              "    border-bottom-color: var(--fill-color);\n",
              "    animation:\n",
              "      spin 1s steps(1) infinite;\n",
              "  }\n",
              "\n",
              "  @keyframes spin {\n",
              "    0% {\n",
              "      border-color: transparent;\n",
              "      border-bottom-color: var(--fill-color);\n",
              "      border-left-color: var(--fill-color);\n",
              "    }\n",
              "    20% {\n",
              "      border-color: transparent;\n",
              "      border-left-color: var(--fill-color);\n",
              "      border-top-color: var(--fill-color);\n",
              "    }\n",
              "    30% {\n",
              "      border-color: transparent;\n",
              "      border-left-color: var(--fill-color);\n",
              "      border-top-color: var(--fill-color);\n",
              "      border-right-color: var(--fill-color);\n",
              "    }\n",
              "    40% {\n",
              "      border-color: transparent;\n",
              "      border-right-color: var(--fill-color);\n",
              "      border-top-color: var(--fill-color);\n",
              "    }\n",
              "    60% {\n",
              "      border-color: transparent;\n",
              "      border-right-color: var(--fill-color);\n",
              "    }\n",
              "    80% {\n",
              "      border-color: transparent;\n",
              "      border-right-color: var(--fill-color);\n",
              "      border-bottom-color: var(--fill-color);\n",
              "    }\n",
              "    90% {\n",
              "      border-color: transparent;\n",
              "      border-bottom-color: var(--fill-color);\n",
              "    }\n",
              "  }\n",
              "</style>\n",
              "\n",
              "  <script>\n",
              "    async function quickchart(key) {\n",
              "      const quickchartButtonEl =\n",
              "        document.querySelector('#' + key + ' button');\n",
              "      quickchartButtonEl.disabled = true;  // To prevent multiple clicks.\n",
              "      quickchartButtonEl.classList.add('colab-df-spinner');\n",
              "      try {\n",
              "        const charts = await google.colab.kernel.invokeFunction(\n",
              "            'suggestCharts', [key], {});\n",
              "      } catch (error) {\n",
              "        console.error('Error during call to suggestCharts:', error);\n",
              "      }\n",
              "      quickchartButtonEl.classList.remove('colab-df-spinner');\n",
              "      quickchartButtonEl.classList.add('colab-df-quickchart-complete');\n",
              "    }\n",
              "    (() => {\n",
              "      let quickchartButtonEl =\n",
              "        document.querySelector('#df-56bfc050-14ff-4517-b8c6-29627aaf161f button');\n",
              "      quickchartButtonEl.style.display =\n",
              "        google.colab.kernel.accessAllowed ? 'block' : 'none';\n",
              "    })();\n",
              "  </script>\n",
              "</div>\n",
              "    </div>\n",
              "  </div>\n"
            ]
          },
          "metadata": {},
          "execution_count": 4
        }
      ]
    },
    {
      "cell_type": "markdown",
      "source": [
        "## Análise Exploratória (Notas)"
      ],
      "metadata": {
        "id": "vVLIq8-T_rze"
      }
    },
    {
      "cell_type": "code",
      "source": [
        "import matplotlib.pyplot as plt\n",
        "import seaborn as sns\n",
        "\n",
        "# Lista das colunas de notas\n",
        "notas_cols = [\"NU_NOTA_CN\", \"NU_NOTA_CH\", \"NU_NOTA_MT\", \"NU_NOTA_REDACAO\", \"NU_NOTA_LC\"]\n",
        "\n",
        "# Distribuição das notas\n",
        "plt.figure(figsize=(16, 10))\n",
        "for col in notas_cols:\n",
        "    sns.kdeplot(df[col], label=col, fill=True)\n",
        "\n",
        "plt.title(\"Distribuição das Notas\")\n",
        "plt.xlabel(\"Nota\")\n",
        "plt.ylabel(\"Densidade\")\n",
        "plt.legend()\n",
        "plt.grid(True, which=\"both\", ls=\"--\", c='0.65')\n",
        "plt.show()\n"
      ],
      "metadata": {
        "colab": {
          "base_uri": "https://localhost:8080/",
          "height": 711
        },
        "id": "58kWHV-8_sGW",
        "outputId": "7204a2f6-08f9-415a-b31d-c70eb5b9ea56"
      },
      "execution_count": 5,
      "outputs": [
        {
          "output_type": "display_data",
          "data": {
            "text/plain": [
              "<Figure size 1600x1000 with 1 Axes>"
            ],
            "image/png": "[encoded data removed]"
          },
          "metadata": {}
        }
      ]
    },
    {
      "cell_type": "markdown",
      "source": [
        "## Criando a variável 'TARGET'\n",
        "De acordo com o escopo do desafio, os pesos para cada nota são:\n",
        "\n",
        "- NU_NOTA_CN → 1\n",
        "- NU_NOTA_CH → 3\n",
        "- NU_NOTA_LC → 2\n",
        "- NU_NOTA_MT → 1\n",
        "- NU_NOTA_REDACAO → 3\n"
      ],
      "metadata": {
        "id": "LKF2BahJtXXr"
      }
    },
    {
      "cell_type": "code",
      "source": [
        "df['MEDIA_PONDERADA'] = (df['NU_NOTA_CN'] +\n",
        "                         3 * df['NU_NOTA_CH'] +\n",
        "                         df['NU_NOTA_MT'] +\n",
        "                         3 * df['NU_NOTA_REDACAO'] +\n",
        "                         2 * df['NU_NOTA_LC']) / 10"
      ],
      "metadata": {
        "id": "lYabJ27EveSn"
      },
      "execution_count": 6,
      "outputs": []
    },
    {
      "cell_type": "markdown",
      "source": [
        "## Preparação dos Dados"
      ],
      "metadata": {
        "id": "-o3npT4bG4ff"
      }
    },
    {
      "cell_type": "code",
      "source": [
        "# Definindo X e y\n",
        "X = df.drop(columns=['MEDIA_PONDERADA'])\n",
        "y = df['MEDIA_PONDERADA']"
      ],
      "metadata": {
        "id": "A6cUAv4jvkc1"
      },
      "execution_count": 7,
      "outputs": []
    },
    {
      "cell_type": "markdown",
      "source": [
        "## Pré-Processamento"
      ],
      "metadata": {
        "id": "FD05fY_0GuyS"
      }
    },
    {
      "cell_type": "markdown",
      "source": [
        "### Features Categóricas - One Hot Encoding"
      ],
      "metadata": {
        "id": "H9bXfiPnv_Mz"
      }
    },
    {
      "cell_type": "code",
      "source": [
        "# Identificando colunas categóricas\n",
        "categorical_cols = X.select_dtypes(include=['object']).columns.tolist()\n",
        "\n",
        "from sklearn.preprocessing import OneHotEncoder\n",
        "\n",
        "# Inicializando o encoder\n",
        "encoder = OneHotEncoder(drop='first', sparse=False)\n",
        "\n",
        "# Aplicando o encoder às colunas\n",
        "X_encoded = pd.DataFrame(encoder.fit_transform(X[categorical_cols]))\n",
        "\n",
        "# Nomeando as colunas\n",
        "X_encoded.columns = encoder.get_feature_names_out(categorical_cols)\n",
        "\n",
        "# Dropando as colunas categóricas originais\n",
        "X.drop(categorical_cols, axis=1, inplace=True)\n",
        "\n",
        "# Concatenando o resultado codificado ao dataset original\n",
        "X = pd.concat([X, X_encoded], axis=1)\n"
      ],
      "metadata": {
        "colab": {
          "base_uri": "https://localhost:8080/"
        },
        "id": "jry-SMTTwMgk",
        "outputId": "4a5d710e-2b44-4787-94bd-8dd671a09d96"
      },
      "execution_count": 8,
      "outputs": [
        {
          "output_type": "stream",
          "name": "stderr",
          "text": [
            "/usr/local/lib/python3.10/dist-packages/sklearn/preprocessing/_encoders.py:868: FutureWarning: `sparse` was renamed to `sparse_output` in version 1.2 and will be removed in 1.4. `sparse_output` is ignored unless you leave `sparse` to its default value.\n",
            "  warnings.warn(\n"
          ]
        }
      ]
    },
    {
      "cell_type": "markdown",
      "source": [
        "### Normalização de Features - Standard Scaler"
      ],
      "metadata": {
        "id": "41pV5qHowlUU"
      }
    },
    {
      "cell_type": "code",
      "source": [
        "from sklearn.preprocessing import StandardScaler\n",
        "\n",
        "# Inicializando o scaler\n",
        "scaler = StandardScaler()\n",
        "\n",
        "# Transformando os dados\n",
        "X_scaled = scaler.fit_transform(X)\n",
        "\n",
        "# Transformando o resultado em DataFrame\n",
        "X = pd.DataFrame(X_scaled, columns=X.columns)"
      ],
      "metadata": {
        "id": "aj5v1yDRwoJk"
      },
      "execution_count": 9,
      "outputs": []
    },
    {
      "cell_type": "markdown",
      "source": [
        "### Divisão dos Dados em Treino e Teste"
      ],
      "metadata": {
        "id": "yB2qg6RoxK_q"
      }
    },
    {
      "cell_type": "code",
      "source": [
        "from sklearn.model_selection import train_test_split\n",
        "\n",
        "# Dividindo o conjunto de dados em treino e teste\n",
        "X_train, X_test, y_train, y_test = train_test_split(X, y, test_size=0.2, random_state=11)\n"
      ],
      "metadata": {
        "id": "idZWula1xLcE"
      },
      "execution_count": 10,
      "outputs": []
    },
    {
      "cell_type": "markdown",
      "source": [
        "\n",
        "\n",
        "---\n",
        "\n"
      ],
      "metadata": {
        "id": "Qc9k8-CAG3Jq"
      }
    },
    {
      "cell_type": "markdown",
      "source": [
        "## Modelagem"
      ],
      "metadata": {
        "id": "u4KhIC5rGvfn"
      }
    },
    {
      "cell_type": "markdown",
      "source": [
        "### Escolha do Modelo 1\n",
        "\n",
        "Para esse desafio, iremos começar com um modelo de Regressão Linear"
      ],
      "metadata": {
        "id": "r1OSZzScG5Fm"
      }
    },
    {
      "cell_type": "code",
      "source": [
        "from sklearn.linear_model import LinearRegression\n",
        "\n",
        "# Inicializando o modelo\n",
        "lr = LinearRegression()"
      ],
      "metadata": {
        "id": "Iv_MbtgTyDwB"
      },
      "execution_count": 11,
      "outputs": []
    },
    {
      "cell_type": "markdown",
      "source": [
        "### Treinamento e Avaliação do Modelo"
      ],
      "metadata": {
        "id": "WTm2HIWdyHZd"
      }
    },
    {
      "cell_type": "code",
      "source": [
        "from sklearn.metrics import mean_absolute_error, mean_squared_error, r2_score\n",
        "from sklearn.model_selection import cross_val_score\n",
        "\n",
        "# Treinando o modelo\n",
        "lr.fit(X_train, y_train)\n",
        "\n",
        "# Usando cross-validation com o modelo de Regressão Linear\n",
        "scores = cross_val_score(lr, X_train, y_train, cv=5, scoring='r2')\n",
        "print(\"R2 scores from cross-validation:\", scores)\n",
        "print(\"Mean R2 score from cross-validation:\", scores.mean())\n",
        "print(\"Standard Deviation of R2 scores from cross-validation:\", scores.std())\n",
        "\n",
        "# Fazendo previsões no conjunto de teste\n",
        "y_pred = lr.predict(X_test)\n",
        "\n",
        "# Calculando as métricas de avaliação\n",
        "mae = mean_absolute_error(y_test, y_pred)\n",
        "mse = mean_squared_error(y_test, y_pred)\n",
        "rmse = mean_squared_error(y_test, y_pred, squared=False)\n",
        "r2 = r2_score(y_test, y_pred)\n",
        "\n",
        "print(f\"\\nMean Absolute Error (MAE): {mae}\")\n",
        "print(f\"Mean Squared Error (MSE): {mse}\")\n",
        "print(f\"Root Mean Squared Error (RMSE): {rmse}\")\n",
        "print(f\"R-squared (R2) on test set: {r2}\")\n"
      ],
      "metadata": {
        "colab": {
          "base_uri": "https://localhost:8080/"
        },
        "id": "gqI_CDF3yHtx",
        "outputId": "51dc1801-5601-42c7-a750-2e8e5a315bc9"
      },
      "execution_count": 12,
      "outputs": [
        {
          "output_type": "stream",
          "name": "stdout",
          "text": [
            "R2 scores from cross-validation: [0.98615962 0.98186591 0.94953071 0.98699151 0.96108866]\n",
            "Mean R2 score from cross-validation: 0.9731272828837287\n",
            "Standard Deviation of R2 scores from cross-validation: 0.01510065368657657\n",
            "\n",
            "Mean Absolute Error (MAE): 0.3795306058266406\n",
            "Mean Squared Error (MSE): 218.8653306659171\n",
            "Root Mean Squared Error (RMSE): 14.794097832105786\n",
            "R-squared (R2) on test set: 0.9731175182457183\n"
          ]
        }
      ]
    },
    {
      "cell_type": "markdown",
      "source": [
        "### Análise dos Resultados do Modelo\n",
        "\n",
        "A validação cruzada é uma técnica robusta para avaliar a capacidade de generalização de um modelo em um conjunto de dados. Foi realizada uma validação cruzada de 5 divisões, e os resultados dos coeficientes de determinação ($R^2$) em cada divisão foram:\n",
        "\n",
        "**$R^2$: [0.9861,0.9819,0.9495,0.9870,0.9611]**\n",
        "\n",
        "- Média $R^2$: A média dos $R^2$ das 5 divisões foi 0.9731, indicando que, em média, o modelo explica 97.31% da variância do conjunto de treinamento. Esta é uma pontuação extremamente alta, sugerindo que o modelo se ajusta bem aos dados.\n",
        "\n",
        "- Desvio padrão $R^2$: O desvio padrão de 0.0151 indica quão dispersos estão os $R^2$ ao redor da média. Um desvio padrão baixo, como esse, sugere que o modelo é consistentemente bom independentemente da divisão dos dados.\n",
        "\n",
        "\n",
        "Ao avaliar o modelo no conjunto de teste, as métricas foram as seguintes:\n",
        "\n",
        "- Mean Absolute Error (MAE): 0.3795 - Esta métrica indica o erro médio absoluto entre os valores reais e as previsões. Em outras palavras, em média, o modelo erra a nota média ponderada por 0.3795 pontos.\n",
        "\n",
        "- Mean Squared Error (MSE): 218.8653 - O MSE penaliza erros maiores, tornando-se mais útil quando erros maiores são particularmente indesejáveis.\n",
        "\n",
        "- Root Mean Squared Error (RMSE): 14.7941 - Esta é a raiz quadrada do MSE e tem a mesma unidade que a variável de destino (nota média ponderada neste caso). Assim como o MAE, indica o quanto o modelo erra, em média, mas dando mais peso a erros maiores.\n",
        "\n",
        "- R-squared ($R^2$) on test set: 0.9731 - Similar à média R2 da validação cruzada, esta métrica indica que o modelo explica 97.31% da variância no conjunto de teste."
      ],
      "metadata": {
        "id": "FE-ckhQ2yk6c"
      }
    },
    {
      "cell_type": "markdown",
      "source": [
        "### Conclusão sobre o Modelo\n",
        "O modelo de regressão linear apresentou um desempenho notavelmente alto tanto no treinamento (como evidenciado pela validação cruzada) quanto no teste. A consistência da métrica R2 entre treinamento e teste sugere que o modelo é robusto e generaliza bem para novos dados. O MAE e RMSE baixos indicam que o modelo faz previsões bastante precisas para a nota média ponderada."
      ],
      "metadata": {
        "id": "D5hU9nQM1p4I"
      }
    },
    {
      "cell_type": "markdown",
      "source": [
        "\n",
        "\n",
        "---\n",
        "\n"
      ],
      "metadata": {
        "id": "uq-RpTEY1bZr"
      }
    },
    {
      "cell_type": "markdown",
      "source": [
        "### Escolha do Modelo 2\n",
        "Agora iremos implementar o XGBoost, modelo eficaz que, além de fornecer diversas funcionalidades (como lidar com NAN's) lida também com a questão de regularização"
      ],
      "metadata": {
        "id": "XTJiDoIQ4jDl"
      }
    },
    {
      "cell_type": "code",
      "source": [
        "!pip install xgboost\n"
      ],
      "metadata": {
        "colab": {
          "base_uri": "https://localhost:8080/"
        },
        "id": "DMDjww8G4juz",
        "outputId": "980cc2bc-0779-4fce-cdba-3085be8b7079"
      },
      "execution_count": 13,
      "outputs": [
        {
          "output_type": "stream",
          "name": "stdout",
          "text": [
            "Requirement already satisfied: xgboost in /usr/local/lib/python3.10/dist-packages (1.7.6)\n",
            "Requirement already satisfied: numpy in /usr/local/lib/python3.10/dist-packages (from xgboost) (1.23.5)\n",
            "Requirement already satisfied: scipy in /usr/local/lib/python3.10/dist-packages (from xgboost) (1.10.1)\n"
          ]
        }
      ]
    },
    {
      "cell_type": "code",
      "source": [
        "import xgboost as xgb\n",
        "\n",
        "# Convertendo os dados para estrutura DMatrix do XGBoost\n",
        "data_dmatrix = xgb.DMatrix(data=X,label=y)\n",
        "\n",
        "# Criando e treinando o modelo\n",
        "xg_reg = xgb.XGBRegressor(objective ='reg:squarederror', colsample_bytree = 0.3, learning_rate = 0.1,\n",
        "                max_depth = 5, alpha = 10, n_estimators = 100)\n",
        "\n",
        "xg_reg.fit(X_train,y_train)\n"
      ],
      "metadata": {
        "colab": {
          "base_uri": "https://localhost:8080/",
          "height": 248
        },
        "id": "t7-MOsOC6Zc1",
        "outputId": "976ee9eb-e7d1-4de9-fb30-2755ec976f75"
      },
      "execution_count": 14,
      "outputs": [
        {
          "output_type": "execute_result",
          "data": {
            "text/plain": [
              "XGBRegressor(alpha=10, base_score=None, booster=None, callbacks=None,\n",
              "             colsample_bylevel=None, colsample_bynode=None,\n",
              "             colsample_bytree=0.3, early_stopping_rounds=None,\n",
              "             enable_categorical=False, eval_metric=None, feature_types=None,\n",
              "             gamma=None, gpu_id=None, grow_policy=None, importance_type=None,\n",
              "             interaction_constraints=None, learning_rate=0.1, max_bin=None,\n",
              "             max_cat_threshold=None, max_cat_to_onehot=None,\n",
              "             max_delta_step=None, max_depth=5, max_leaves=None,\n",
              "             min_child_weight=None, missing=nan, monotone_constraints=None,\n",
              "             n_estimators=100, n_jobs=None, num_parallel_tree=None,\n",
              "             predictor=None, ...)"
            ],
            "text/html": [
              "<style>#sk-container-id-1 {color: black;background-color: white;}#sk-container-id-1 pre{padding: 0;}#sk-container-id-1 div.sk-toggleable {background-color: white;}#sk-container-id-1 label.sk-toggleable__label {cursor: pointer;display: block;width: 100%;margin-bottom: 0;padding: 0.3em;box-sizing: border-box;text-align: center;}#sk-container-id-1 label.sk-toggleable__label-arrow:before {content: \"▸\";float: left;margin-right: 0.25em;color: #696969;}#sk-container-id-1 label.sk-toggleable__label-arrow:hover:before {color: black;}#sk-container-id-1 div.sk-estimator:hover label.sk-toggleable__label-arrow:before {color: black;}#sk-container-id-1 div.sk-toggleable__content {max-height: 0;max-width: 0;overflow: hidden;text-align: left;background-color: #f0f8ff;}#sk-container-id-1 div.sk-toggleable__content pre {margin: 0.2em;color: black;border-radius: 0.25em;background-color: #f0f8ff;}#sk-container-id-1 input.sk-toggleable__control:checked~div.sk-toggleable__content {max-height: 200px;max-width: 100%;overflow: auto;}#sk-container-id-1 input.sk-toggleable__control:checked~label.sk-toggleable__label-arrow:before {content: \"▾\";}#sk-container-id-1 div.sk-estimator input.sk-toggleable__control:checked~label.sk-toggleable__label {background-color: #d4ebff;}#sk-container-id-1 div.sk-label input.sk-toggleable__control:checked~label.sk-toggleable__label {background-color: #d4ebff;}#sk-container-id-1 input.sk-hidden--visually {border: 0;clip: rect(1px 1px 1px 1px);clip: rect(1px, 1px, 1px, 1px);height: 1px;margin: -1px;overflow: hidden;padding: 0;position: absolute;width: 1px;}#sk-container-id-1 div.sk-estimator {font-family: monospace;background-color: #f0f8ff;border: 1px dotted black;border-radius: 0.25em;box-sizing: border-box;margin-bottom: 0.5em;}#sk-container-id-1 div.sk-estimator:hover {background-color: #d4ebff;}#sk-container-id-1 div.sk-parallel-item::after {content: \"\";width: 100%;border-bottom: 1px solid gray;flex-grow: 1;}#sk-container-id-1 div.sk-label:hover label.sk-toggleable__label {background-color: #d4ebff;}#sk-container-id-1 div.sk-serial::before {content: \"\";position: absolute;border-left: 1px solid gray;box-sizing: border-box;top: 0;bottom: 0;left: 50%;z-index: 0;}#sk-container-id-1 div.sk-serial {display: flex;flex-direction: column;align-items: center;background-color: white;padding-right: 0.2em;padding-left: 0.2em;position: relative;}#sk-container-id-1 div.sk-item {position: relative;z-index: 1;}#sk-container-id-1 div.sk-parallel {display: flex;align-items: stretch;justify-content: center;background-color: white;position: relative;}#sk-container-id-1 div.sk-item::before, #sk-container-id-1 div.sk-parallel-item::before {content: \"\";position: absolute;border-left: 1px solid gray;box-sizing: border-box;top: 0;bottom: 0;left: 50%;z-index: -1;}#sk-container-id-1 div.sk-parallel-item {display: flex;flex-direction: column;z-index: 1;position: relative;background-color: white;}#sk-container-id-1 div.sk-parallel-item:first-child::after {align-self: flex-end;width: 50%;}#sk-container-id-1 div.sk-parallel-item:last-child::after {align-self: flex-start;width: 50%;}#sk-container-id-1 div.sk-parallel-item:only-child::after {width: 0;}#sk-container-id-1 div.sk-dashed-wrapped {border: 1px dashed gray;margin: 0 0.4em 0.5em 0.4em;box-sizing: border-box;padding-bottom: 0.4em;background-color: white;}#sk-container-id-1 div.sk-label label {font-family: monospace;font-weight: bold;display: inline-block;line-height: 1.2em;}#sk-container-id-1 div.sk-label-container {text-align: center;}#sk-container-id-1 div.sk-container {/* jupyter's `normalize.less` sets `[hidden] { display: none; }` but bootstrap.min.css set `[hidden] { display: none !important; }` so we also need the `!important` here to be able to override the default hidden behavior on the sphinx rendered scikit-learn.org. See: https://github.com/scikit-learn/scikit-learn/issues/21755 */display: inline-block !important;position: relative;}#sk-container-id-1 div.sk-text-repr-fallback {display: none;}</style><div id=\"sk-container-id-1\" class=\"sk-top-container\"><div class=\"sk-text-repr-fallback\"><pre>XGBRegressor(alpha=10, base_score=None, booster=None, callbacks=None,\n",
              "             colsample_bylevel=None, colsample_bynode=None,\n",
              "             colsample_bytree=0.3, early_stopping_rounds=None,\n",
              "             enable_categorical=False, eval_metric=None, feature_types=None,\n",
              "             gamma=None, gpu_id=None, grow_policy=None, importance_type=None,\n",
              "             interaction_constraints=None, learning_rate=0.1, max_bin=None,\n",
              "             max_cat_threshold=None, max_cat_to_onehot=None,\n",
              "             max_delta_step=None, max_depth=5, max_leaves=None,\n",
              "             min_child_weight=None, missing=nan, monotone_constraints=None,\n",
              "             n_estimators=100, n_jobs=None, num_parallel_tree=None,\n",
              "             predictor=None, ...)</pre><b>In a Jupyter environment, please rerun this cell to show the HTML representation or trust the notebook. <br />On GitHub, the HTML representation is unable to render, please try loading this page with nbviewer.org.</b></div><div class=\"sk-container\" hidden><div class=\"sk-item\"><div class=\"sk-estimator sk-toggleable\"><input class=\"sk-toggleable__control sk-hidden--visually\" id=\"sk-estimator-id-1\" type=\"checkbox\" checked><label for=\"sk-estimator-id-1\" class=\"sk-toggleable__label sk-toggleable__label-arrow\">XGBRegressor</label><div class=\"sk-toggleable__content\"><pre>XGBRegressor(alpha=10, base_score=None, booster=None, callbacks=None,\n",
              "             colsample_bylevel=None, colsample_bynode=None,\n",
              "             colsample_bytree=0.3, early_stopping_rounds=None,\n",
              "             enable_categorical=False, eval_metric=None, feature_types=None,\n",
              "             gamma=None, gpu_id=None, grow_policy=None, importance_type=None,\n",
              "             interaction_constraints=None, learning_rate=0.1, max_bin=None,\n",
              "             max_cat_threshold=None, max_cat_to_onehot=None,\n",
              "             max_delta_step=None, max_depth=5, max_leaves=None,\n",
              "             min_child_weight=None, missing=nan, monotone_constraints=None,\n",
              "             n_estimators=100, n_jobs=None, num_parallel_tree=None,\n",
              "             predictor=None, ...)</pre></div></div></div></div></div>"
            ]
          },
          "metadata": {},
          "execution_count": 14
        }
      ]
    },
    {
      "cell_type": "markdown",
      "source": [
        "### Fazendo previsões"
      ],
      "metadata": {
        "id": "9z8U82RN6mfH"
      }
    },
    {
      "cell_type": "code",
      "source": [
        "y_pred = xg_reg.predict(X_test)\n"
      ],
      "metadata": {
        "id": "Y0wqFVlK6m1U"
      },
      "execution_count": 15,
      "outputs": []
    },
    {
      "cell_type": "markdown",
      "source": [
        "### Avaliação do Modelo"
      ],
      "metadata": {
        "id": "pObUGBjq6qpl"
      }
    },
    {
      "cell_type": "code",
      "source": [
        "from sklearn.metrics import mean_absolute_error, mean_squared_error, r2_score\n",
        "\n",
        "# Fazendo previsões com o modelo\n",
        "y_pred = xg_reg.predict(X_test)\n",
        "\n",
        "# Calculando as métricas de avaliação\n",
        "mae = mean_absolute_error(y_test, y_pred)\n",
        "mse = mean_squared_error(y_test, y_pred)\n",
        "rmse = mean_squared_error(y_test, y_pred, squared=False)\n",
        "r2 = r2_score(y_test, y_pred)\n",
        "\n",
        "print(f\"Mean Absolute Error (MAE): {mae}\")\n",
        "print(f\"Mean Squared Error (MSE): {mse}\")\n",
        "print(f\"Root Mean Squared Error (RMSE): {rmse}\")\n",
        "print(f\"R-squared (R2): {r2}\")\n"
      ],
      "metadata": {
        "colab": {
          "base_uri": "https://localhost:8080/"
        },
        "id": "8H4gToaW6q3-",
        "outputId": "185ed58b-8c1b-46d3-9255-61afa87bd339"
      },
      "execution_count": 16,
      "outputs": [
        {
          "output_type": "stream",
          "name": "stdout",
          "text": [
            "Mean Absolute Error (MAE): 1.835999379281981\n",
            "Mean Squared Error (MSE): 5.544381885671821\n",
            "Root Mean Squared Error (RMSE): 2.3546511176120806\n",
            "R-squared (R2): 0.9993190024915009\n"
          ]
        }
      ]
    },
    {
      "cell_type": "markdown",
      "source": [
        "### Otimização de Hiperparâmetros"
      ],
      "metadata": {
        "id": "e9bzvO-H2ALQ"
      }
    },
    {
      "cell_type": "code",
      "source": [
        "# GridSearch para encontrar a melhor combinação de hiperparâmetros\n",
        "\n",
        "from sklearn.model_selection import GridSearchCV\n",
        "\n",
        "# Definindo a grade de hiperparâmetros\n",
        "param_grid = {\n",
        "    'learning_rate': [0.01, 0.1, 0.5],\n",
        "    'max_depth': [3, 5, 7, 10],\n",
        "    'min_child_weight': [1, 3, 5],\n",
        "    'subsample': [0.5, 0.7, 1.0],\n",
        "    'colsample_bytree': [0.5, 0.7, 1.0],\n",
        "    'n_estimators' : [100, 200, 500]\n",
        "}\n",
        "\n",
        "# Instanciando o GridSearch\n",
        "grid_search = GridSearchCV(estimator=xg_reg, param_grid=param_grid,\n",
        "                           scoring='r2', cv=3, verbose=2, n_jobs=-1)\n",
        "\n",
        "# Aplicando o GridSearch\n",
        "grid_search.fit(X_train, y_train)\n",
        "\n",
        "# Mostrando os melhores hiperparâmetros\n",
        "print(\"Melhores hiperparâmetros encontrados: \", grid_search.best_params_)\n",
        "\n",
        "# Usando o melhor modelo encontrado pelo GridSearch\n",
        "best_xgb = grid_search.best_estimator_\n",
        "\n",
        "# Fazendo previsões com o melhor modelo\n",
        "y_pred = best_xgb.predict(X_test)\n",
        "\n",
        "# Calculando as métricas de avaliação\n",
        "mae = mean_absolute_error(y_test, y_pred)\n",
        "mse = mean_squared_error(y_test, y_pred)\n",
        "rmse = mean_squared_error(y_test, y_pred, squared=False)\n",
        "r2 = r2_score(y_test, y_pred)\n",
        "\n",
        "print(f\"Mean Absolute Error (MAE): {mae}\")\n",
        "print(f\"Mean Squared Error (MSE): {mse}\")\n",
        "print(f\"Root Mean Squared Error (RMSE): {rmse}\")\n",
        "print(f\"R-squared (R2): {r2}\")"
      ],
      "metadata": {
        "colab": {
          "base_uri": "https://localhost:8080/"
        },
        "id": "iUh9sJ8_2Aj9",
        "outputId": "89fab5e2-2d6e-417b-973c-bf30147ab4be"
      },
      "execution_count": null,
      "outputs": [
        {
          "output_type": "stream",
          "name": "stdout",
          "text": [
            "Fitting 3 folds for each of 972 candidates, totalling 2916 fits\n"
          ]
        }
      ]
    },
    {
      "cell_type": "markdown",
      "source": [
        "### Avaliação do Modelo Ajustado"
      ],
      "metadata": {
        "id": "euW39Nty2A2E"
      }
    },
    {
      "cell_type": "code",
      "source": [
        "# Usar o melhor modelo encontrado pelo GridSearchCV para fazer previsões no conjunto de teste\n",
        "y_pred_otimizado = grid_search.best_estimator_.predict(X_test)\n",
        "\n",
        "# Calculando as métricas de avaliação\n",
        "mae_otimizado = mean_absolute_error(y_test, y_pred_otimizado)\n",
        "mse_otimizado = mean_squared_error(y_test, y_pred_otimizado)\n",
        "rmse_otimizado = mean_squared_error(y_test, y_pred_otimizado, squared=False)\n",
        "r2_otimizado = r2_score(y_test, y_pred_otimizado)\n",
        "\n",
        "print(f\"Mean Absolute Error (MAE) com otimização: {mae_otimizado}\")\n",
        "print(f\"Mean Squared Error (MSE) com otimização: {mse_otimizado}\")\n",
        "print(f\"Root Mean Squared Error (RMSE) com otimização: {rmse_otimizado}\")\n",
        "print(f\"R-squared (R2) com otimização: {r2_otimizado}\")\n"
      ],
      "metadata": {
        "id": "6rRS8D4q2BIX"
      },
      "execution_count": null,
      "outputs": []
    },
    {
      "cell_type": "markdown",
      "source": [
        "### Feature Importance"
      ],
      "metadata": {
        "id": "KEqUZkKPBSgG"
      }
    },
    {
      "cell_type": "code",
      "source": [
        "import xgboost as xgb\n",
        "import matplotlib.pyplot as plt\n",
        "\n",
        "# Plotando a importância das features\n",
        "xgb.plot_importance(grid_search.best_estimator_, importance_type='weight')\n",
        "plt.show()\n"
      ],
      "metadata": {
        "id": "b_Fa7N2XBSvb"
      },
      "execution_count": null,
      "outputs": []
    },
    {
      "cell_type": "markdown",
      "source": [
        "### Considerações Finais e Recomendações"
      ],
      "metadata": {
        "id": "dxbx4K1GBS-a"
      }
    },
    {
      "cell_type": "markdown",
      "source": [
        "Como o modelo otimizado se compara ao original?\n",
        "Os hiperparâmetros otimizados fazem sentido intuitivamente?\n",
        "Existem variáveis que parecem não contribuir muito para o modelo? Seria benéfico tentar removê-las e treinar novamente?"
      ],
      "metadata": {
        "id": "EN45nEQKBj6S"
      }
    },
    {
      "cell_type": "markdown",
      "source": [
        "### Salvando o modelo para Deployment"
      ],
      "metadata": {
        "id": "XVS2fJtDBqWC"
      }
    },
    {
      "cell_type": "code",
      "source": [
        "import joblib\n",
        "\n",
        "# Salvar o modelo\n",
        "joblib.dump(grid_search.best_estimator_, 'xgboost_model.pkl')\n"
      ],
      "metadata": {
        "id": "N9w-zXowBTaK"
      },
      "execution_count": null,
      "outputs": []
    },
    {
      "cell_type": "markdown",
      "source": [],
      "metadata": {
        "id": "6lINOvhjBTty"
      }
    },
    {
      "cell_type": "code",
      "source": [],
      "metadata": {
        "id": "K75h6qQpBUNb"
      },
      "execution_count": null,
      "outputs": []
    },
    {
      "cell_type": "markdown",
      "source": [
        "\n",
        "\n",
        "---\n",
        "\n"
      ],
      "metadata": {
        "id": "_3QGejqn1-3g"
      }
    },
    {
      "cell_type": "markdown",
      "source": [
        "### Comparação entre os resultados de ambos os modelos\n",
        "\n"
      ],
      "metadata": {
        "id": "XLB1AcQr6sbZ"
      }
    },
    {
      "cell_type": "markdown",
      "source": [
        "Com base nos resultados obtidos:\n",
        "\n",
        "**Regressão Linear:**\n",
        "- MAE: 0.3795\n",
        "- MSE: 218.8653\n",
        "- RMSE: 14.7941\n",
        "- $R^2$: 0.9731\n",
        "\n",
        "**XGBoost:**\n",
        "- MAE: 1.8360\n",
        "- MSE: 5.5444\n",
        "- RMSE: 2.3547\n",
        "- $R^2$: 0.9993\n",
        "\n",
        "### Comparação:\n",
        "- Erro Médio Absoluto (MAE): O MAE para o XGBoost é significativamente maior do que para a regressão linear. Isso indica que, em média, as previsões do XGBoost estão um pouco mais distantes dos valores reais em comparação com a regressão linear.\n",
        "\n",
        "- Erro Quadrático Médio (MSE) e Raiz do Erro Quadrático Médio (RMSE): Ambas as métricas são consideravelmente menores no XGBoost em comparação com a regressão linear. Isto é uma boa indicação, pois sugere que os erros do XGBoost, em geral, são menores e menos variáveis.\n",
        "\n",
        "- $R^2$(Coeficiente de Determinação): O valor de $R^2$ para o XGBoost é quase perfeito (0.9993), o que indica que o modelo explica quase toda a variabilidade dos dados. Em comparação, a regressão linear tem um $R^2$ de 0.9731, que ainda é muito bom, mas não tão alto quanto o XGBoost.\n",
        "\n"
      ],
      "metadata": {
        "id": "x1VvqyMD73vW"
      }
    },
    {
      "cell_type": "markdown",
      "source": [
        "### Conclusão:\n",
        "Ambos os modelos têm um desempenho impressionante na previsão das notas médias ponderadas. No entanto, o XGBoost supera a regressão linear em termos de precisão, com um\n",
        "$R^2$\n",
        "  mais alto e valores MSE e RMSE mais baixos. O único ponto de cautela é o MAE ligeiramente mais alto do XGBoost, mas, em geral, o XGBoost parece ser o modelo superior neste caso."
      ],
      "metadata": {
        "id": "vyGGQRFE5JRQ"
      }
    },
    {
      "cell_type": "markdown",
      "source": [
        "\n",
        "\n",
        "---\n",
        "\n"
      ],
      "metadata": {
        "id": "6_ejA5DR1e_X"
      }
    },
    {
      "cell_type": "markdown",
      "source": [
        "## AutoML"
      ],
      "metadata": {
        "id": "l562MM8u8wvC"
      }
    },
    {
      "cell_type": "markdown",
      "source": [
        "### Análise Exploratória (Notas)"
      ],
      "metadata": {
        "id": "XfqLuI0D_60c"
      }
    },
    {
      "cell_type": "code",
      "source": [
        "import matplotlib.pyplot as plt\n",
        "import seaborn as sns\n",
        "\n",
        "# Lista das colunas de notas\n",
        "notas_cols = [\"NU_NOTA_CN\", \"NU_NOTA_CH\", \"NU_NOTA_MT\", \"NU_NOTA_REDACAO\", \"NU_NOTA_LC\"]\n",
        "\n",
        "# Distribuição das notas\n",
        "plt.figure(figsize=(16, 10))\n",
        "for col in notas_cols:\n",
        "    sns.kdeplot(df[col], label=col, fill=True)\n",
        "\n",
        "plt.title(\"Distribuição das Notas\")\n",
        "plt.xlabel(\"Nota\")\n",
        "plt.ylabel(\"Densidade\")\n",
        "plt.legend()\n",
        "plt.grid(True, which=\"both\", ls=\"--\", c='0.65')\n",
        "plt.show()\n"
      ],
      "metadata": {
        "id": "0JtGWSX8_68v"
      },
      "execution_count": null,
      "outputs": []
    },
    {
      "cell_type": "markdown",
      "source": [
        "A distribuição das notas mostra algumas observações interessantes:\n",
        "\n",
        "- As notas de Ciências Naturais (\n",
        "NU_NOTA_CN\n",
        "NU_NOTA_CN), Ciências Humanas (\n",
        "NU_NOTA_CH\n",
        "NU_NOTA_CH), e Linguagens e Códigos (\n",
        "NU_NOTA_LC\n",
        "NU_NOTA_LC) parecem ter uma distribuição semelhante, com picos ao redor de 500-600.\n",
        "- A nota de Matemática (\n",
        "NU_NOTA_MT\n",
        "NU_NOTA_MT) tem uma distribuição mais ampla, com um pico mais acentuado por volta de 600.\n",
        "- A nota de Redação (\n",
        "NU_NOTA_REDACAO\n",
        "NU_NOTA_REDACAO) tem múltiplos picos, o que é esperado, pois a redação é avaliada em múltiplos critérios e a nota final é a soma desses critérios.\n",
        "\n",
        "A seguir, vamos analisar a relação entre as notas para ver se existe alguma correlação entre elas."
      ],
      "metadata": {
        "id": "FYDfny5sAJTg"
      }
    },
    {
      "cell_type": "markdown",
      "source": [
        "### Correlação entre Notas"
      ],
      "metadata": {
        "id": "W3e84-6__-Ad"
      }
    },
    {
      "cell_type": "code",
      "source": [
        "# Matriz de correlação entre as notas\n",
        "corr = df[notas_cols].corr()\n",
        "\n",
        "plt.figure(figsize=(10, 8))\n",
        "sns.heatmap(corr, annot=True, cmap=\"coolwarm\", center=0, linewidths=.5)\n",
        "plt.title(\"Correlação entre as Notas\")\n",
        "plt.show()\n"
      ],
      "metadata": {
        "id": "EI5ZwNJt_79L"
      },
      "execution_count": null,
      "outputs": []
    },
    {
      "cell_type": "markdown",
      "source": [
        "A matriz de correlação nos mostra:\n",
        "\n",
        "- Há uma forte correlação positiva entre as notas de Ciências Humanas (\n",
        "NU_NOTA_CH\n",
        "NU_NOTA_CH) e Linguagens e Códigos (\n",
        "NU_NOTA_LC\n",
        "NU_NOTA_LC), o que faz sentido, pois ambas estão relacionadas à área de humanas e linguagens.\n",
        "- Matemática (\n",
        "NU_NOTA_MT\n",
        "NU_NOTA_MT) tem correlação moderada com as outras notas, sendo a mais forte com Ciências Naturais (\n",
        "NU_NOTA_CN\n",
        "NU_NOTA_CN).\n",
        "- A nota de Redação (\n",
        "NU_NOTA_REDACAO\n",
        "NU_NOTA_REDACAO) tem correlação moderada com todas as outras notas, especialmente com Linguagens e Códigos (\n",
        "NU_NOTA_LC\n",
        "NU_NOTA_LC), o que é esperado, já que a redação é uma avaliação de habilidades de linguagem."
      ],
      "metadata": {
        "id": "-TMf_THgAbdG"
      }
    },
    {
      "cell_type": "markdown",
      "source": [
        "### Pré-Processamento\n",
        "Vamos seguir com o pré-processamento dos dados:\n",
        "\n",
        "- Calcular a nota média ponderada com base nos pesos fornecidos.\n",
        "- Verificar e tratar valores nulos, se necessário."
      ],
      "metadata": {
        "id": "t0QXGesN_-_4"
      }
    },
    {
      "cell_type": "code",
      "source": [
        "# Ponderação das notas\n",
        "pesos = {\n",
        "    \"NU_NOTA_CN\": 1,\n",
        "    \"NU_NOTA_CH\": 3,\n",
        "    \"NU_NOTA_MT\": 1,\n",
        "    \"NU_NOTA_REDACAO\": 3,\n",
        "    \"NU_NOTA_LC\": 2\n",
        "}\n",
        "\n",
        "# Calculando a nota média ponderada\n",
        "df[\"NOTA_MEDIA_PONDERADA\"] = sum(df[col] * peso for col, peso in pesos.items()) / sum(pesos.values())\n",
        "\n",
        "# Verificando a presença de valores nulos nas colunas de notas e na coluna da nota média ponderada\n",
        "valores_nulos = df[notas_cols + [\"NOTA_MEDIA_PONDERADA\"]].isnull().sum()\n",
        "\n",
        "valores_nulos\n"
      ],
      "metadata": {
        "id": "PGR_NUiZ__S0"
      },
      "execution_count": null,
      "outputs": []
    },
    {
      "cell_type": "markdown",
      "source": [
        "### Modelagem com PyCaret"
      ],
      "metadata": {
        "id": "4IyZ2lRh__jJ"
      }
    },
    {
      "cell_type": "code",
      "source": [
        "# Instalando o PyCaret\n",
        "!pip install pycaret"
      ],
      "metadata": {
        "id": "mVXlMXAcBBd-"
      },
      "execution_count": null,
      "outputs": []
    },
    {
      "cell_type": "code",
      "source": [
        "# Importando o módulo de regressão do PyCaret\n",
        "from pycaret.regression import *\n",
        "\n",
        "# Configurando o ambiente PyCaret\n",
        "# Utilizaremos as notas como variáveis independentes para prever a nota média ponderada\n",
        "reg_setup = setup(data=df, target='NOTA_MEDIA_PONDERADA', train_size=0.8,\n",
        "                  session_id=42,\n",
        "                  ignore_features=['NU_INSCRICAO', 'MEDIA_GERAL', 'MEDIA_NOTAS', 'NOTA_MEDIA'])\n"
      ],
      "metadata": {
        "id": "tLMg6vZG__5N"
      },
      "execution_count": null,
      "outputs": []
    },
    {
      "cell_type": "markdown",
      "source": [
        "### Comparando todos os modelos disponiveis para 'targets' numéricos"
      ],
      "metadata": {
        "id": "5nrBPVzpH85Y"
      }
    },
    {
      "cell_type": "code",
      "source": [
        "# Comparando modelos de regressão\n",
        "best_model = compare_models()"
      ],
      "metadata": {
        "id": "QVpPX_YJIGOT"
      },
      "execution_count": null,
      "outputs": []
    }
  ]
}