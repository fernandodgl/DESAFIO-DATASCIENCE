{
  "nbformat": 4,
  "nbformat_minor": 0,
  "metadata": {
    "colab": {
      "provenance": [],
      "gpuType": "T4"
    },
    "kernelspec": {
      "name": "python3",
      "display_name": "Python 3"
    },
    "language_info": {
      "name": "python"
    },
    "accelerator": "GPU",
    "widgets": {
      "application/vnd.jupyter.widget-state+json": {
        "b0ad844f49234dc991410b290956fd97": {
          "model_module": "@jupyter-widgets/controls",
          "model_name": "HBoxModel",
          "model_module_version": "1.5.0",
          "state": {
            "_dom_classes": [],
            "_model_module": "@jupyter-widgets/controls",
            "_model_module_version": "1.5.0",
            "_model_name": "HBoxModel",
            "_view_count": null,
            "_view_module": "@jupyter-widgets/controls",
            "_view_module_version": "1.5.0",
            "_view_name": "HBoxView",
            "box_style": "",
            "children": [
              "IPY_MODEL_bc22f8b7560446bd8b402d5b380fc719",
              "IPY_MODEL_e3e52dafa7f04bb792c062d57d0c9536",
              "IPY_MODEL_5f72cbebb2ba4437aec9643efee48614"
            ],
            "layout": "IPY_MODEL_17bddd9cd66246c08e64da56d879240a"
          }
        },
        "bc22f8b7560446bd8b402d5b380fc719": {
          "model_module": "@jupyter-widgets/controls",
          "model_name": "HTMLModel",
          "model_module_version": "1.5.0",
          "state": {
            "_dom_classes": [],
            "_model_module": "@jupyter-widgets/controls",
            "_model_module_version": "1.5.0",
            "_model_name": "HTMLModel",
            "_view_count": null,
            "_view_module": "@jupyter-widgets/controls",
            "_view_module_version": "1.5.0",
            "_view_name": "HTMLView",
            "description": "",
            "description_tooltip": null,
            "layout": "IPY_MODEL_141c3eb89cd44405bd7b208b574b2953",
            "placeholder": "​",
            "style": "IPY_MODEL_e5f01c74bedf421482121443d4e64a92",
            "value": "Processing: 100%"
          }
        },
        "e3e52dafa7f04bb792c062d57d0c9536": {
          "model_module": "@jupyter-widgets/controls",
          "model_name": "FloatProgressModel",
          "model_module_version": "1.5.0",
          "state": {
            "_dom_classes": [],
            "_model_module": "@jupyter-widgets/controls",
            "_model_module_version": "1.5.0",
            "_model_name": "FloatProgressModel",
            "_view_count": null,
            "_view_module": "@jupyter-widgets/controls",
            "_view_module_version": "1.5.0",
            "_view_name": "ProgressView",
            "bar_style": "",
            "description": "",
            "description_tooltip": null,
            "layout": "IPY_MODEL_cb3b8aba880045b48035305667d94880",
            "max": 81,
            "min": 0,
            "orientation": "horizontal",
            "style": "IPY_MODEL_2df6a62c787247a3b7a8e490002d4615",
            "value": 81
          }
        },
        "5f72cbebb2ba4437aec9643efee48614": {
          "model_module": "@jupyter-widgets/controls",
          "model_name": "HTMLModel",
          "model_module_version": "1.5.0",
          "state": {
            "_dom_classes": [],
            "_model_module": "@jupyter-widgets/controls",
            "_model_module_version": "1.5.0",
            "_model_name": "HTMLModel",
            "_view_count": null,
            "_view_module": "@jupyter-widgets/controls",
            "_view_module_version": "1.5.0",
            "_view_name": "HTMLView",
            "description": "",
            "description_tooltip": null,
            "layout": "IPY_MODEL_8838292852a5471eb186704e60d4efba",
            "placeholder": "​",
            "style": "IPY_MODEL_bf3cfabb3e114a8b8acafcfa167a25c4",
            "value": " 81/81 [41:45&lt;00:00, 12.60s/it]"
          }
        },
        "17bddd9cd66246c08e64da56d879240a": {
          "model_module": "@jupyter-widgets/base",
          "model_name": "LayoutModel",
          "model_module_version": "1.2.0",
          "state": {
            "_model_module": "@jupyter-widgets/base",
            "_model_module_version": "1.2.0",
            "_model_name": "LayoutModel",
            "_view_count": null,
            "_view_module": "@jupyter-widgets/base",
            "_view_module_version": "1.2.0",
            "_view_name": "LayoutView",
            "align_content": null,
            "align_items": null,
            "align_self": null,
            "border": null,
            "bottom": null,
            "display": null,
            "flex": null,
            "flex_flow": null,
            "grid_area": null,
            "grid_auto_columns": null,
            "grid_auto_flow": null,
            "grid_auto_rows": null,
            "grid_column": null,
            "grid_gap": null,
            "grid_row": null,
            "grid_template_areas": null,
            "grid_template_columns": null,
            "grid_template_rows": null,
            "height": null,
            "justify_content": null,
            "justify_items": null,
            "left": null,
            "margin": null,
            "max_height": null,
            "max_width": null,
            "min_height": null,
            "min_width": null,
            "object_fit": null,
            "object_position": null,
            "order": null,
            "overflow": null,
            "overflow_x": null,
            "overflow_y": null,
            "padding": null,
            "right": null,
            "top": null,
            "visibility": "hidden",
            "width": null
          }
        },
        "141c3eb89cd44405bd7b208b574b2953": {
          "model_module": "@jupyter-widgets/base",
          "model_name": "LayoutModel",
          "model_module_version": "1.2.0",
          "state": {
            "_model_module": "@jupyter-widgets/base",
            "_model_module_version": "1.2.0",
            "_model_name": "LayoutModel",
            "_view_count": null,
            "_view_module": "@jupyter-widgets/base",
            "_view_module_version": "1.2.0",
            "_view_name": "LayoutView",
            "align_content": null,
            "align_items": null,
            "align_self": null,
            "border": null,
            "bottom": null,
            "display": null,
            "flex": null,
            "flex_flow": null,
            "grid_area": null,
            "grid_auto_columns": null,
            "grid_auto_flow": null,
            "grid_auto_rows": null,
            "grid_column": null,
            "grid_gap": null,
            "grid_row": null,
            "grid_template_areas": null,
            "grid_template_columns": null,
            "grid_template_rows": null,
            "height": null,
            "justify_content": null,
            "justify_items": null,
            "left": null,
            "margin": null,
            "max_height": null,
            "max_width": null,
            "min_height": null,
            "min_width": null,
            "object_fit": null,
            "object_position": null,
            "order": null,
            "overflow": null,
            "overflow_x": null,
            "overflow_y": null,
            "padding": null,
            "right": null,
            "top": null,
            "visibility": null,
            "width": null
          }
        },
        "e5f01c74bedf421482121443d4e64a92": {
          "model_module": "@jupyter-widgets/controls",
          "model_name": "DescriptionStyleModel",
          "model_module_version": "1.5.0",
          "state": {
            "_model_module": "@jupyter-widgets/controls",
            "_model_module_version": "1.5.0",
            "_model_name": "DescriptionStyleModel",
            "_view_count": null,
            "_view_module": "@jupyter-widgets/base",
            "_view_module_version": "1.2.0",
            "_view_name": "StyleView",
            "description_width": ""
          }
        },
        "cb3b8aba880045b48035305667d94880": {
          "model_module": "@jupyter-widgets/base",
          "model_name": "LayoutModel",
          "model_module_version": "1.2.0",
          "state": {
            "_model_module": "@jupyter-widgets/base",
            "_model_module_version": "1.2.0",
            "_model_name": "LayoutModel",
            "_view_count": null,
            "_view_module": "@jupyter-widgets/base",
            "_view_module_version": "1.2.0",
            "_view_name": "LayoutView",
            "align_content": null,
            "align_items": null,
            "align_self": null,
            "border": null,
            "bottom": null,
            "display": null,
            "flex": null,
            "flex_flow": null,
            "grid_area": null,
            "grid_auto_columns": null,
            "grid_auto_flow": null,
            "grid_auto_rows": null,
            "grid_column": null,
            "grid_gap": null,
            "grid_row": null,
            "grid_template_areas": null,
            "grid_template_columns": null,
            "grid_template_rows": null,
            "height": null,
            "justify_content": null,
            "justify_items": null,
            "left": null,
            "margin": null,
            "max_height": null,
            "max_width": null,
            "min_height": null,
            "min_width": null,
            "object_fit": null,
            "object_position": null,
            "order": null,
            "overflow": null,
            "overflow_x": null,
            "overflow_y": null,
            "padding": null,
            "right": null,
            "top": null,
            "visibility": null,
            "width": null
          }
        },
        "2df6a62c787247a3b7a8e490002d4615": {
          "model_module": "@jupyter-widgets/controls",
          "model_name": "ProgressStyleModel",
          "model_module_version": "1.5.0",
          "state": {
            "_model_module": "@jupyter-widgets/controls",
            "_model_module_version": "1.5.0",
            "_model_name": "ProgressStyleModel",
            "_view_count": null,
            "_view_module": "@jupyter-widgets/base",
            "_view_module_version": "1.2.0",
            "_view_name": "StyleView",
            "bar_color": null,
            "description_width": ""
          }
        },
        "8838292852a5471eb186704e60d4efba": {
          "model_module": "@jupyter-widgets/base",
          "model_name": "LayoutModel",
          "model_module_version": "1.2.0",
          "state": {
            "_model_module": "@jupyter-widgets/base",
            "_model_module_version": "1.2.0",
            "_model_name": "LayoutModel",
            "_view_count": null,
            "_view_module": "@jupyter-widgets/base",
            "_view_module_version": "1.2.0",
            "_view_name": "LayoutView",
            "align_content": null,
            "align_items": null,
            "align_self": null,
            "border": null,
            "bottom": null,
            "display": null,
            "flex": null,
            "flex_flow": null,
            "grid_area": null,
            "grid_auto_columns": null,
            "grid_auto_flow": null,
            "grid_auto_rows": null,
            "grid_column": null,
            "grid_gap": null,
            "grid_row": null,
            "grid_template_areas": null,
            "grid_template_columns": null,
            "grid_template_rows": null,
            "height": null,
            "justify_content": null,
            "justify_items": null,
            "left": null,
            "margin": null,
            "max_height": null,
            "max_width": null,
            "min_height": null,
            "min_width": null,
            "object_fit": null,
            "object_position": null,
            "order": null,
            "overflow": null,
            "overflow_x": null,
            "overflow_y": null,
            "padding": null,
            "right": null,
            "top": null,
            "visibility": null,
            "width": null
          }
        },
        "bf3cfabb3e114a8b8acafcfa167a25c4": {
          "model_module": "@jupyter-widgets/controls",
          "model_name": "DescriptionStyleModel",
          "model_module_version": "1.5.0",
          "state": {
            "_model_module": "@jupyter-widgets/controls",
            "_model_module_version": "1.5.0",
            "_model_name": "DescriptionStyleModel",
            "_view_count": null,
            "_view_module": "@jupyter-widgets/base",
            "_view_module_version": "1.2.0",
            "_view_name": "StyleView",
            "description_width": ""
          }
        }
      }
    }
  },
  "cells": [
    {
      "cell_type": "markdown",
      "source": [
        "# **Machine Learning - Dados do ENEM 2019**"
      ],
      "metadata": {
        "id": "Er9Vr7otGij4"
      }
    },
    {
      "cell_type": "markdown",
      "source": [
        "## Bibliotecas e Carregamento do Dataset"
      ],
      "metadata": {
        "id": "okJD30_1G8bf"
      }
    },
    {
      "cell_type": "code",
      "source": [
        "# Importar as bibliotecas\n",
        "import pandas as pd"
      ],
      "metadata": {
        "id": "Oz4jHRl_HEC6"
      },
      "execution_count": 1,
      "outputs": []
    },
    {
      "cell_type": "code",
      "source": [
        "# 'Montar' o Google Drive\n",
        "from google.colab import drive\n",
        "drive.mount('/content/gdrive')\n",
        "\n",
        "import os\n",
        "\n",
        "# Carregando o dataframe original\n",
        "df = pd.read_csv('/content/gdrive/MyDrive/df.csv')\n",
        "\n",
        "# Verificar se a pasta 'Data' existe; caso contrário, crie-a\n",
        "data_directory = '/content/data'\n",
        "if not os.path.exists(data_directory):\n",
        "    os.makedirs(data_directory)\n",
        "\n",
        "# Salvar o dataframe na pasta 'Data'\n",
        "df.to_csv(os.path.join(data_directory, 'df.csv'), sep=';', index=False)"
      ],
      "metadata": {
        "colab": {
          "base_uri": "https://localhost:8080/"
        },
        "id": "Uz2MkRJSHGiI",
        "outputId": "1e164999-c5da-46b3-9d50-7ae519b565a5"
      },
      "execution_count": 2,
      "outputs": [
        {
          "output_type": "stream",
          "name": "stdout",
          "text": [
            "Mounted at /content/gdrive\n"
          ]
        }
      ]
    },
    {
      "cell_type": "markdown",
      "source": [
        "## Carregar o conjunto de dados"
      ],
      "metadata": {
        "id": "0DtgIDptrMnl"
      }
    },
    {
      "cell_type": "code",
      "source": [
        "# Carregar o conjunto de dados\n",
        "df = pd.read_csv('data/df.csv', delimiter=';')"
      ],
      "metadata": {
        "id": "efDtG4M1rHAb"
      },
      "execution_count": 3,
      "outputs": []
    },
    {
      "cell_type": "code",
      "source": [
        "df.head(10)"
      ],
      "metadata": {
        "colab": {
          "base_uri": "https://localhost:8080/",
          "height": 412
        },
        "id": "zU-VmXnntCzH",
        "outputId": "7556d9c6-6857-415f-d30e-98005f216a3e"
      },
      "execution_count": 4,
      "outputs": [
        {
          "output_type": "execute_result",
          "data": {
            "text/plain": [
              "   NU_INSCRICAO  NU_ANO  CO_MUNICIPIO_RESIDENCIA   NO_MUNICIPIO_RESIDENCIA  \\\n",
              "0  190001237819    2019                  3106200            Belo Horizonte   \n",
              "1  190001237839    2019                  3106200            Belo Horizonte   \n",
              "2  190001237840    2019                  3138401                Leopoldina   \n",
              "3  190001237857    2019                  3125101                   Extrema   \n",
              "4  190001241373    2019                  3122306               Divinópolis   \n",
              "5  190001241396    2019                  3168309        Taquaraçu de Minas   \n",
              "6  190001244958    2019                  3164704  São Sebastião do Paraíso   \n",
              "7  190001244962    2019                  3122306               Divinópolis   \n",
              "8  190001244978    2019                  3118601                  Contagem   \n",
              "9  190001244980    2019                  3152501              Pouso Alegre   \n",
              "\n",
              "   CO_UF_RESIDENCIA SG_UF_RESIDENCIA  NU_IDADE TP_SEXO  TP_ESTADO_CIVIL  \\\n",
              "0                31               MG      18.0       F                1   \n",
              "1                31               MG      18.0       F                1   \n",
              "2                31               MG      18.0       F                1   \n",
              "3                31               MG      18.0       F                1   \n",
              "4                31               MG      20.0       M                1   \n",
              "5                31               MG      18.0       F                1   \n",
              "6                31               MG      18.0       F                1   \n",
              "7                31               MG      18.0       F                1   \n",
              "8                31               MG      18.0       M                1   \n",
              "9                31               MG      18.0       M                1   \n",
              "\n",
              "   TP_COR_RACA  ...  Q019  Q020  Q021  Q022  Q023  Q024  Q025  MEDIA_GERAL  \\\n",
              "0            0  ...     C     B     B     E     B     B     B       703.80   \n",
              "1            1  ...     B     A     B     E     B     C     B       641.72   \n",
              "2            3  ...     B     B     A     E     A     B     B       579.66   \n",
              "3            3  ...     D     B     A     D     B     C     B       528.52   \n",
              "4            1  ...     B     B     A     E     B     A     B       530.80   \n",
              "5            3  ...     A     A     A     B     A     A     A       547.56   \n",
              "6            3  ...     B     A     A     D     A     A     B       655.90   \n",
              "7            3  ...     E     A     B     D     B     D     B       529.86   \n",
              "8            1  ...     B     A     A     B     A     B     B       691.22   \n",
              "9            3  ...     B     A     A     D     B     A     B       705.62   \n",
              "\n",
              "   MEDIA_NOTAS  NOTA_MEDIA  \n",
              "0       703.80      703.80  \n",
              "1       641.72      641.72  \n",
              "2       579.66      579.66  \n",
              "3       528.52      528.52  \n",
              "4       530.80      530.80  \n",
              "5       547.56      547.56  \n",
              "6       655.90      655.90  \n",
              "7       529.86      529.86  \n",
              "8       691.22      691.22  \n",
              "9       705.62      705.62  \n",
              "\n",
              "[10 rows x 116 columns]"
            ],
            "text/html": [
              "\n",
              "  <div id=\"df-33c71138-8d46-4a3e-863e-8e7053a4b4b3\" class=\"colab-df-container\">\n",
              "    <div>\n",
              "<style scoped>\n",
              "    .dataframe tbody tr th:only-of-type {\n",
              "        vertical-align: middle;\n",
              "    }\n",
              "\n",
              "    .dataframe tbody tr th {\n",
              "        vertical-align: top;\n",
              "    }\n",
              "\n",
              "    .dataframe thead th {\n",
              "        text-align: right;\n",
              "    }\n",
              "</style>\n",
              "<table border=\"1\" class=\"dataframe\">\n",
              "  <thead>\n",
              "    <tr style=\"text-align: right;\">\n",
              "      <th></th>\n",
              "      <th>NU_INSCRICAO</th>\n",
              "      <th>NU_ANO</th>\n",
              "      <th>CO_MUNICIPIO_RESIDENCIA</th>\n",
              "      <th>NO_MUNICIPIO_RESIDENCIA</th>\n",
              "      <th>CO_UF_RESIDENCIA</th>\n",
              "      <th>SG_UF_RESIDENCIA</th>\n",
              "      <th>NU_IDADE</th>\n",
              "      <th>TP_SEXO</th>\n",
              "      <th>TP_ESTADO_CIVIL</th>\n",
              "      <th>TP_COR_RACA</th>\n",
              "      <th>...</th>\n",
              "      <th>Q019</th>\n",
              "      <th>Q020</th>\n",
              "      <th>Q021</th>\n",
              "      <th>Q022</th>\n",
              "      <th>Q023</th>\n",
              "      <th>Q024</th>\n",
              "      <th>Q025</th>\n",
              "      <th>MEDIA_GERAL</th>\n",
              "      <th>MEDIA_NOTAS</th>\n",
              "      <th>NOTA_MEDIA</th>\n",
              "    </tr>\n",
              "  </thead>\n",
              "  <tbody>\n",
              "    <tr>\n",
              "      <th>0</th>\n",
              "      <td>190001237819</td>\n",
              "      <td>2019</td>\n",
              "      <td>3106200</td>\n",
              "      <td>Belo Horizonte</td>\n",
              "      <td>31</td>\n",
              "      <td>MG</td>\n",
              "      <td>18.0</td>\n",
              "      <td>F</td>\n",
              "      <td>1</td>\n",
              "      <td>0</td>\n",
              "      <td>...</td>\n",
              "      <td>C</td>\n",
              "      <td>B</td>\n",
              "      <td>B</td>\n",
              "      <td>E</td>\n",
              "      <td>B</td>\n",
              "      <td>B</td>\n",
              "      <td>B</td>\n",
              "      <td>703.80</td>\n",
              "      <td>703.80</td>\n",
              "      <td>703.80</td>\n",
              "    </tr>\n",
              "    <tr>\n",
              "      <th>1</th>\n",
              "      <td>190001237839</td>\n",
              "      <td>2019</td>\n",
              "      <td>3106200</td>\n",
              "      <td>Belo Horizonte</td>\n",
              "      <td>31</td>\n",
              "      <td>MG</td>\n",
              "      <td>18.0</td>\n",
              "      <td>F</td>\n",
              "      <td>1</td>\n",
              "      <td>1</td>\n",
              "      <td>...</td>\n",
              "      <td>B</td>\n",
              "      <td>A</td>\n",
              "      <td>B</td>\n",
              "      <td>E</td>\n",
              "      <td>B</td>\n",
              "      <td>C</td>\n",
              "      <td>B</td>\n",
              "      <td>641.72</td>\n",
              "      <td>641.72</td>\n",
              "      <td>641.72</td>\n",
              "    </tr>\n",
              "    <tr>\n",
              "      <th>2</th>\n",
              "      <td>190001237840</td>\n",
              "      <td>2019</td>\n",
              "      <td>3138401</td>\n",
              "      <td>Leopoldina</td>\n",
              "      <td>31</td>\n",
              "      <td>MG</td>\n",
              "      <td>18.0</td>\n",
              "      <td>F</td>\n",
              "      <td>1</td>\n",
              "      <td>3</td>\n",
              "      <td>...</td>\n",
              "      <td>B</td>\n",
              "      <td>B</td>\n",
              "      <td>A</td>\n",
              "      <td>E</td>\n",
              "      <td>A</td>\n",
              "      <td>B</td>\n",
              "      <td>B</td>\n",
              "      <td>579.66</td>\n",
              "      <td>579.66</td>\n",
              "      <td>579.66</td>\n",
              "    </tr>\n",
              "    <tr>\n",
              "      <th>3</th>\n",
              "      <td>190001237857</td>\n",
              "      <td>2019</td>\n",
              "      <td>3125101</td>\n",
              "      <td>Extrema</td>\n",
              "      <td>31</td>\n",
              "      <td>MG</td>\n",
              "      <td>18.0</td>\n",
              "      <td>F</td>\n",
              "      <td>1</td>\n",
              "      <td>3</td>\n",
              "      <td>...</td>\n",
              "      <td>D</td>\n",
              "      <td>B</td>\n",
              "      <td>A</td>\n",
              "      <td>D</td>\n",
              "      <td>B</td>\n",
              "      <td>C</td>\n",
              "      <td>B</td>\n",
              "      <td>528.52</td>\n",
              "      <td>528.52</td>\n",
              "      <td>528.52</td>\n",
              "    </tr>\n",
              "    <tr>\n",
              "      <th>4</th>\n",
              "      <td>190001241373</td>\n",
              "      <td>2019</td>\n",
              "      <td>3122306</td>\n",
              "      <td>Divinópolis</td>\n",
              "      <td>31</td>\n",
              "      <td>MG</td>\n",
              "      <td>20.0</td>\n",
              "      <td>M</td>\n",
              "      <td>1</td>\n",
              "      <td>1</td>\n",
              "      <td>...</td>\n",
              "      <td>B</td>\n",
              "      <td>B</td>\n",
              "      <td>A</td>\n",
              "      <td>E</td>\n",
              "      <td>B</td>\n",
              "      <td>A</td>\n",
              "      <td>B</td>\n",
              "      <td>530.80</td>\n",
              "      <td>530.80</td>\n",
              "      <td>530.80</td>\n",
              "    </tr>\n",
              "    <tr>\n",
              "      <th>5</th>\n",
              "      <td>190001241396</td>\n",
              "      <td>2019</td>\n",
              "      <td>3168309</td>\n",
              "      <td>Taquaraçu de Minas</td>\n",
              "      <td>31</td>\n",
              "      <td>MG</td>\n",
              "      <td>18.0</td>\n",
              "      <td>F</td>\n",
              "      <td>1</td>\n",
              "      <td>3</td>\n",
              "      <td>...</td>\n",
              "      <td>A</td>\n",
              "      <td>A</td>\n",
              "      <td>A</td>\n",
              "      <td>B</td>\n",
              "      <td>A</td>\n",
              "      <td>A</td>\n",
              "      <td>A</td>\n",
              "      <td>547.56</td>\n",
              "      <td>547.56</td>\n",
              "      <td>547.56</td>\n",
              "    </tr>\n",
              "    <tr>\n",
              "      <th>6</th>\n",
              "      <td>190001244958</td>\n",
              "      <td>2019</td>\n",
              "      <td>3164704</td>\n",
              "      <td>São Sebastião do Paraíso</td>\n",
              "      <td>31</td>\n",
              "      <td>MG</td>\n",
              "      <td>18.0</td>\n",
              "      <td>F</td>\n",
              "      <td>1</td>\n",
              "      <td>3</td>\n",
              "      <td>...</td>\n",
              "      <td>B</td>\n",
              "      <td>A</td>\n",
              "      <td>A</td>\n",
              "      <td>D</td>\n",
              "      <td>A</td>\n",
              "      <td>A</td>\n",
              "      <td>B</td>\n",
              "      <td>655.90</td>\n",
              "      <td>655.90</td>\n",
              "      <td>655.90</td>\n",
              "    </tr>\n",
              "    <tr>\n",
              "      <th>7</th>\n",
              "      <td>190001244962</td>\n",
              "      <td>2019</td>\n",
              "      <td>3122306</td>\n",
              "      <td>Divinópolis</td>\n",
              "      <td>31</td>\n",
              "      <td>MG</td>\n",
              "      <td>18.0</td>\n",
              "      <td>F</td>\n",
              "      <td>1</td>\n",
              "      <td>3</td>\n",
              "      <td>...</td>\n",
              "      <td>E</td>\n",
              "      <td>A</td>\n",
              "      <td>B</td>\n",
              "      <td>D</td>\n",
              "      <td>B</td>\n",
              "      <td>D</td>\n",
              "      <td>B</td>\n",
              "      <td>529.86</td>\n",
              "      <td>529.86</td>\n",
              "      <td>529.86</td>\n",
              "    </tr>\n",
              "    <tr>\n",
              "      <th>8</th>\n",
              "      <td>190001244978</td>\n",
              "      <td>2019</td>\n",
              "      <td>3118601</td>\n",
              "      <td>Contagem</td>\n",
              "      <td>31</td>\n",
              "      <td>MG</td>\n",
              "      <td>18.0</td>\n",
              "      <td>M</td>\n",
              "      <td>1</td>\n",
              "      <td>1</td>\n",
              "      <td>...</td>\n",
              "      <td>B</td>\n",
              "      <td>A</td>\n",
              "      <td>A</td>\n",
              "      <td>B</td>\n",
              "      <td>A</td>\n",
              "      <td>B</td>\n",
              "      <td>B</td>\n",
              "      <td>691.22</td>\n",
              "      <td>691.22</td>\n",
              "      <td>691.22</td>\n",
              "    </tr>\n",
              "    <tr>\n",
              "      <th>9</th>\n",
              "      <td>190001244980</td>\n",
              "      <td>2019</td>\n",
              "      <td>3152501</td>\n",
              "      <td>Pouso Alegre</td>\n",
              "      <td>31</td>\n",
              "      <td>MG</td>\n",
              "      <td>18.0</td>\n",
              "      <td>M</td>\n",
              "      <td>1</td>\n",
              "      <td>3</td>\n",
              "      <td>...</td>\n",
              "      <td>B</td>\n",
              "      <td>A</td>\n",
              "      <td>A</td>\n",
              "      <td>D</td>\n",
              "      <td>B</td>\n",
              "      <td>A</td>\n",
              "      <td>B</td>\n",
              "      <td>705.62</td>\n",
              "      <td>705.62</td>\n",
              "      <td>705.62</td>\n",
              "    </tr>\n",
              "  </tbody>\n",
              "</table>\n",
              "<p>10 rows × 116 columns</p>\n",
              "</div>\n",
              "    <div class=\"colab-df-buttons\">\n",
              "\n",
              "  <div class=\"colab-df-container\">\n",
              "    <button class=\"colab-df-convert\" onclick=\"convertToInteractive('df-33c71138-8d46-4a3e-863e-8e7053a4b4b3')\"\n",
              "            title=\"Convert this dataframe to an interactive table.\"\n",
              "            style=\"display:none;\">\n",
              "\n",
              "  <svg xmlns=\"http://www.w3.org/2000/svg\" height=\"24px\" viewBox=\"0 -960 960 960\">\n",
              "    <path d=\"M120-120v-720h720v720H120Zm60-500h600v-160H180v160Zm220 220h160v-160H400v160Zm0 220h160v-160H400v160ZM180-400h160v-160H180v160Zm440 0h160v-160H620v160ZM180-180h160v-160H180v160Zm440 0h160v-160H620v160Z\"/>\n",
              "  </svg>\n",
              "    </button>\n",
              "\n",
              "  <style>\n",
              "    .colab-df-container {\n",
              "      display:flex;\n",
              "      gap: 12px;\n",
              "    }\n",
              "\n",
              "    .colab-df-convert {\n",
              "      background-color: #E8F0FE;\n",
              "      border: none;\n",
              "      border-radius: 50%;\n",
              "      cursor: pointer;\n",
              "      display: none;\n",
              "      fill: #1967D2;\n",
              "      height: 32px;\n",
              "      padding: 0 0 0 0;\n",
              "      width: 32px;\n",
              "    }\n",
              "\n",
              "    .colab-df-convert:hover {\n",
              "      background-color: #E2EBFA;\n",
              "      box-shadow: 0px 1px 2px rgba(60, 64, 67, 0.3), 0px 1px 3px 1px rgba(60, 64, 67, 0.15);\n",
              "      fill: #174EA6;\n",
              "    }\n",
              "\n",
              "    .colab-df-buttons div {\n",
              "      margin-bottom: 4px;\n",
              "    }\n",
              "\n",
              "    [theme=dark] .colab-df-convert {\n",
              "      background-color: #3B4455;\n",
              "      fill: #D2E3FC;\n",
              "    }\n",
              "\n",
              "    [theme=dark] .colab-df-convert:hover {\n",
              "      background-color: #434B5C;\n",
              "      box-shadow: 0px 1px 3px 1px rgba(0, 0, 0, 0.15);\n",
              "      filter: drop-shadow(0px 1px 2px rgba(0, 0, 0, 0.3));\n",
              "      fill: #FFFFFF;\n",
              "    }\n",
              "  </style>\n",
              "\n",
              "    <script>\n",
              "      const buttonEl =\n",
              "        document.querySelector('#df-33c71138-8d46-4a3e-863e-8e7053a4b4b3 button.colab-df-convert');\n",
              "      buttonEl.style.display =\n",
              "        google.colab.kernel.accessAllowed ? 'block' : 'none';\n",
              "\n",
              "      async function convertToInteractive(key) {\n",
              "        const element = document.querySelector('#df-33c71138-8d46-4a3e-863e-8e7053a4b4b3');\n",
              "        const dataTable =\n",
              "          await google.colab.kernel.invokeFunction('convertToInteractive',\n",
              "                                                    [key], {});\n",
              "        if (!dataTable) return;\n",
              "\n",
              "        const docLinkHtml = 'Like what you see? Visit the ' +\n",
              "          '<a target=\"_blank\" href=https://colab.research.google.com/notebooks/data_table.ipynb>data table notebook</a>'\n",
              "          + ' to learn more about interactive tables.';\n",
              "        element.innerHTML = '';\n",
              "        dataTable['output_type'] = 'display_data';\n",
              "        await google.colab.output.renderOutput(dataTable, element);\n",
              "        const docLink = document.createElement('div');\n",
              "        docLink.innerHTML = docLinkHtml;\n",
              "        element.appendChild(docLink);\n",
              "      }\n",
              "    </script>\n",
              "  </div>\n",
              "\n",
              "\n",
              "<div id=\"df-8875c7ba-c55c-4fa1-b830-d0420fb32467\">\n",
              "  <button class=\"colab-df-quickchart\" onclick=\"quickchart('df-8875c7ba-c55c-4fa1-b830-d0420fb32467')\"\n",
              "            title=\"Suggest charts.\"\n",
              "            style=\"display:none;\">\n",
              "\n",
              "<svg xmlns=\"http://www.w3.org/2000/svg\" height=\"24px\"viewBox=\"0 0 24 24\"\n",
              "     width=\"24px\">\n",
              "    <g>\n",
              "        <path d=\"M19 3H5c-1.1 0-2 .9-2 2v14c0 1.1.9 2 2 2h14c1.1 0 2-.9 2-2V5c0-1.1-.9-2-2-2zM9 17H7v-7h2v7zm4 0h-2V7h2v10zm4 0h-2v-4h2v4z\"/>\n",
              "    </g>\n",
              "</svg>\n",
              "  </button>\n",
              "\n",
              "<style>\n",
              "  .colab-df-quickchart {\n",
              "      --bg-color: #E8F0FE;\n",
              "      --fill-color: #1967D2;\n",
              "      --hover-bg-color: #E2EBFA;\n",
              "      --hover-fill-color: #174EA6;\n",
              "      --disabled-fill-color: #AAA;\n",
              "      --disabled-bg-color: #DDD;\n",
              "  }\n",
              "\n",
              "  [theme=dark] .colab-df-quickchart {\n",
              "      --bg-color: #3B4455;\n",
              "      --fill-color: #D2E3FC;\n",
              "      --hover-bg-color: #434B5C;\n",
              "      --hover-fill-color: #FFFFFF;\n",
              "      --disabled-bg-color: #3B4455;\n",
              "      --disabled-fill-color: #666;\n",
              "  }\n",
              "\n",
              "  .colab-df-quickchart {\n",
              "    background-color: var(--bg-color);\n",
              "    border: none;\n",
              "    border-radius: 50%;\n",
              "    cursor: pointer;\n",
              "    display: none;\n",
              "    fill: var(--fill-color);\n",
              "    height: 32px;\n",
              "    padding: 0;\n",
              "    width: 32px;\n",
              "  }\n",
              "\n",
              "  .colab-df-quickchart:hover {\n",
              "    background-color: var(--hover-bg-color);\n",
              "    box-shadow: 0 1px 2px rgba(60, 64, 67, 0.3), 0 1px 3px 1px rgba(60, 64, 67, 0.15);\n",
              "    fill: var(--button-hover-fill-color);\n",
              "  }\n",
              "\n",
              "  .colab-df-quickchart-complete:disabled,\n",
              "  .colab-df-quickchart-complete:disabled:hover {\n",
              "    background-color: var(--disabled-bg-color);\n",
              "    fill: var(--disabled-fill-color);\n",
              "    box-shadow: none;\n",
              "  }\n",
              "\n",
              "  .colab-df-spinner {\n",
              "    border: 2px solid var(--fill-color);\n",
              "    border-color: transparent;\n",
              "    border-bottom-color: var(--fill-color);\n",
              "    animation:\n",
              "      spin 1s steps(1) infinite;\n",
              "  }\n",
              "\n",
              "  @keyframes spin {\n",
              "    0% {\n",
              "      border-color: transparent;\n",
              "      border-bottom-color: var(--fill-color);\n",
              "      border-left-color: var(--fill-color);\n",
              "    }\n",
              "    20% {\n",
              "      border-color: transparent;\n",
              "      border-left-color: var(--fill-color);\n",
              "      border-top-color: var(--fill-color);\n",
              "    }\n",
              "    30% {\n",
              "      border-color: transparent;\n",
              "      border-left-color: var(--fill-color);\n",
              "      border-top-color: var(--fill-color);\n",
              "      border-right-color: var(--fill-color);\n",
              "    }\n",
              "    40% {\n",
              "      border-color: transparent;\n",
              "      border-right-color: var(--fill-color);\n",
              "      border-top-color: var(--fill-color);\n",
              "    }\n",
              "    60% {\n",
              "      border-color: transparent;\n",
              "      border-right-color: var(--fill-color);\n",
              "    }\n",
              "    80% {\n",
              "      border-color: transparent;\n",
              "      border-right-color: var(--fill-color);\n",
              "      border-bottom-color: var(--fill-color);\n",
              "    }\n",
              "    90% {\n",
              "      border-color: transparent;\n",
              "      border-bottom-color: var(--fill-color);\n",
              "    }\n",
              "  }\n",
              "</style>\n",
              "\n",
              "  <script>\n",
              "    async function quickchart(key) {\n",
              "      const quickchartButtonEl =\n",
              "        document.querySelector('#' + key + ' button');\n",
              "      quickchartButtonEl.disabled = true;  // To prevent multiple clicks.\n",
              "      quickchartButtonEl.classList.add('colab-df-spinner');\n",
              "      try {\n",
              "        const charts = await google.colab.kernel.invokeFunction(\n",
              "            'suggestCharts', [key], {});\n",
              "      } catch (error) {\n",
              "        console.error('Error during call to suggestCharts:', error);\n",
              "      }\n",
              "      quickchartButtonEl.classList.remove('colab-df-spinner');\n",
              "      quickchartButtonEl.classList.add('colab-df-quickchart-complete');\n",
              "    }\n",
              "    (() => {\n",
              "      let quickchartButtonEl =\n",
              "        document.querySelector('#df-8875c7ba-c55c-4fa1-b830-d0420fb32467 button');\n",
              "      quickchartButtonEl.style.display =\n",
              "        google.colab.kernel.accessAllowed ? 'block' : 'none';\n",
              "    })();\n",
              "  </script>\n",
              "</div>\n",
              "    </div>\n",
              "  </div>\n"
            ]
          },
          "metadata": {},
          "execution_count": 4
        }
      ]
    },
    {
      "cell_type": "markdown",
      "source": [
        "## Análise Exploratória (Notas)"
      ],
      "metadata": {
        "id": "vVLIq8-T_rze"
      }
    },
    {
      "cell_type": "code",
      "source": [
        "import matplotlib.pyplot as plt\n",
        "import seaborn as sns\n",
        "\n",
        "# Lista das colunas de notas\n",
        "notas_cols = [\"NU_NOTA_CN\", \"NU_NOTA_CH\", \"NU_NOTA_MT\", \"NU_NOTA_REDACAO\", \"NU_NOTA_LC\"]\n",
        "\n",
        "# Distribuição das notas\n",
        "plt.figure(figsize=(16, 10))\n",
        "for col in notas_cols:\n",
        "    sns.kdeplot(df[col], label=col, fill=True)\n",
        "\n",
        "plt.title(\"Distribuição das Notas\")\n",
        "plt.xlabel(\"Nota\")\n",
        "plt.ylabel(\"Densidade\")\n",
        "plt.legend()\n",
        "plt.grid(True, which=\"both\", ls=\"--\", c='0.65')\n",
        "plt.show()\n"
      ],
      "metadata": {
        "colab": {
          "base_uri": "https://localhost:8080/",
          "height": 485
        },
        "id": "58kWHV-8_sGW",
        "outputId": "1ea97059-535b-4ff1-cffa-ec32b56cdd57"
      },
      "execution_count": 5,
      "outputs": [
        {
          "output_type": "display_data",
          "data": {
            "text/plain": [
              "<Figure size 1600x1000 with 1 Axes>"
            ],
            "image/png": "[encoded data removed]"
          },
          "metadata": {}
        }
      ]
    },
    {
      "cell_type": "markdown",
      "source": [
        "A distribuição das notas mostra algumas observações interessantes:\n",
        "\n",
        "- As notas de Ciências Naturais (\n",
        "NU_NOTA_CN\n",
        "NU_NOTA_CN), Ciências Humanas (\n",
        "NU_NOTA_CH\n",
        "NU_NOTA_CH), e Linguagens e Códigos (\n",
        "NU_NOTA_LC\n",
        "NU_NOTA_LC) parecem ter uma distribuição semelhante, com picos ao redor de 500-600.\n",
        "- A nota de Matemática (\n",
        "NU_NOTA_MT\n",
        "NU_NOTA_MT) tem uma distribuição mais ampla, com um pico mais acentuado por volta de 600.\n",
        "- A nota de Redação (\n",
        "NU_NOTA_REDACAO\n",
        "NU_NOTA_REDACAO) tem múltiplos picos, o que é esperado, pois a redação é avaliada em múltiplos critérios e a nota final é a soma desses critérios.\n",
        "\n",
        "A seguir, vamos analisar a relação entre as notas para ver se existe alguma correlação entre elas."
      ],
      "metadata": {
        "id": "FYDfny5sAJTg"
      }
    },
    {
      "cell_type": "markdown",
      "source": [
        "### Correlação entre Notas"
      ],
      "metadata": {
        "id": "W3e84-6__-Ad"
      }
    },
    {
      "cell_type": "code",
      "source": [
        "# Matriz de correlação entre as notas\n",
        "corr = df[notas_cols].corr()\n",
        "\n",
        "plt.figure(figsize=(10, 8))\n",
        "sns.heatmap(corr, annot=True, cmap=\"coolwarm\", center=0, linewidths=.5)\n",
        "plt.title(\"Correlação entre as Notas\")\n",
        "plt.show()\n"
      ],
      "metadata": {
        "id": "EI5ZwNJt_79L",
        "colab": {
          "base_uri": "https://localhost:8080/",
          "height": 658
        },
        "outputId": "cfe96926-2777-41b5-88d3-8409389782f0"
      },
      "execution_count": 21,
      "outputs": [
        {
          "output_type": "display_data",
          "data": {
            "text/plain": [
              "<Figure size 1000x800 with 2 Axes>"
            ],
            "image/png": "[encoded data removed]"
          },
          "metadata": {}
        }
      ]
    },
    {
      "cell_type": "markdown",
      "source": [
        "A matriz de correlação nos mostra:\n",
        "\n",
        "- Há uma forte correlação positiva entre as notas de Ciências Humanas (\n",
        "NU_NOTA_CH\n",
        "NU_NOTA_CH) e Linguagens e Códigos (\n",
        "NU_NOTA_LC\n",
        "NU_NOTA_LC), o que faz sentido, pois ambas estão relacionadas à área de humanas e linguagens.\n",
        "- Matemática (\n",
        "NU_NOTA_MT\n",
        "NU_NOTA_MT) tem correlação moderada com as outras notas, sendo a mais forte com Ciências Naturais (\n",
        "NU_NOTA_CN\n",
        "NU_NOTA_CN).\n",
        "- A nota de Redação (\n",
        "NU_NOTA_REDACAO\n",
        "NU_NOTA_REDACAO) tem correlação moderada com todas as outras notas, especialmente com Linguagens e Códigos (\n",
        "NU_NOTA_LC\n",
        "NU_NOTA_LC), o que é esperado, já que a redação é uma avaliação de habilidades de linguagem.\n",
        "\n",
        "Todas as notas estão altamente correlacionadas entre si, pois o desempenho de um aluno em uma matéria geralmente é indicativo de seu desempenho em outras matérias. Isso pode acarretar em uma questão de 'overfitting', fazendo com que o modelo testado consiga generalizar de forma praticamente perfeita. Iremos investigar essa questão à medida que prosseguimos."
      ],
      "metadata": {
        "id": "-TMf_THgAbdG"
      }
    },
    {
      "cell_type": "markdown",
      "source": [
        "## Criando a variável 'TARGET'\n",
        "De acordo com o escopo do desafio, os pesos para cada nota são:\n",
        "\n",
        "- NU_NOTA_CN → 1\n",
        "- NU_NOTA_CH → 3\n",
        "- NU_NOTA_LC → 2\n",
        "- NU_NOTA_MT → 1\n",
        "- NU_NOTA_REDACAO → 3\n"
      ],
      "metadata": {
        "id": "LKF2BahJtXXr"
      }
    },
    {
      "cell_type": "code",
      "source": [
        "df['MEDIA_PONDERADA'] = (df['NU_NOTA_CN'] +\n",
        "                         3 * df['NU_NOTA_CH'] +\n",
        "                         df['NU_NOTA_MT'] +\n",
        "                         3 * df['NU_NOTA_REDACAO'] +\n",
        "                         2 * df['NU_NOTA_LC']) / 10"
      ],
      "metadata": {
        "id": "lYabJ27EveSn"
      },
      "execution_count": 6,
      "outputs": []
    },
    {
      "cell_type": "markdown",
      "source": [
        "## Preparação dos Dados"
      ],
      "metadata": {
        "id": "-o3npT4bG4ff"
      }
    },
    {
      "cell_type": "code",
      "source": [
        "# Definindo X e y\n",
        "X = df.drop(columns=['MEDIA_PONDERADA'])\n",
        "y = df['MEDIA_PONDERADA']"
      ],
      "metadata": {
        "id": "A6cUAv4jvkc1"
      },
      "execution_count": 7,
      "outputs": []
    },
    {
      "cell_type": "markdown",
      "source": [
        "## Pré-Processamento"
      ],
      "metadata": {
        "id": "FD05fY_0GuyS"
      }
    },
    {
      "cell_type": "markdown",
      "source": [
        "### Features Categóricas - One Hot Encoding"
      ],
      "metadata": {
        "id": "H9bXfiPnv_Mz"
      }
    },
    {
      "cell_type": "code",
      "source": [
        "# Identificando colunas categóricas\n",
        "categorical_cols = X.select_dtypes(include=['object']).columns.tolist()\n",
        "\n",
        "from sklearn.preprocessing import OneHotEncoder\n",
        "\n",
        "# Inicializando o encoder\n",
        "encoder = OneHotEncoder(drop='first', sparse=False)\n",
        "\n",
        "# Aplicando o encoder às colunas\n",
        "X_encoded = pd.DataFrame(encoder.fit_transform(X[categorical_cols]))\n",
        "\n",
        "# Nomeando as colunas\n",
        "X_encoded.columns = encoder.get_feature_names_out(categorical_cols)\n",
        "\n",
        "# Dropando as colunas categóricas originais\n",
        "X.drop(categorical_cols, axis=1, inplace=True)\n",
        "\n",
        "# Concatenando o resultado codificado ao dataset original\n",
        "X = pd.concat([X, X_encoded], axis=1)\n"
      ],
      "metadata": {
        "colab": {
          "base_uri": "https://localhost:8080/"
        },
        "id": "jry-SMTTwMgk",
        "outputId": "dff7d314-996d-4486-9c48-550c4708cf42"
      },
      "execution_count": 8,
      "outputs": [
        {
          "output_type": "stream",
          "name": "stderr",
          "text": [
            "/usr/local/lib/python3.10/dist-packages/sklearn/preprocessing/_encoders.py:868: FutureWarning: `sparse` was renamed to `sparse_output` in version 1.2 and will be removed in 1.4. `sparse_output` is ignored unless you leave `sparse` to its default value.\n",
            "  warnings.warn(\n"
          ]
        }
      ]
    },
    {
      "cell_type": "markdown",
      "source": [
        "### Normalização de Features - Standard Scaler"
      ],
      "metadata": {
        "id": "41pV5qHowlUU"
      }
    },
    {
      "cell_type": "code",
      "source": [
        "from sklearn.preprocessing import StandardScaler\n",
        "\n",
        "# Inicializando o scaler\n",
        "scaler = StandardScaler()\n",
        "\n",
        "# Transformando os dados\n",
        "X_scaled = scaler.fit_transform(X)\n",
        "\n",
        "# Transformando o resultado em DataFrame\n",
        "X = pd.DataFrame(X_scaled, columns=X.columns)"
      ],
      "metadata": {
        "id": "aj5v1yDRwoJk"
      },
      "execution_count": 9,
      "outputs": []
    },
    {
      "cell_type": "markdown",
      "source": [
        "### Divisão dos Dados em Treino e Teste"
      ],
      "metadata": {
        "id": "yB2qg6RoxK_q"
      }
    },
    {
      "cell_type": "code",
      "source": [
        "from sklearn.model_selection import train_test_split\n",
        "\n",
        "# Dividindo o conjunto de dados em treino e teste\n",
        "X_train, X_test, y_train, y_test = train_test_split(X, y, test_size=0.2, random_state=11)\n"
      ],
      "metadata": {
        "id": "idZWula1xLcE"
      },
      "execution_count": 10,
      "outputs": []
    },
    {
      "cell_type": "markdown",
      "source": [
        "## Modelagem"
      ],
      "metadata": {
        "id": "u4KhIC5rGvfn"
      }
    },
    {
      "cell_type": "markdown",
      "source": [
        "### Escolha do Modelo 1\n",
        "\n",
        "Para esse desafio, iremos começar com um modelo de Regressão Linear"
      ],
      "metadata": {
        "id": "r1OSZzScG5Fm"
      }
    },
    {
      "cell_type": "code",
      "source": [
        "from sklearn.linear_model import LinearRegression\n",
        "\n",
        "# Inicializando o modelo\n",
        "lr = LinearRegression()"
      ],
      "metadata": {
        "id": "Iv_MbtgTyDwB"
      },
      "execution_count": 11,
      "outputs": []
    },
    {
      "cell_type": "markdown",
      "source": [
        "### Treinamento e Avaliação do Modelo"
      ],
      "metadata": {
        "id": "WTm2HIWdyHZd"
      }
    },
    {
      "cell_type": "code",
      "source": [
        "from sklearn.metrics import mean_absolute_error, mean_squared_error, r2_score\n",
        "from sklearn.model_selection import cross_val_score\n",
        "\n",
        "# Treinando o modelo\n",
        "lr.fit(X_train, y_train)\n",
        "\n",
        "# Usando cross-validation com o modelo de Regressão Linear\n",
        "scores = cross_val_score(lr, X_train, y_train, cv=5, scoring='r2')\n",
        "print(\"R2 scores from cross-validation:\", scores)\n",
        "print(\"Mean R2 score from cross-validation:\", scores.mean())\n",
        "print(\"Standard Deviation of R2 scores from cross-validation:\", scores.std())\n",
        "\n",
        "# Fazendo previsões no conjunto de teste\n",
        "y_pred = lr.predict(X_test)\n",
        "\n",
        "# Calculando as métricas de avaliação\n",
        "mae = mean_absolute_error(y_test, y_pred)\n",
        "mse = mean_squared_error(y_test, y_pred)\n",
        "rmse = mean_squared_error(y_test, y_pred, squared=False)\n",
        "r2 = r2_score(y_test, y_pred)\n",
        "\n",
        "print(f\"\\nMean Absolute Error (MAE): {mae}\")\n",
        "print(f\"Mean Squared Error (MSE): {mse}\")\n",
        "print(f\"Root Mean Squared Error (RMSE): {rmse}\")\n",
        "print(f\"R-squared (R2) on test set: {r2}\")\n"
      ],
      "metadata": {
        "colab": {
          "base_uri": "https://localhost:8080/"
        },
        "id": "gqI_CDF3yHtx",
        "outputId": "578ea5fe-84a3-4196-ec07-75f5ddf83e5a"
      },
      "execution_count": 12,
      "outputs": [
        {
          "output_type": "stream",
          "name": "stdout",
          "text": [
            "R2 scores from cross-validation: [0.97893628 0.96495273 0.93968006 0.98680694 0.93016077]\n",
            "Mean R2 score from cross-validation: 0.960107357229095\n",
            "Standard Deviation of R2 scores from cross-validation: 0.021931468007578697\n",
            "\n",
            "Mean Absolute Error (MAE): 0.39915132817397136\n",
            "Mean Squared Error (MSE): 235.33661023471404\n",
            "Root Mean Squared Error (RMSE): 15.340684803316769\n",
            "R-squared (R2) on test set: 0.9710944071795178\n"
          ]
        }
      ]
    },
    {
      "cell_type": "code",
      "source": [
        "import matplotlib.pyplot as plt\n",
        "import seaborn as sns\n",
        "\n",
        "# 1. Visualização das Predições vs. Valores Reais\n",
        "plt.figure(figsize=(10,6))\n",
        "sns.scatterplot(x=y_test, y=y_pred)\n",
        "plt.xlabel('Valores Reais')\n",
        "plt.ylabel('Predições')\n",
        "plt.title('Valores Reais vs Predições')\n",
        "plt.plot([y_test.min(), y_test.max()], [y_test.min(), y_test.max()], color='red', lw=2)\n",
        "plt.show()\n",
        "\n",
        "# 2. Análise dos Resíduos\n",
        "residuos = y_test - y_pred\n",
        "plt.figure(figsize=(10,6))\n",
        "sns.histplot(residuos, bins=50, kde=True)\n",
        "plt.title('Distribuição dos Resíduos')\n",
        "plt.show()\n",
        "\n",
        "# 3. Importância das Features (apenas para modelos que permitem, como árvores de decisão ou modelos lineares)\n",
        "# Se você estiver usando um modelo linear:\n",
        "# coef_importance = pd.Series(lr.coef_, index=X.columns)\n",
        "# coef_importance = coef_importance.sort_values()\n",
        "# coef_importance.plot(kind='barh', figsize=(10,6))\n",
        "# plt.title('Importância das Features')\n",
        "# plt.show()\n"
      ],
      "metadata": {
        "colab": {
          "base_uri": "https://localhost:8080/",
          "height": 953
        },
        "id": "MUXfUL_N8IWA",
        "outputId": "8bb522dc-4e09-45c6-8605-6e9fdf4dd43a"
      },
      "execution_count": 19,
      "outputs": [
        {
          "output_type": "display_data",
          "data": {
            "text/plain": [
              "<Figure size 1000x600 with 1 Axes>"
            ],
            "image/png": "[encoded data removed]"
          },
          "metadata": {}
        },
        {
          "output_type": "display_data",
          "data": {
            "text/plain": [
              "<Figure size 1000x600 with 1 Axes>"
            ],
            "image/png": "[encoded data removed]"
          },
          "metadata": {}
        }
      ]
    },
    {
      "cell_type": "markdown",
      "source": [
        "### Análise dos Resultados do Modelo\n",
        "\n",
        "A validação cruzada é uma técnica robusta para avaliar a capacidade de generalização de um modelo em um conjunto de dados. Foi realizada uma validação cruzada de 5 divisões, e os resultados dos coeficientes de determinação ($R^2$) em cada divisão foram:\n",
        "\n",
        "**$R^2$: [0.9861,0.9819,0.9495,0.9870,0.9611]**\n",
        "\n",
        "- Média $R^2$: A média dos $R^2$ das 5 divisões foi 0.9731, indicando que, em média, o modelo explica 97.31% da variância do conjunto de treinamento. Esta é uma pontuação extremamente alta, sugerindo que o modelo se ajusta bem aos dados.\n",
        "\n",
        "- Desvio padrão $R^2$: O desvio padrão de 0.0151 indica quão dispersos estão os $R^2$ ao redor da média. Um desvio padrão baixo, como esse, sugere que o modelo é consistentemente bom independentemente da divisão dos dados.\n",
        "\n",
        "\n",
        "Ao avaliar o modelo no conjunto de teste, as métricas foram as seguintes:\n",
        "\n",
        "- Mean Absolute Error (MAE): 0.3795 - Esta métrica indica o erro médio absoluto entre os valores reais e as previsões. Em outras palavras, em média, o modelo erra a nota média ponderada por 0.3795 pontos.\n",
        "\n",
        "- Mean Squared Error (MSE): 218.8653 - O MSE penaliza erros maiores, tornando-se mais útil quando erros maiores são particularmente indesejáveis.\n",
        "\n",
        "- Root Mean Squared Error (RMSE): 14.7941 - Esta é a raiz quadrada do MSE e tem a mesma unidade que a variável de destino (nota média ponderada neste caso). Assim como o MAE, indica o quanto o modelo erra, em média, mas dando mais peso a erros maiores.\n",
        "\n",
        "- R-squared ($R^2$) on test set: 0.9731 - Similar à média R2 da validação cruzada, esta métrica indica que o modelo explica 97.31% da variância no conjunto de teste."
      ],
      "metadata": {
        "id": "FE-ckhQ2yk6c"
      }
    },
    {
      "cell_type": "markdown",
      "source": [
        "### Conclusão sobre o Modelo\n",
        "O modelo de regressão linear apresentou um desempenho notavelmente alto tanto no treinamento (como evidenciado pela validação cruzada) quanto no teste. A consistência da métrica R2 entre treinamento e teste sugere que o modelo é robusto e generaliza bem para novos dados. O MAE e RMSE baixos indicam que o modelo faz previsões bastante precisas para a nota média ponderada.\n",
        "No entanto, devemos no atentar à possibilidade de 'overfitting' devido"
      ],
      "metadata": {
        "id": "D5hU9nQM1p4I"
      }
    },
    {
      "cell_type": "markdown",
      "source": [
        "\n",
        "\n",
        "---\n",
        "\n"
      ],
      "metadata": {
        "id": "uq-RpTEY1bZr"
      }
    },
    {
      "cell_type": "markdown",
      "source": [
        "### Escolha do Modelo 2\n",
        "Agora iremos implementar o XGBoost, modelo eficaz que, além de fornecer diversas funcionalidades (como lidar com NAN's) lida também com a questão de regularização"
      ],
      "metadata": {
        "id": "XTJiDoIQ4jDl"
      }
    },
    {
      "cell_type": "code",
      "source": [
        "!pip install xgboost\n"
      ],
      "metadata": {
        "colab": {
          "base_uri": "https://localhost:8080/"
        },
        "id": "DMDjww8G4juz",
        "outputId": "9a9f0a1e-9afa-4bc4-f47c-d4ee38725700"
      },
      "execution_count": 13,
      "outputs": [
        {
          "output_type": "stream",
          "name": "stdout",
          "text": [
            "Requirement already satisfied: xgboost in /usr/local/lib/python3.10/dist-packages (1.7.6)\n",
            "Requirement already satisfied: numpy in /usr/local/lib/python3.10/dist-packages (from xgboost) (1.23.5)\n",
            "Requirement already satisfied: scipy in /usr/local/lib/python3.10/dist-packages (from xgboost) (1.10.1)\n"
          ]
        }
      ]
    },
    {
      "cell_type": "code",
      "source": [
        "import xgboost as xgb\n",
        "\n",
        "# Convertendo os dados para estrutura DMatrix do XGBoost\n",
        "data_dmatrix = xgb.DMatrix(data=X,label=y)\n",
        "\n",
        "# Criando e treinando o modelo\n",
        "xg_reg = xgb.XGBRegressor(objective ='reg:squarederror', colsample_bytree = 0.3, learning_rate = 0.1,\n",
        "                max_depth = 5, alpha = 10, n_estimators = 100)\n",
        "\n",
        "xg_reg.fit(X_train,y_train)\n"
      ],
      "metadata": {
        "colab": {
          "base_uri": "https://localhost:8080/",
          "height": 248
        },
        "id": "t7-MOsOC6Zc1",
        "outputId": "302b08fd-f9f7-4f64-8421-9c9124f43405"
      },
      "execution_count": 14,
      "outputs": [
        {
          "output_type": "execute_result",
          "data": {
            "text/plain": [
              "XGBRegressor(alpha=10, base_score=None, booster=None, callbacks=None,\n",
              "             colsample_bylevel=None, colsample_bynode=None,\n",
              "             colsample_bytree=0.3, early_stopping_rounds=None,\n",
              "             enable_categorical=False, eval_metric=None, feature_types=None,\n",
              "             gamma=None, gpu_id=None, grow_policy=None, importance_type=None,\n",
              "             interaction_constraints=None, learning_rate=0.1, max_bin=None,\n",
              "             max_cat_threshold=None, max_cat_to_onehot=None,\n",
              "             max_delta_step=None, max_depth=5, max_leaves=None,\n",
              "             min_child_weight=None, missing=nan, monotone_constraints=None,\n",
              "             n_estimators=100, n_jobs=None, num_parallel_tree=None,\n",
              "             predictor=None, ...)"
            ],
            "text/html": [
              "<style>#sk-container-id-1 {color: black;background-color: white;}#sk-container-id-1 pre{padding: 0;}#sk-container-id-1 div.sk-toggleable {background-color: white;}#sk-container-id-1 label.sk-toggleable__label {cursor: pointer;display: block;width: 100%;margin-bottom: 0;padding: 0.3em;box-sizing: border-box;text-align: center;}#sk-container-id-1 label.sk-toggleable__label-arrow:before {content: \"▸\";float: left;margin-right: 0.25em;color: #696969;}#sk-container-id-1 label.sk-toggleable__label-arrow:hover:before {color: black;}#sk-container-id-1 div.sk-estimator:hover label.sk-toggleable__label-arrow:before {color: black;}#sk-container-id-1 div.sk-toggleable__content {max-height: 0;max-width: 0;overflow: hidden;text-align: left;background-color: #f0f8ff;}#sk-container-id-1 div.sk-toggleable__content pre {margin: 0.2em;color: black;border-radius: 0.25em;background-color: #f0f8ff;}#sk-container-id-1 input.sk-toggleable__control:checked~div.sk-toggleable__content {max-height: 200px;max-width: 100%;overflow: auto;}#sk-container-id-1 input.sk-toggleable__control:checked~label.sk-toggleable__label-arrow:before {content: \"▾\";}#sk-container-id-1 div.sk-estimator input.sk-toggleable__control:checked~label.sk-toggleable__label {background-color: #d4ebff;}#sk-container-id-1 div.sk-label input.sk-toggleable__control:checked~label.sk-toggleable__label {background-color: #d4ebff;}#sk-container-id-1 input.sk-hidden--visually {border: 0;clip: rect(1px 1px 1px 1px);clip: rect(1px, 1px, 1px, 1px);height: 1px;margin: -1px;overflow: hidden;padding: 0;position: absolute;width: 1px;}#sk-container-id-1 div.sk-estimator {font-family: monospace;background-color: #f0f8ff;border: 1px dotted black;border-radius: 0.25em;box-sizing: border-box;margin-bottom: 0.5em;}#sk-container-id-1 div.sk-estimator:hover {background-color: #d4ebff;}#sk-container-id-1 div.sk-parallel-item::after {content: \"\";width: 100%;border-bottom: 1px solid gray;flex-grow: 1;}#sk-container-id-1 div.sk-label:hover label.sk-toggleable__label {background-color: #d4ebff;}#sk-container-id-1 div.sk-serial::before {content: \"\";position: absolute;border-left: 1px solid gray;box-sizing: border-box;top: 0;bottom: 0;left: 50%;z-index: 0;}#sk-container-id-1 div.sk-serial {display: flex;flex-direction: column;align-items: center;background-color: white;padding-right: 0.2em;padding-left: 0.2em;position: relative;}#sk-container-id-1 div.sk-item {position: relative;z-index: 1;}#sk-container-id-1 div.sk-parallel {display: flex;align-items: stretch;justify-content: center;background-color: white;position: relative;}#sk-container-id-1 div.sk-item::before, #sk-container-id-1 div.sk-parallel-item::before {content: \"\";position: absolute;border-left: 1px solid gray;box-sizing: border-box;top: 0;bottom: 0;left: 50%;z-index: -1;}#sk-container-id-1 div.sk-parallel-item {display: flex;flex-direction: column;z-index: 1;position: relative;background-color: white;}#sk-container-id-1 div.sk-parallel-item:first-child::after {align-self: flex-end;width: 50%;}#sk-container-id-1 div.sk-parallel-item:last-child::after {align-self: flex-start;width: 50%;}#sk-container-id-1 div.sk-parallel-item:only-child::after {width: 0;}#sk-container-id-1 div.sk-dashed-wrapped {border: 1px dashed gray;margin: 0 0.4em 0.5em 0.4em;box-sizing: border-box;padding-bottom: 0.4em;background-color: white;}#sk-container-id-1 div.sk-label label {font-family: monospace;font-weight: bold;display: inline-block;line-height: 1.2em;}#sk-container-id-1 div.sk-label-container {text-align: center;}#sk-container-id-1 div.sk-container {/* jupyter's `normalize.less` sets `[hidden] { display: none; }` but bootstrap.min.css set `[hidden] { display: none !important; }` so we also need the `!important` here to be able to override the default hidden behavior on the sphinx rendered scikit-learn.org. See: https://github.com/scikit-learn/scikit-learn/issues/21755 */display: inline-block !important;position: relative;}#sk-container-id-1 div.sk-text-repr-fallback {display: none;}</style><div id=\"sk-container-id-1\" class=\"sk-top-container\"><div class=\"sk-text-repr-fallback\"><pre>XGBRegressor(alpha=10, base_score=None, booster=None, callbacks=None,\n",
              "             colsample_bylevel=None, colsample_bynode=None,\n",
              "             colsample_bytree=0.3, early_stopping_rounds=None,\n",
              "             enable_categorical=False, eval_metric=None, feature_types=None,\n",
              "             gamma=None, gpu_id=None, grow_policy=None, importance_type=None,\n",
              "             interaction_constraints=None, learning_rate=0.1, max_bin=None,\n",
              "             max_cat_threshold=None, max_cat_to_onehot=None,\n",
              "             max_delta_step=None, max_depth=5, max_leaves=None,\n",
              "             min_child_weight=None, missing=nan, monotone_constraints=None,\n",
              "             n_estimators=100, n_jobs=None, num_parallel_tree=None,\n",
              "             predictor=None, ...)</pre><b>In a Jupyter environment, please rerun this cell to show the HTML representation or trust the notebook. <br />On GitHub, the HTML representation is unable to render, please try loading this page with nbviewer.org.</b></div><div class=\"sk-container\" hidden><div class=\"sk-item\"><div class=\"sk-estimator sk-toggleable\"><input class=\"sk-toggleable__control sk-hidden--visually\" id=\"sk-estimator-id-1\" type=\"checkbox\" checked><label for=\"sk-estimator-id-1\" class=\"sk-toggleable__label sk-toggleable__label-arrow\">XGBRegressor</label><div class=\"sk-toggleable__content\"><pre>XGBRegressor(alpha=10, base_score=None, booster=None, callbacks=None,\n",
              "             colsample_bylevel=None, colsample_bynode=None,\n",
              "             colsample_bytree=0.3, early_stopping_rounds=None,\n",
              "             enable_categorical=False, eval_metric=None, feature_types=None,\n",
              "             gamma=None, gpu_id=None, grow_policy=None, importance_type=None,\n",
              "             interaction_constraints=None, learning_rate=0.1, max_bin=None,\n",
              "             max_cat_threshold=None, max_cat_to_onehot=None,\n",
              "             max_delta_step=None, max_depth=5, max_leaves=None,\n",
              "             min_child_weight=None, missing=nan, monotone_constraints=None,\n",
              "             n_estimators=100, n_jobs=None, num_parallel_tree=None,\n",
              "             predictor=None, ...)</pre></div></div></div></div></div>"
            ]
          },
          "metadata": {},
          "execution_count": 14
        }
      ]
    },
    {
      "cell_type": "markdown",
      "source": [
        "### Fazendo previsões"
      ],
      "metadata": {
        "id": "9z8U82RN6mfH"
      }
    },
    {
      "cell_type": "code",
      "source": [
        "y_pred = xg_reg.predict(X_test)\n"
      ],
      "metadata": {
        "id": "Y0wqFVlK6m1U"
      },
      "execution_count": 15,
      "outputs": []
    },
    {
      "cell_type": "markdown",
      "source": [
        "### Avaliação do Modelo"
      ],
      "metadata": {
        "id": "pObUGBjq6qpl"
      }
    },
    {
      "cell_type": "code",
      "source": [
        "from sklearn.metrics import mean_absolute_error, mean_squared_error, r2_score\n",
        "\n",
        "# Fazendo previsões com o modelo\n",
        "y_pred = xg_reg.predict(X_test)\n",
        "\n",
        "# Calculando as métricas de avaliação\n",
        "mae = mean_absolute_error(y_test, y_pred)\n",
        "mse = mean_squared_error(y_test, y_pred)\n",
        "rmse = mean_squared_error(y_test, y_pred, squared=False)\n",
        "r2 = r2_score(y_test, y_pred)\n",
        "\n",
        "print(f\"Mean Absolute Error (MAE): {mae}\")\n",
        "print(f\"Mean Squared Error (MSE): {mse}\")\n",
        "print(f\"Root Mean Squared Error (RMSE): {rmse}\")\n",
        "print(f\"R-squared (R2): {r2}\")"
      ],
      "metadata": {
        "colab": {
          "base_uri": "https://localhost:8080/"
        },
        "id": "8H4gToaW6q3-",
        "outputId": "ba047f3e-ce44-4f62-d719-76f712471ec5"
      },
      "execution_count": 16,
      "outputs": [
        {
          "output_type": "stream",
          "name": "stdout",
          "text": [
            "Mean Absolute Error (MAE): 1.835999379281981\n",
            "Mean Squared Error (MSE): 5.544381885671821\n",
            "Root Mean Squared Error (RMSE): 2.3546511176120806\n",
            "R-squared (R2): 0.9993190024915009\n"
          ]
        }
      ]
    },
    {
      "cell_type": "code",
      "source": [
        "import joblib\n",
        "\n",
        "# Salvar o modelo\n",
        "joblib.dump(grid_search.best_estimator_, 'xgboost_model.pkl')\n"
      ],
      "metadata": {
        "id": "N9w-zXowBTaK"
      },
      "execution_count": null,
      "outputs": []
    },
    {
      "cell_type": "markdown",
      "source": [
        "### Comparação entre os resultados de ambos os modelos\n",
        "\n"
      ],
      "metadata": {
        "id": "XLB1AcQr6sbZ"
      }
    },
    {
      "cell_type": "markdown",
      "source": [
        "Com base nos resultados obtidos:\n",
        "\n",
        "**Regressão Linear:**\n",
        "- MAE: 0.3795\n",
        "- MSE: 218.8653\n",
        "- RMSE: 14.7941\n",
        "- $R^2$: 0.9731\n",
        "\n",
        "**XGBoost:**\n",
        "- MAE: 1.8360\n",
        "- MSE: 5.5444\n",
        "- RMSE: 2.3547\n",
        "- $R^2$: 0.9993\n",
        "\n",
        "### Comparação:\n",
        "- Erro Médio Absoluto (MAE): O MAE para o XGBoost é significativamente maior do que para a regressão linear. Isso indica que, em média, as previsões do XGBoost estão um pouco mais distantes dos valores reais em comparação com a regressão linear.\n",
        "\n",
        "- Erro Quadrático Médio (MSE) e Raiz do Erro Quadrático Médio (RMSE): Ambas as métricas são consideravelmente menores no XGBoost em comparação com a regressão linear. Isto é uma boa indicação, pois sugere que os erros do XGBoost, em geral, são menores e menos variáveis.\n",
        "\n",
        "- $R^2$(Coeficiente de Determinação): O valor de $R^2$ para o XGBoost é quase perfeito (0.9993), o que indica que o modelo explica quase toda a variabilidade dos dados. Em comparação, a regressão linear tem um $R^2$ de 0.9731, que ainda é muito bom, mas não tão alto quanto o XGBoost.\n",
        "\n"
      ],
      "metadata": {
        "id": "x1VvqyMD73vW"
      }
    },
    {
      "cell_type": "markdown",
      "source": [
        "### Conclusão:\n",
        "Ambos os modelos têm um desempenho impressionante na previsão das notas médias ponderadas. No entanto, o XGBoost supera a regressão linear em termos de precisão, com um\n",
        "$R^2$\n",
        "  mais alto e valores MSE e RMSE mais baixos. O único ponto de cautela é o MAE ligeiramente mais alto do XGBoost, mas, em geral, o XGBoost parece ser o modelo superior neste caso."
      ],
      "metadata": {
        "id": "vyGGQRFE5JRQ"
      }
    },
    {
      "cell_type": "markdown",
      "source": [
        "\n",
        "\n",
        "---\n",
        "\n"
      ],
      "metadata": {
        "id": "6_ejA5DR1e_X"
      }
    },
    {
      "cell_type": "markdown",
      "source": [
        "## AutoML"
      ],
      "metadata": {
        "id": "l562MM8u8wvC"
      }
    },
    {
      "cell_type": "markdown",
      "source": [
        "Na terceira abordagem, decidimos empregar o 'AutoML'. Esta escolha se baseia na capacidade do AutoML de avaliar automaticamente uma variedade de modelos de machine learning, otimizando nosso processo de seleção. Ao utilizar esta ferramenta, não apenas objetivamos encontrar o modelo com a melhor performance preditiva, mas também consideramos a eficiência em termos de tempo de execução. Com o AutoML, buscamos uma combinação equilibrada de precisão e eficiência, permitindo uma tomada de decisão mais informada sobre o modelo a ser adotado.\n"
      ],
      "metadata": {
        "id": "pmRPNXCT6gwm"
      }
    },
    {
      "cell_type": "markdown",
      "source": [
        "### Pré-Processamento\n",
        "Vamos seguir com o pré-processamento dos dados:\n",
        "\n",
        "- Calcular a nota média ponderada com base nos pesos fornecidos.\n",
        "- Verificar e tratar valores nulos, se necessário."
      ],
      "metadata": {
        "id": "t0QXGesN_-_4"
      }
    },
    {
      "cell_type": "code",
      "source": [
        "# Ponderação das notas\n",
        "pesos = {\n",
        "    \"NU_NOTA_CN\": 1,\n",
        "    \"NU_NOTA_CH\": 3,\n",
        "    \"NU_NOTA_MT\": 1,\n",
        "    \"NU_NOTA_REDACAO\": 3,\n",
        "    \"NU_NOTA_LC\": 2\n",
        "}\n",
        "\n",
        "# Calculando a nota média ponderada\n",
        "df[\"NOTA_MEDIA_PONDERADA\"] = sum(df[col] * peso for col, peso in pesos.items()) / sum(pesos.values())\n",
        "\n",
        "# Verificando a presença de valores nulos nas colunas de notas e na coluna da nota média ponderada\n",
        "valores_nulos = df[notas_cols + [\"NOTA_MEDIA_PONDERADA\"]].isnull().sum()\n",
        "\n",
        "valores_nulos\n"
      ],
      "metadata": {
        "id": "PGR_NUiZ__S0",
        "colab": {
          "base_uri": "https://localhost:8080/"
        },
        "outputId": "94483f73-ef4f-4288-9f36-db450820e5ae"
      },
      "execution_count": 22,
      "outputs": [
        {
          "output_type": "execute_result",
          "data": {
            "text/plain": [
              "NU_NOTA_CN              0\n",
              "NU_NOTA_CH              0\n",
              "NU_NOTA_MT              0\n",
              "NU_NOTA_REDACAO         0\n",
              "NU_NOTA_LC              0\n",
              "NOTA_MEDIA_PONDERADA    0\n",
              "dtype: int64"
            ]
          },
          "metadata": {},
          "execution_count": 22
        }
      ]
    },
    {
      "cell_type": "markdown",
      "source": [
        "### Modelagem com PyCaret"
      ],
      "metadata": {
        "id": "4IyZ2lRh__jJ"
      }
    },
    {
      "cell_type": "code",
      "source": [
        "# Instalando o PyCaret\n",
        "!pip install pycaret"
      ],
      "metadata": {
        "id": "mVXlMXAcBBd-",
        "colab": {
          "base_uri": "https://localhost:8080/"
        },
        "outputId": "af42a0aa-d9d8-4bf1-8a45-116dc913cbc6"
      },
      "execution_count": 23,
      "outputs": [
        {
          "output_type": "stream",
          "name": "stdout",
          "text": [
            "Collecting pycaret\n",
            "  Downloading pycaret-3.0.4-py3-none-any.whl (484 kB)\n",
            "\u001b[2K     \u001b[90m━━━━━━━━━━━━━━━━━━━━━━━━━━━━━━━━━━━━━━━\u001b[0m \u001b[32m484.4/484.4 kB\u001b[0m \u001b[31m7.6 MB/s\u001b[0m eta \u001b[36m0:00:00\u001b[0m\n",
            "\u001b[?25hRequirement already satisfied: ipython>=5.5.0 in /usr/local/lib/python3.10/dist-packages (from pycaret) (7.34.0)\n",
            "Requirement already satisfied: ipywidgets>=7.6.5 in /usr/local/lib/python3.10/dist-packages (from pycaret) (7.7.1)\n",
            "Requirement already satisfied: tqdm>=4.62.0 in /usr/local/lib/python3.10/dist-packages (from pycaret) (4.66.1)\n",
            "Requirement already satisfied: numpy<1.24,>=1.21 in /usr/local/lib/python3.10/dist-packages (from pycaret) (1.23.5)\n",
            "Requirement already satisfied: pandas<2.0.0,>=1.3.0 in /usr/local/lib/python3.10/dist-packages (from pycaret) (1.5.3)\n",
            "Requirement already satisfied: jinja2>=1.2 in /usr/local/lib/python3.10/dist-packages (from pycaret) (3.1.2)\n",
            "Requirement already satisfied: scipy<2.0.0 in /usr/local/lib/python3.10/dist-packages (from pycaret) (1.10.1)\n",
            "Requirement already satisfied: joblib>=1.2.0 in /usr/local/lib/python3.10/dist-packages (from pycaret) (1.3.2)\n",
            "Requirement already satisfied: scikit-learn<1.3.0,>=1.0 in /usr/local/lib/python3.10/dist-packages (from pycaret) (1.2.2)\n",
            "Collecting pyod>=1.0.8 (from pycaret)\n",
            "  Downloading pyod-1.1.0.tar.gz (153 kB)\n",
            "\u001b[2K     \u001b[90m━━━━━━━━━━━━━━━━━━━━━━━━━━━━━━━━━━━━━━\u001b[0m \u001b[32m153.4/153.4 kB\u001b[0m \u001b[31m12.8 MB/s\u001b[0m eta \u001b[36m0:00:00\u001b[0m\n",
            "\u001b[?25h  Preparing metadata (setup.py) ... \u001b[?25l\u001b[?25hdone\n",
            "Requirement already satisfied: imbalanced-learn>=0.8.1 in /usr/local/lib/python3.10/dist-packages (from pycaret) (0.10.1)\n",
            "Collecting category-encoders>=2.4.0 (from pycaret)\n",
            "  Downloading category_encoders-2.6.2-py2.py3-none-any.whl (81 kB)\n",
            "\u001b[2K     \u001b[90m━━━━━━━━━━━━━━━━━━━━━━━━━━━━━━━━━━━━━━━━\u001b[0m \u001b[32m81.8/81.8 kB\u001b[0m \u001b[31m11.5 MB/s\u001b[0m eta \u001b[36m0:00:00\u001b[0m\n",
            "\u001b[?25hRequirement already satisfied: lightgbm>=3.0.0 in /usr/local/lib/python3.10/dist-packages (from pycaret) (4.0.0)\n",
            "Requirement already satisfied: numba>=0.55.0 in /usr/local/lib/python3.10/dist-packages (from pycaret) (0.56.4)\n",
            "Requirement already satisfied: requests>=2.27.1 in /usr/local/lib/python3.10/dist-packages (from pycaret) (2.31.0)\n",
            "Requirement already satisfied: psutil>=5.9.0 in /usr/local/lib/python3.10/dist-packages (from pycaret) (5.9.5)\n",
            "Requirement already satisfied: markupsafe>=2.0.1 in /usr/local/lib/python3.10/dist-packages (from pycaret) (2.1.3)\n",
            "Requirement already satisfied: importlib-metadata>=4.12.0 in /usr/local/lib/python3.10/dist-packages (from pycaret) (6.8.0)\n",
            "Requirement already satisfied: nbformat>=4.2.0 in /usr/local/lib/python3.10/dist-packages (from pycaret) (5.9.2)\n",
            "Requirement already satisfied: cloudpickle in /usr/local/lib/python3.10/dist-packages (from pycaret) (2.2.1)\n",
            "Collecting deprecation>=2.1.0 (from pycaret)\n",
            "  Downloading deprecation-2.1.0-py2.py3-none-any.whl (11 kB)\n",
            "Collecting xxhash (from pycaret)\n",
            "  Downloading xxhash-3.3.0-cp310-cp310-manylinux_2_17_x86_64.manylinux2014_x86_64.whl (194 kB)\n",
            "\u001b[2K     \u001b[90m━━━━━━━━━━━━━━━━━━━━━━━━━━━━━━━━━━━━━━\u001b[0m \u001b[32m194.1/194.1 kB\u001b[0m \u001b[31m14.8 MB/s\u001b[0m eta \u001b[36m0:00:00\u001b[0m\n",
            "\u001b[?25hRequirement already satisfied: matplotlib>=3.3.0 in /usr/local/lib/python3.10/dist-packages (from pycaret) (3.7.1)\n",
            "Collecting scikit-plot>=0.3.7 (from pycaret)\n",
            "  Downloading scikit_plot-0.3.7-py3-none-any.whl (33 kB)\n",
            "Requirement already satisfied: yellowbrick>=1.4 in /usr/local/lib/python3.10/dist-packages (from pycaret) (1.5)\n",
            "Requirement already satisfied: plotly>=5.0.0 in /usr/local/lib/python3.10/dist-packages (from pycaret) (5.15.0)\n",
            "Collecting kaleido>=0.2.1 (from pycaret)\n",
            "  Downloading kaleido-0.2.1-py2.py3-none-manylinux1_x86_64.whl (79.9 MB)\n",
            "\u001b[2K     \u001b[90m━━━━━━━━━━━━━━━━━━━━━━━━━━━━━━━━━━━━━━━━\u001b[0m \u001b[32m79.9/79.9 MB\u001b[0m \u001b[31m2.1 MB/s\u001b[0m eta \u001b[36m0:00:00\u001b[0m\n",
            "\u001b[?25hCollecting schemdraw==0.15 (from pycaret)\n",
            "  Downloading schemdraw-0.15-py3-none-any.whl (106 kB)\n",
            "\u001b[2K     \u001b[90m━━━━━━━━━━━━━━━━━━━━━━━━━━━━━━━━━━━━━━\u001b[0m \u001b[32m106.8/106.8 kB\u001b[0m \u001b[31m15.7 MB/s\u001b[0m eta \u001b[36m0:00:00\u001b[0m\n",
            "\u001b[?25hCollecting plotly-resampler>=0.8.3.1 (from pycaret)\n",
            "  Downloading plotly_resampler-0.9.1-py3-none-any.whl (73 kB)\n",
            "\u001b[2K     \u001b[90m━━━━━━━━━━━━━━━━━━━━━━━━━━━━━━━━━━━━━━━━\u001b[0m \u001b[32m73.4/73.4 kB\u001b[0m \u001b[31m8.5 MB/s\u001b[0m eta \u001b[36m0:00:00\u001b[0m\n",
            "\u001b[?25hRequirement already satisfied: statsmodels>=0.12.1 in /usr/local/lib/python3.10/dist-packages (from pycaret) (0.14.0)\n",
            "Collecting sktime!=0.17.1,!=0.17.2,!=0.18.0,>=0.16.1 (from pycaret)\n",
            "  Downloading sktime-0.22.0-py3-none-any.whl (17.5 MB)\n",
            "\u001b[2K     \u001b[90m━━━━━━━━━━━━━━━━━━━━━━━━━━━━━━━━━━━━━━━━\u001b[0m \u001b[32m17.5/17.5 MB\u001b[0m \u001b[31m83.6 MB/s\u001b[0m eta \u001b[36m0:00:00\u001b[0m\n",
            "\u001b[?25hCollecting tbats>=1.1.3 (from pycaret)\n",
            "  Downloading tbats-1.1.3-py3-none-any.whl (44 kB)\n",
            "\u001b[2K     \u001b[90m━━━━━━━━━━━━━━━━━━━━━━━━━━━━━━━━━━━━━━━━\u001b[0m \u001b[32m44.0/44.0 kB\u001b[0m \u001b[31m5.8 MB/s\u001b[0m eta \u001b[36m0:00:00\u001b[0m\n",
            "\u001b[?25hCollecting pmdarima!=1.8.1,<3.0.0,>=1.8.0 (from pycaret)\n",
            "  Downloading pmdarima-2.0.3-cp310-cp310-manylinux_2_17_x86_64.manylinux2014_x86_64.manylinux_2_28_x86_64.whl (1.8 MB)\n",
            "\u001b[2K     \u001b[90m━━━━━━━━━━━━━━━━━━━━━━━━━━━━━━━━━━━━━━━━\u001b[0m \u001b[32m1.8/1.8 MB\u001b[0m \u001b[31m69.2 MB/s\u001b[0m eta \u001b[36m0:00:00\u001b[0m\n",
            "\u001b[?25hCollecting wurlitzer (from pycaret)\n",
            "  Downloading wurlitzer-3.0.3-py3-none-any.whl (7.3 kB)\n",
            "Requirement already satisfied: patsy>=0.5.1 in /usr/local/lib/python3.10/dist-packages (from category-encoders>=2.4.0->pycaret) (0.5.3)\n",
            "Requirement already satisfied: packaging in /usr/local/lib/python3.10/dist-packages (from deprecation>=2.1.0->pycaret) (23.1)\n",
            "Requirement already satisfied: threadpoolctl>=2.0.0 in /usr/local/lib/python3.10/dist-packages (from imbalanced-learn>=0.8.1->pycaret) (3.2.0)\n",
            "Requirement already satisfied: zipp>=0.5 in /usr/local/lib/python3.10/dist-packages (from importlib-metadata>=4.12.0->pycaret) (3.16.2)\n",
            "Requirement already satisfied: setuptools>=18.5 in /usr/local/lib/python3.10/dist-packages (from ipython>=5.5.0->pycaret) (67.7.2)\n",
            "Collecting jedi>=0.16 (from ipython>=5.5.0->pycaret)\n",
            "  Downloading jedi-0.19.0-py2.py3-none-any.whl (1.6 MB)\n",
            "\u001b[2K     \u001b[90m━━━━━━━━━━━━━━━━━━━━━━━━━━━━━━━━━━━━━━━━\u001b[0m \u001b[32m1.6/1.6 MB\u001b[0m \u001b[31m72.7 MB/s\u001b[0m eta \u001b[36m0:00:00\u001b[0m\n",
            "\u001b[?25hRequirement already satisfied: decorator in /usr/local/lib/python3.10/dist-packages (from ipython>=5.5.0->pycaret) (4.4.2)\n",
            "Requirement already satisfied: pickleshare in /usr/local/lib/python3.10/dist-packages (from ipython>=5.5.0->pycaret) (0.7.5)\n",
            "Requirement already satisfied: traitlets>=4.2 in /usr/local/lib/python3.10/dist-packages (from ipython>=5.5.0->pycaret) (5.7.1)\n",
            "Requirement already satisfied: prompt-toolkit!=3.0.0,!=3.0.1,<3.1.0,>=2.0.0 in /usr/local/lib/python3.10/dist-packages (from ipython>=5.5.0->pycaret) (3.0.39)\n",
            "Requirement already satisfied: pygments in /usr/local/lib/python3.10/dist-packages (from ipython>=5.5.0->pycaret) (2.16.1)\n",
            "Requirement already satisfied: backcall in /usr/local/lib/python3.10/dist-packages (from ipython>=5.5.0->pycaret) (0.2.0)\n",
            "Requirement already satisfied: matplotlib-inline in /usr/local/lib/python3.10/dist-packages (from ipython>=5.5.0->pycaret) (0.1.6)\n",
            "Requirement already satisfied: pexpect>4.3 in /usr/local/lib/python3.10/dist-packages (from ipython>=5.5.0->pycaret) (4.8.0)\n",
            "Requirement already satisfied: ipykernel>=4.5.1 in /usr/local/lib/python3.10/dist-packages (from ipywidgets>=7.6.5->pycaret) (5.5.6)\n",
            "Requirement already satisfied: ipython-genutils~=0.2.0 in /usr/local/lib/python3.10/dist-packages (from ipywidgets>=7.6.5->pycaret) (0.2.0)\n",
            "Requirement already satisfied: widgetsnbextension~=3.6.0 in /usr/local/lib/python3.10/dist-packages (from ipywidgets>=7.6.5->pycaret) (3.6.5)\n",
            "Requirement already satisfied: jupyterlab-widgets>=1.0.0 in /usr/local/lib/python3.10/dist-packages (from ipywidgets>=7.6.5->pycaret) (3.0.8)\n",
            "Requirement already satisfied: contourpy>=1.0.1 in /usr/local/lib/python3.10/dist-packages (from matplotlib>=3.3.0->pycaret) (1.1.0)\n",
            "Requirement already satisfied: cycler>=0.10 in /usr/local/lib/python3.10/dist-packages (from matplotlib>=3.3.0->pycaret) (0.11.0)\n",
            "Requirement already satisfied: fonttools>=4.22.0 in /usr/local/lib/python3.10/dist-packages (from matplotlib>=3.3.0->pycaret) (4.42.1)\n",
            "Requirement already satisfied: kiwisolver>=1.0.1 in /usr/local/lib/python3.10/dist-packages (from matplotlib>=3.3.0->pycaret) (1.4.5)\n",
            "Requirement already satisfied: pillow>=6.2.0 in /usr/local/lib/python3.10/dist-packages (from matplotlib>=3.3.0->pycaret) (9.4.0)\n",
            "Requirement already satisfied: pyparsing>=2.3.1 in /usr/local/lib/python3.10/dist-packages (from matplotlib>=3.3.0->pycaret) (3.1.1)\n",
            "Requirement already satisfied: python-dateutil>=2.7 in /usr/local/lib/python3.10/dist-packages (from matplotlib>=3.3.0->pycaret) (2.8.2)\n",
            "Requirement already satisfied: fastjsonschema in /usr/local/lib/python3.10/dist-packages (from nbformat>=4.2.0->pycaret) (2.18.0)\n",
            "Requirement already satisfied: jsonschema>=2.6 in /usr/local/lib/python3.10/dist-packages (from nbformat>=4.2.0->pycaret) (4.19.0)\n",
            "Requirement already satisfied: jupyter-core in /usr/local/lib/python3.10/dist-packages (from nbformat>=4.2.0->pycaret) (5.3.1)\n",
            "Requirement already satisfied: llvmlite<0.40,>=0.39.0dev0 in /usr/local/lib/python3.10/dist-packages (from numba>=0.55.0->pycaret) (0.39.1)\n",
            "Requirement already satisfied: pytz>=2020.1 in /usr/local/lib/python3.10/dist-packages (from pandas<2.0.0,>=1.3.0->pycaret) (2023.3.post1)\n",
            "Requirement already satisfied: tenacity>=6.2.0 in /usr/local/lib/python3.10/dist-packages (from plotly>=5.0.0->pycaret) (8.2.3)\n",
            "Collecting dash<3.0.0,>=2.11.0 (from plotly-resampler>=0.8.3.1->pycaret)\n",
            "  Downloading dash-2.13.0-py3-none-any.whl (10.4 MB)\n",
            "\u001b[2K     \u001b[90m━━━━━━━━━━━━━━━━━━━━━━━━━━━━━━━━━━━━━━━━\u001b[0m \u001b[32m10.4/10.4 MB\u001b[0m \u001b[31m86.8 MB/s\u001b[0m eta \u001b[36m0:00:00\u001b[0m\n",
            "\u001b[?25hCollecting orjson<4.0.0,>=3.8.0 (from plotly-resampler>=0.8.3.1->pycaret)\n",
            "  Downloading orjson-3.9.7-cp310-cp310-manylinux_2_17_x86_64.manylinux2014_x86_64.whl (138 kB)\n",
            "\u001b[2K     \u001b[90m━━━━━━━━━━━━━━━━━━━━━━━━━━━━━━━━━━━━━━\u001b[0m \u001b[32m138.7/138.7 kB\u001b[0m \u001b[31m18.2 MB/s\u001b[0m eta \u001b[36m0:00:00\u001b[0m\n",
            "\u001b[?25hCollecting trace-updater>=0.0.8 (from plotly-resampler>=0.8.3.1->pycaret)\n",
            "  Downloading trace_updater-0.0.9.1-py3-none-any.whl (185 kB)\n",
            "\u001b[2K     \u001b[90m━━━━━━━━━━━━━━━━━━━━━━━━━━━━━━━━━━━━━━\u001b[0m \u001b[32m185.2/185.2 kB\u001b[0m \u001b[31m23.3 MB/s\u001b[0m eta \u001b[36m0:00:00\u001b[0m\n",
            "\u001b[?25hCollecting tsdownsample==0.1.2 (from plotly-resampler>=0.8.3.1->pycaret)\n",
            "  Downloading tsdownsample-0.1.2-cp310-cp310-manylinux_2_17_x86_64.manylinux2014_x86_64.whl (2.3 MB)\n",
            "\u001b[2K     \u001b[90m━━━━━━━━━━━━━━━━━━━━━━━━━━━━━━━━━━━━━━━━\u001b[0m \u001b[32m2.3/2.3 MB\u001b[0m \u001b[31m86.5 MB/s\u001b[0m eta \u001b[36m0:00:00\u001b[0m\n",
            "\u001b[?25hRequirement already satisfied: Cython!=0.29.18,!=0.29.31,>=0.29 in /usr/local/lib/python3.10/dist-packages (from pmdarima!=1.8.1,<3.0.0,>=1.8.0->pycaret) (0.29.36)\n",
            "Requirement already satisfied: urllib3 in /usr/local/lib/python3.10/dist-packages (from pmdarima!=1.8.1,<3.0.0,>=1.8.0->pycaret) (2.0.4)\n",
            "Requirement already satisfied: six in /usr/local/lib/python3.10/dist-packages (from pyod>=1.0.8->pycaret) (1.16.0)\n",
            "Requirement already satisfied: charset-normalizer<4,>=2 in /usr/local/lib/python3.10/dist-packages (from requests>=2.27.1->pycaret) (3.2.0)\n",
            "Requirement already satisfied: idna<4,>=2.5 in /usr/local/lib/python3.10/dist-packages (from requests>=2.27.1->pycaret) (3.4)\n",
            "Requirement already satisfied: certifi>=2017.4.17 in /usr/local/lib/python3.10/dist-packages (from requests>=2.27.1->pycaret) (2023.7.22)\n",
            "Collecting scikit-base<0.6.0 (from sktime!=0.17.1,!=0.17.2,!=0.18.0,>=0.16.1->pycaret)\n",
            "  Downloading scikit_base-0.5.1-py3-none-any.whl (118 kB)\n",
            "\u001b[2K     \u001b[90m━━━━━━━━━━━━━━━━━━━━━━━━━━━━━━━━━━━━━━\u001b[0m \u001b[32m118.7/118.7 kB\u001b[0m \u001b[31m16.9 MB/s\u001b[0m eta \u001b[36m0:00:00\u001b[0m\n",
            "\u001b[?25hRequirement already satisfied: Flask<2.3.0,>=1.0.4 in /usr/local/lib/python3.10/dist-packages (from dash<3.0.0,>=2.11.0->plotly-resampler>=0.8.3.1->pycaret) (2.2.5)\n",
            "Collecting Werkzeug<2.3.0 (from dash<3.0.0,>=2.11.0->plotly-resampler>=0.8.3.1->pycaret)\n",
            "  Downloading Werkzeug-2.2.3-py3-none-any.whl (233 kB)\n",
            "\u001b[2K     \u001b[90m━━━━━━━━━━━━━━━━━━━━━━━━━━━━━━━━━━━━━━\u001b[0m \u001b[32m233.6/233.6 kB\u001b[0m \u001b[31m25.8 MB/s\u001b[0m eta \u001b[36m0:00:00\u001b[0m\n",
            "\u001b[?25hCollecting dash-html-components==2.0.0 (from dash<3.0.0,>=2.11.0->plotly-resampler>=0.8.3.1->pycaret)\n",
            "  Downloading dash_html_components-2.0.0-py3-none-any.whl (4.1 kB)\n",
            "Collecting dash-core-components==2.0.0 (from dash<3.0.0,>=2.11.0->plotly-resampler>=0.8.3.1->pycaret)\n",
            "  Downloading dash_core_components-2.0.0-py3-none-any.whl (3.8 kB)\n",
            "Collecting dash-table==5.0.0 (from dash<3.0.0,>=2.11.0->plotly-resampler>=0.8.3.1->pycaret)\n",
            "  Downloading dash_table-5.0.0-py3-none-any.whl (3.9 kB)\n",
            "Requirement already satisfied: typing-extensions>=4.1.1 in /usr/local/lib/python3.10/dist-packages (from dash<3.0.0,>=2.11.0->plotly-resampler>=0.8.3.1->pycaret) (4.5.0)\n",
            "Collecting retrying (from dash<3.0.0,>=2.11.0->plotly-resampler>=0.8.3.1->pycaret)\n",
            "  Downloading retrying-1.3.4-py3-none-any.whl (11 kB)\n",
            "Collecting ansi2html (from dash<3.0.0,>=2.11.0->plotly-resampler>=0.8.3.1->pycaret)\n",
            "  Downloading ansi2html-1.8.0-py3-none-any.whl (16 kB)\n",
            "Requirement already satisfied: nest-asyncio in /usr/local/lib/python3.10/dist-packages (from dash<3.0.0,>=2.11.0->plotly-resampler>=0.8.3.1->pycaret) (1.5.7)\n",
            "Requirement already satisfied: jupyter-client in /usr/local/lib/python3.10/dist-packages (from ipykernel>=4.5.1->ipywidgets>=7.6.5->pycaret) (6.1.12)\n",
            "Requirement already satisfied: tornado>=4.2 in /usr/local/lib/python3.10/dist-packages (from ipykernel>=4.5.1->ipywidgets>=7.6.5->pycaret) (6.3.2)\n",
            "Requirement already satisfied: parso<0.9.0,>=0.8.3 in /usr/local/lib/python3.10/dist-packages (from jedi>=0.16->ipython>=5.5.0->pycaret) (0.8.3)\n",
            "Requirement already satisfied: attrs>=22.2.0 in /usr/local/lib/python3.10/dist-packages (from jsonschema>=2.6->nbformat>=4.2.0->pycaret) (23.1.0)\n",
            "Requirement already satisfied: jsonschema-specifications>=2023.03.6 in /usr/local/lib/python3.10/dist-packages (from jsonschema>=2.6->nbformat>=4.2.0->pycaret) (2023.7.1)\n",
            "Requirement already satisfied: referencing>=0.28.4 in /usr/local/lib/python3.10/dist-packages (from jsonschema>=2.6->nbformat>=4.2.0->pycaret) (0.30.2)\n",
            "Requirement already satisfied: rpds-py>=0.7.1 in /usr/local/lib/python3.10/dist-packages (from jsonschema>=2.6->nbformat>=4.2.0->pycaret) (0.10.2)\n",
            "Requirement already satisfied: ptyprocess>=0.5 in /usr/local/lib/python3.10/dist-packages (from pexpect>4.3->ipython>=5.5.0->pycaret) (0.7.0)\n",
            "Requirement already satisfied: wcwidth in /usr/local/lib/python3.10/dist-packages (from prompt-toolkit!=3.0.0,!=3.0.1,<3.1.0,>=2.0.0->ipython>=5.5.0->pycaret) (0.2.6)\n",
            "Requirement already satisfied: notebook>=4.4.1 in /usr/local/lib/python3.10/dist-packages (from widgetsnbextension~=3.6.0->ipywidgets>=7.6.5->pycaret) (6.5.5)\n",
            "Requirement already satisfied: platformdirs>=2.5 in /usr/local/lib/python3.10/dist-packages (from jupyter-core->nbformat>=4.2.0->pycaret) (3.10.0)\n",
            "Requirement already satisfied: itsdangerous>=2.0 in /usr/local/lib/python3.10/dist-packages (from Flask<2.3.0,>=1.0.4->dash<3.0.0,>=2.11.0->plotly-resampler>=0.8.3.1->pycaret) (2.1.2)\n",
            "Requirement already satisfied: click>=8.0 in /usr/local/lib/python3.10/dist-packages (from Flask<2.3.0,>=1.0.4->dash<3.0.0,>=2.11.0->plotly-resampler>=0.8.3.1->pycaret) (8.1.7)\n",
            "Requirement already satisfied: pyzmq<25,>=17 in /usr/local/lib/python3.10/dist-packages (from notebook>=4.4.1->widgetsnbextension~=3.6.0->ipywidgets>=7.6.5->pycaret) (23.2.1)\n",
            "Requirement already satisfied: argon2-cffi in /usr/local/lib/python3.10/dist-packages (from notebook>=4.4.1->widgetsnbextension~=3.6.0->ipywidgets>=7.6.5->pycaret) (23.1.0)\n",
            "Requirement already satisfied: nbconvert>=5 in /usr/local/lib/python3.10/dist-packages (from notebook>=4.4.1->widgetsnbextension~=3.6.0->ipywidgets>=7.6.5->pycaret) (6.5.4)\n",
            "Requirement already satisfied: Send2Trash>=1.8.0 in /usr/local/lib/python3.10/dist-packages (from notebook>=4.4.1->widgetsnbextension~=3.6.0->ipywidgets>=7.6.5->pycaret) (1.8.2)\n",
            "Requirement already satisfied: terminado>=0.8.3 in /usr/local/lib/python3.10/dist-packages (from notebook>=4.4.1->widgetsnbextension~=3.6.0->ipywidgets>=7.6.5->pycaret) (0.17.1)\n",
            "Requirement already satisfied: prometheus-client in /usr/local/lib/python3.10/dist-packages (from notebook>=4.4.1->widgetsnbextension~=3.6.0->ipywidgets>=7.6.5->pycaret) (0.17.1)\n",
            "Requirement already satisfied: nbclassic>=0.4.7 in /usr/local/lib/python3.10/dist-packages (from notebook>=4.4.1->widgetsnbextension~=3.6.0->ipywidgets>=7.6.5->pycaret) (1.0.0)\n",
            "Requirement already satisfied: jupyter-server>=1.8 in /usr/local/lib/python3.10/dist-packages (from nbclassic>=0.4.7->notebook>=4.4.1->widgetsnbextension~=3.6.0->ipywidgets>=7.6.5->pycaret) (1.24.0)\n",
            "Requirement already satisfied: notebook-shim>=0.2.3 in /usr/local/lib/python3.10/dist-packages (from nbclassic>=0.4.7->notebook>=4.4.1->widgetsnbextension~=3.6.0->ipywidgets>=7.6.5->pycaret) (0.2.3)\n",
            "Requirement already satisfied: lxml in /usr/local/lib/python3.10/dist-packages (from nbconvert>=5->notebook>=4.4.1->widgetsnbextension~=3.6.0->ipywidgets>=7.6.5->pycaret) (4.9.3)\n",
            "Requirement already satisfied: beautifulsoup4 in /usr/local/lib/python3.10/dist-packages (from nbconvert>=5->notebook>=4.4.1->widgetsnbextension~=3.6.0->ipywidgets>=7.6.5->pycaret) (4.11.2)\n",
            "Requirement already satisfied: bleach in /usr/local/lib/python3.10/dist-packages (from nbconvert>=5->notebook>=4.4.1->widgetsnbextension~=3.6.0->ipywidgets>=7.6.5->pycaret) (6.0.0)\n",
            "Requirement already satisfied: defusedxml in /usr/local/lib/python3.10/dist-packages (from nbconvert>=5->notebook>=4.4.1->widgetsnbextension~=3.6.0->ipywidgets>=7.6.5->pycaret) (0.7.1)\n",
            "Requirement already satisfied: entrypoints>=0.2.2 in /usr/local/lib/python3.10/dist-packages (from nbconvert>=5->notebook>=4.4.1->widgetsnbextension~=3.6.0->ipywidgets>=7.6.5->pycaret) (0.4)\n",
            "Requirement already satisfied: jupyterlab-pygments in /usr/local/lib/python3.10/dist-packages (from nbconvert>=5->notebook>=4.4.1->widgetsnbextension~=3.6.0->ipywidgets>=7.6.5->pycaret) (0.2.2)\n",
            "Requirement already satisfied: mistune<2,>=0.8.1 in /usr/local/lib/python3.10/dist-packages (from nbconvert>=5->notebook>=4.4.1->widgetsnbextension~=3.6.0->ipywidgets>=7.6.5->pycaret) (0.8.4)\n",
            "Requirement already satisfied: nbclient>=0.5.0 in /usr/local/lib/python3.10/dist-packages (from nbconvert>=5->notebook>=4.4.1->widgetsnbextension~=3.6.0->ipywidgets>=7.6.5->pycaret) (0.8.0)\n",
            "Requirement already satisfied: pandocfilters>=1.4.1 in /usr/local/lib/python3.10/dist-packages (from nbconvert>=5->notebook>=4.4.1->widgetsnbextension~=3.6.0->ipywidgets>=7.6.5->pycaret) (1.5.0)\n",
            "Requirement already satisfied: tinycss2 in /usr/local/lib/python3.10/dist-packages (from nbconvert>=5->notebook>=4.4.1->widgetsnbextension~=3.6.0->ipywidgets>=7.6.5->pycaret) (1.2.1)\n",
            "Requirement already satisfied: argon2-cffi-bindings in /usr/local/lib/python3.10/dist-packages (from argon2-cffi->notebook>=4.4.1->widgetsnbextension~=3.6.0->ipywidgets>=7.6.5->pycaret) (21.2.0)\n",
            "Requirement already satisfied: anyio<4,>=3.1.0 in /usr/local/lib/python3.10/dist-packages (from jupyter-server>=1.8->nbclassic>=0.4.7->notebook>=4.4.1->widgetsnbextension~=3.6.0->ipywidgets>=7.6.5->pycaret) (3.7.1)\n",
            "Requirement already satisfied: websocket-client in /usr/local/lib/python3.10/dist-packages (from jupyter-server>=1.8->nbclassic>=0.4.7->notebook>=4.4.1->widgetsnbextension~=3.6.0->ipywidgets>=7.6.5->pycaret) (1.6.2)\n",
            "Requirement already satisfied: cffi>=1.0.1 in /usr/local/lib/python3.10/dist-packages (from argon2-cffi-bindings->argon2-cffi->notebook>=4.4.1->widgetsnbextension~=3.6.0->ipywidgets>=7.6.5->pycaret) (1.15.1)\n",
            "Requirement already satisfied: soupsieve>1.2 in /usr/local/lib/python3.10/dist-packages (from beautifulsoup4->nbconvert>=5->notebook>=4.4.1->widgetsnbextension~=3.6.0->ipywidgets>=7.6.5->pycaret) (2.5)\n",
            "Requirement already satisfied: webencodings in /usr/local/lib/python3.10/dist-packages (from bleach->nbconvert>=5->notebook>=4.4.1->widgetsnbextension~=3.6.0->ipywidgets>=7.6.5->pycaret) (0.5.1)\n",
            "Requirement already satisfied: sniffio>=1.1 in /usr/local/lib/python3.10/dist-packages (from anyio<4,>=3.1.0->jupyter-server>=1.8->nbclassic>=0.4.7->notebook>=4.4.1->widgetsnbextension~=3.6.0->ipywidgets>=7.6.5->pycaret) (1.3.0)\n",
            "Requirement already satisfied: exceptiongroup in /usr/local/lib/python3.10/dist-packages (from anyio<4,>=3.1.0->jupyter-server>=1.8->nbclassic>=0.4.7->notebook>=4.4.1->widgetsnbextension~=3.6.0->ipywidgets>=7.6.5->pycaret) (1.1.3)\n",
            "Requirement already satisfied: pycparser in /usr/local/lib/python3.10/dist-packages (from cffi>=1.0.1->argon2-cffi-bindings->argon2-cffi->notebook>=4.4.1->widgetsnbextension~=3.6.0->ipywidgets>=7.6.5->pycaret) (2.21)\n",
            "Building wheels for collected packages: pyod\n",
            "  Building wheel for pyod (setup.py) ... \u001b[?25l\u001b[?25hdone\n",
            "  Created wheel for pyod: filename=pyod-1.1.0-py3-none-any.whl size=185329 sha256=7ea46815a6bd3584c8bc6349edf8edd766bae99402268113d8341d51b632ee18\n",
            "  Stored in directory: /root/.cache/pip/wheels/36/8e/e2/e932956b10b843eb6be9eefa70b5c1bee7b561be14c423b136\n",
            "Successfully built pyod\n",
            "Installing collected packages: trace-updater, kaleido, dash-table, dash-html-components, dash-core-components, xxhash, wurlitzer, Werkzeug, tsdownsample, scikit-base, schemdraw, retrying, orjson, jedi, deprecation, ansi2html, sktime, scikit-plot, pyod, dash, pmdarima, plotly-resampler, category-encoders, tbats, pycaret\n",
            "  Attempting uninstall: Werkzeug\n",
            "    Found existing installation: Werkzeug 2.3.7\n",
            "    Uninstalling Werkzeug-2.3.7:\n",
            "      Successfully uninstalled Werkzeug-2.3.7\n",
            "Successfully installed Werkzeug-2.2.3 ansi2html-1.8.0 category-encoders-2.6.2 dash-2.13.0 dash-core-components-2.0.0 dash-html-components-2.0.0 dash-table-5.0.0 deprecation-2.1.0 jedi-0.19.0 kaleido-0.2.1 orjson-3.9.7 plotly-resampler-0.9.1 pmdarima-2.0.3 pycaret-3.0.4 pyod-1.1.0 retrying-1.3.4 schemdraw-0.15 scikit-base-0.5.1 scikit-plot-0.3.7 sktime-0.22.0 tbats-1.1.3 trace-updater-0.0.9.1 tsdownsample-0.1.2 wurlitzer-3.0.3 xxhash-3.3.0\n"
          ]
        }
      ]
    },
    {
      "cell_type": "code",
      "source": [
        "# Importando o módulo de regressão do PyCaret\n",
        "from pycaret.regression import *\n",
        "\n",
        "# Configurando o ambiente PyCaret\n",
        "# Utilizaremos as notas como variáveis independentes para prever a nota média ponderada\n",
        "reg_setup = setup(data=df, target='NOTA_MEDIA_PONDERADA', train_size=0.8,\n",
        "                  session_id=42,\n",
        "                  ignore_features=['NU_INSCRICAO', 'MEDIA_GERAL', 'MEDIA_NOTAS', 'NOTA_MEDIA'])\n"
      ],
      "metadata": {
        "id": "tLMg6vZG__5N",
        "colab": {
          "base_uri": "https://localhost:8080/",
          "height": 802
        },
        "outputId": "0d19e9a8-ca36-44b6-fd5f-b550611bc83c"
      },
      "execution_count": 24,
      "outputs": [
        {
          "output_type": "display_data",
          "data": {
            "text/plain": [
              "<pandas.io.formats.style.Styler at 0x7b92cbbccfa0>"
            ],
            "text/html": [
              "<style type=\"text/css\">\n",
              "#T_bbdab_row11_col1 {\n",
              "  background-color: lightgreen;\n",
              "}\n",
              "</style>\n",
              "<table id=\"T_bbdab\" class=\"dataframe\">\n",
              "  <thead>\n",
              "    <tr>\n",
              "      <th class=\"blank level0\" >&nbsp;</th>\n",
              "      <th id=\"T_bbdab_level0_col0\" class=\"col_heading level0 col0\" >Description</th>\n",
              "      <th id=\"T_bbdab_level0_col1\" class=\"col_heading level0 col1\" >Value</th>\n",
              "    </tr>\n",
              "  </thead>\n",
              "  <tbody>\n",
              "    <tr>\n",
              "      <th id=\"T_bbdab_level0_row0\" class=\"row_heading level0 row0\" >0</th>\n",
              "      <td id=\"T_bbdab_row0_col0\" class=\"data row0 col0\" >Session id</td>\n",
              "      <td id=\"T_bbdab_row0_col1\" class=\"data row0 col1\" >42</td>\n",
              "    </tr>\n",
              "    <tr>\n",
              "      <th id=\"T_bbdab_level0_row1\" class=\"row_heading level0 row1\" >1</th>\n",
              "      <td id=\"T_bbdab_row1_col0\" class=\"data row1 col0\" >Target</td>\n",
              "      <td id=\"T_bbdab_row1_col1\" class=\"data row1 col1\" >NOTA_MEDIA_PONDERADA</td>\n",
              "    </tr>\n",
              "    <tr>\n",
              "      <th id=\"T_bbdab_level0_row2\" class=\"row_heading level0 row2\" >2</th>\n",
              "      <td id=\"T_bbdab_row2_col0\" class=\"data row2 col0\" >Target type</td>\n",
              "      <td id=\"T_bbdab_row2_col1\" class=\"data row2 col1\" >Regression</td>\n",
              "    </tr>\n",
              "    <tr>\n",
              "      <th id=\"T_bbdab_level0_row3\" class=\"row_heading level0 row3\" >3</th>\n",
              "      <td id=\"T_bbdab_row3_col0\" class=\"data row3 col0\" >Original data shape</td>\n",
              "      <td id=\"T_bbdab_row3_col1\" class=\"data row3 col1\" >(46159, 118)</td>\n",
              "    </tr>\n",
              "    <tr>\n",
              "      <th id=\"T_bbdab_level0_row4\" class=\"row_heading level0 row4\" >4</th>\n",
              "      <td id=\"T_bbdab_row4_col0\" class=\"data row4 col0\" >Transformed data shape</td>\n",
              "      <td id=\"T_bbdab_row4_col1\" class=\"data row4 col1\" >(46159, 216)</td>\n",
              "    </tr>\n",
              "    <tr>\n",
              "      <th id=\"T_bbdab_level0_row5\" class=\"row_heading level0 row5\" >5</th>\n",
              "      <td id=\"T_bbdab_row5_col0\" class=\"data row5 col0\" >Transformed train set shape</td>\n",
              "      <td id=\"T_bbdab_row5_col1\" class=\"data row5 col1\" >(36927, 216)</td>\n",
              "    </tr>\n",
              "    <tr>\n",
              "      <th id=\"T_bbdab_level0_row6\" class=\"row_heading level0 row6\" >6</th>\n",
              "      <td id=\"T_bbdab_row6_col0\" class=\"data row6 col0\" >Transformed test set shape</td>\n",
              "      <td id=\"T_bbdab_row6_col1\" class=\"data row6 col1\" >(9232, 216)</td>\n",
              "    </tr>\n",
              "    <tr>\n",
              "      <th id=\"T_bbdab_level0_row7\" class=\"row_heading level0 row7\" >7</th>\n",
              "      <td id=\"T_bbdab_row7_col0\" class=\"data row7 col0\" >Ignore features</td>\n",
              "      <td id=\"T_bbdab_row7_col1\" class=\"data row7 col1\" >4</td>\n",
              "    </tr>\n",
              "    <tr>\n",
              "      <th id=\"T_bbdab_level0_row8\" class=\"row_heading level0 row8\" >8</th>\n",
              "      <td id=\"T_bbdab_row8_col0\" class=\"data row8 col0\" >Ordinal features</td>\n",
              "      <td id=\"T_bbdab_row8_col1\" class=\"data row8 col1\" >6</td>\n",
              "    </tr>\n",
              "    <tr>\n",
              "      <th id=\"T_bbdab_level0_row9\" class=\"row_heading level0 row9\" >9</th>\n",
              "      <td id=\"T_bbdab_row9_col0\" class=\"data row9 col0\" >Numeric features</td>\n",
              "      <td id=\"T_bbdab_row9_col1\" class=\"data row9 col1\" >84</td>\n",
              "    </tr>\n",
              "    <tr>\n",
              "      <th id=\"T_bbdab_level0_row10\" class=\"row_heading level0 row10\" >10</th>\n",
              "      <td id=\"T_bbdab_row10_col0\" class=\"data row10 col0\" >Categorical features</td>\n",
              "      <td id=\"T_bbdab_row10_col1\" class=\"data row10 col1\" >29</td>\n",
              "    </tr>\n",
              "    <tr>\n",
              "      <th id=\"T_bbdab_level0_row11\" class=\"row_heading level0 row11\" >11</th>\n",
              "      <td id=\"T_bbdab_row11_col0\" class=\"data row11 col0\" >Preprocess</td>\n",
              "      <td id=\"T_bbdab_row11_col1\" class=\"data row11 col1\" >True</td>\n",
              "    </tr>\n",
              "    <tr>\n",
              "      <th id=\"T_bbdab_level0_row12\" class=\"row_heading level0 row12\" >12</th>\n",
              "      <td id=\"T_bbdab_row12_col0\" class=\"data row12 col0\" >Imputation type</td>\n",
              "      <td id=\"T_bbdab_row12_col1\" class=\"data row12 col1\" >simple</td>\n",
              "    </tr>\n",
              "    <tr>\n",
              "      <th id=\"T_bbdab_level0_row13\" class=\"row_heading level0 row13\" >13</th>\n",
              "      <td id=\"T_bbdab_row13_col0\" class=\"data row13 col0\" >Numeric imputation</td>\n",
              "      <td id=\"T_bbdab_row13_col1\" class=\"data row13 col1\" >mean</td>\n",
              "    </tr>\n",
              "    <tr>\n",
              "      <th id=\"T_bbdab_level0_row14\" class=\"row_heading level0 row14\" >14</th>\n",
              "      <td id=\"T_bbdab_row14_col0\" class=\"data row14 col0\" >Categorical imputation</td>\n",
              "      <td id=\"T_bbdab_row14_col1\" class=\"data row14 col1\" >mode</td>\n",
              "    </tr>\n",
              "    <tr>\n",
              "      <th id=\"T_bbdab_level0_row15\" class=\"row_heading level0 row15\" >15</th>\n",
              "      <td id=\"T_bbdab_row15_col0\" class=\"data row15 col0\" >Maximum one-hot encoding</td>\n",
              "      <td id=\"T_bbdab_row15_col1\" class=\"data row15 col1\" >25</td>\n",
              "    </tr>\n",
              "    <tr>\n",
              "      <th id=\"T_bbdab_level0_row16\" class=\"row_heading level0 row16\" >16</th>\n",
              "      <td id=\"T_bbdab_row16_col0\" class=\"data row16 col0\" >Encoding method</td>\n",
              "      <td id=\"T_bbdab_row16_col1\" class=\"data row16 col1\" >None</td>\n",
              "    </tr>\n",
              "    <tr>\n",
              "      <th id=\"T_bbdab_level0_row17\" class=\"row_heading level0 row17\" >17</th>\n",
              "      <td id=\"T_bbdab_row17_col0\" class=\"data row17 col0\" >Fold Generator</td>\n",
              "      <td id=\"T_bbdab_row17_col1\" class=\"data row17 col1\" >KFold</td>\n",
              "    </tr>\n",
              "    <tr>\n",
              "      <th id=\"T_bbdab_level0_row18\" class=\"row_heading level0 row18\" >18</th>\n",
              "      <td id=\"T_bbdab_row18_col0\" class=\"data row18 col0\" >Fold Number</td>\n",
              "      <td id=\"T_bbdab_row18_col1\" class=\"data row18 col1\" >10</td>\n",
              "    </tr>\n",
              "    <tr>\n",
              "      <th id=\"T_bbdab_level0_row19\" class=\"row_heading level0 row19\" >19</th>\n",
              "      <td id=\"T_bbdab_row19_col0\" class=\"data row19 col0\" >CPU Jobs</td>\n",
              "      <td id=\"T_bbdab_row19_col1\" class=\"data row19 col1\" >-1</td>\n",
              "    </tr>\n",
              "    <tr>\n",
              "      <th id=\"T_bbdab_level0_row20\" class=\"row_heading level0 row20\" >20</th>\n",
              "      <td id=\"T_bbdab_row20_col0\" class=\"data row20 col0\" >Use GPU</td>\n",
              "      <td id=\"T_bbdab_row20_col1\" class=\"data row20 col1\" >False</td>\n",
              "    </tr>\n",
              "    <tr>\n",
              "      <th id=\"T_bbdab_level0_row21\" class=\"row_heading level0 row21\" >21</th>\n",
              "      <td id=\"T_bbdab_row21_col0\" class=\"data row21 col0\" >Log Experiment</td>\n",
              "      <td id=\"T_bbdab_row21_col1\" class=\"data row21 col1\" >False</td>\n",
              "    </tr>\n",
              "    <tr>\n",
              "      <th id=\"T_bbdab_level0_row22\" class=\"row_heading level0 row22\" >22</th>\n",
              "      <td id=\"T_bbdab_row22_col0\" class=\"data row22 col0\" >Experiment Name</td>\n",
              "      <td id=\"T_bbdab_row22_col1\" class=\"data row22 col1\" >reg-default-name</td>\n",
              "    </tr>\n",
              "    <tr>\n",
              "      <th id=\"T_bbdab_level0_row23\" class=\"row_heading level0 row23\" >23</th>\n",
              "      <td id=\"T_bbdab_row23_col0\" class=\"data row23 col0\" >USI</td>\n",
              "      <td id=\"T_bbdab_row23_col1\" class=\"data row23 col1\" >d276</td>\n",
              "    </tr>\n",
              "  </tbody>\n",
              "</table>\n"
            ]
          },
          "metadata": {}
        }
      ]
    },
    {
      "cell_type": "markdown",
      "source": [
        "Nesta abordagem de AutoML, utilizamos o PyCaret para explorar diversos modelos e, implicitamente, a tunagem de hiperparâmetros. O setup do PyCaret nos oferece uma visão das configurações e transformações realizadas:\n",
        "\n",
        "- s dados originais contavam com 46.159 linhas e 118 colunas.\n",
        "- Após as transformações, principalmente devido à codificação de variáveis categóricas, o dataset passou a ter 216 colunas.\n",
        "- O conjunto de treinamento transformado possui 36.927 linhas, enquanto o conjunto de teste tem 9.232 linhas.\n",
        "- Utilizamos a validação cruzada KFold com 10 dobras.\n",
        "- As imputações para valores faltantes foram feitas usando a média para variáveis numéricas e a moda para variáveis categóricas."
      ],
      "metadata": {
        "id": "ulPI732aNLQp"
      }
    },
    {
      "cell_type": "markdown",
      "source": [
        "### Comparando todos os modelos disponiveis para 'targets' numéricos"
      ],
      "metadata": {
        "id": "5nrBPVzpH85Y"
      }
    },
    {
      "cell_type": "code",
      "source": [
        "# Comparando modelos de regressão\n",
        "best_model = compare_models()"
      ],
      "metadata": {
        "id": "QVpPX_YJIGOT",
        "colab": {
          "base_uri": "https://localhost:8080/",
          "height": 1000,
          "referenced_widgets": [
            "b0ad844f49234dc991410b290956fd97",
            "bc22f8b7560446bd8b402d5b380fc719",
            "e3e52dafa7f04bb792c062d57d0c9536",
            "5f72cbebb2ba4437aec9643efee48614",
            "17bddd9cd66246c08e64da56d879240a",
            "141c3eb89cd44405bd7b208b574b2953",
            "e5f01c74bedf421482121443d4e64a92",
            "cb3b8aba880045b48035305667d94880",
            "2df6a62c787247a3b7a8e490002d4615",
            "8838292852a5471eb186704e60d4efba",
            "bf3cfabb3e114a8b8acafcfa167a25c4"
          ]
        },
        "outputId": "47528a5f-40cd-4cf1-c6b3-a2505bb79070"
      },
      "execution_count": 25,
      "outputs": [
        {
          "output_type": "display_data",
          "data": {
            "text/plain": [
              "<IPython.core.display.HTML object>"
            ],
            "text/html": []
          },
          "metadata": {}
        },
        {
          "output_type": "display_data",
          "data": {
            "text/plain": [
              "<pandas.io.formats.style.Styler at 0x7b93600d1630>"
            ],
            "text/html": [
              "<style type=\"text/css\">\n",
              "#T_e0b2e th {\n",
              "  text-align: left;\n",
              "}\n",
              "#T_e0b2e_row0_col0, #T_e0b2e_row1_col0, #T_e0b2e_row1_col1, #T_e0b2e_row1_col2, #T_e0b2e_row1_col3, #T_e0b2e_row1_col5, #T_e0b2e_row1_col6, #T_e0b2e_row2_col0, #T_e0b2e_row2_col1, #T_e0b2e_row2_col2, #T_e0b2e_row2_col3, #T_e0b2e_row3_col0, #T_e0b2e_row3_col1, #T_e0b2e_row3_col2, #T_e0b2e_row3_col3, #T_e0b2e_row3_col5, #T_e0b2e_row4_col0, #T_e0b2e_row4_col1, #T_e0b2e_row4_col2, #T_e0b2e_row4_col3, #T_e0b2e_row4_col5, #T_e0b2e_row5_col0, #T_e0b2e_row5_col1, #T_e0b2e_row5_col2, #T_e0b2e_row5_col3, #T_e0b2e_row5_col5, #T_e0b2e_row5_col6, #T_e0b2e_row6_col0, #T_e0b2e_row6_col1, #T_e0b2e_row6_col2, #T_e0b2e_row6_col3, #T_e0b2e_row6_col5, #T_e0b2e_row6_col6, #T_e0b2e_row7_col0, #T_e0b2e_row7_col1, #T_e0b2e_row7_col2, #T_e0b2e_row7_col3, #T_e0b2e_row7_col5, #T_e0b2e_row7_col6, #T_e0b2e_row8_col0, #T_e0b2e_row9_col0, #T_e0b2e_row10_col0, #T_e0b2e_row10_col1, #T_e0b2e_row10_col2, #T_e0b2e_row10_col3, #T_e0b2e_row10_col4, #T_e0b2e_row10_col5, #T_e0b2e_row10_col6, #T_e0b2e_row11_col0, #T_e0b2e_row11_col1, #T_e0b2e_row11_col2, #T_e0b2e_row11_col3, #T_e0b2e_row11_col4, #T_e0b2e_row11_col5, #T_e0b2e_row11_col6, #T_e0b2e_row12_col0, #T_e0b2e_row12_col1, #T_e0b2e_row12_col2, #T_e0b2e_row12_col3, #T_e0b2e_row12_col4, #T_e0b2e_row12_col5, #T_e0b2e_row12_col6, #T_e0b2e_row13_col0, #T_e0b2e_row13_col1, #T_e0b2e_row13_col2, #T_e0b2e_row13_col3, #T_e0b2e_row13_col4, #T_e0b2e_row13_col5, #T_e0b2e_row13_col6, #T_e0b2e_row14_col0, #T_e0b2e_row14_col1, #T_e0b2e_row14_col2, #T_e0b2e_row14_col3, #T_e0b2e_row14_col4, #T_e0b2e_row14_col5, #T_e0b2e_row14_col6, #T_e0b2e_row15_col0, #T_e0b2e_row15_col1, #T_e0b2e_row15_col2, #T_e0b2e_row15_col3, #T_e0b2e_row15_col4, #T_e0b2e_row15_col5, #T_e0b2e_row15_col6, #T_e0b2e_row16_col0, #T_e0b2e_row16_col1, #T_e0b2e_row16_col2, #T_e0b2e_row16_col3, #T_e0b2e_row16_col4, #T_e0b2e_row16_col5, #T_e0b2e_row16_col6, #T_e0b2e_row17_col0, #T_e0b2e_row17_col1, #T_e0b2e_row17_col2, #T_e0b2e_row17_col3, #T_e0b2e_row17_col4, #T_e0b2e_row17_col5, #T_e0b2e_row17_col6, #T_e0b2e_row18_col0, #T_e0b2e_row18_col1, #T_e0b2e_row18_col2, #T_e0b2e_row18_col3, #T_e0b2e_row18_col4, #T_e0b2e_row18_col5, #T_e0b2e_row18_col6 {\n",
              "  text-align: left;\n",
              "}\n",
              "#T_e0b2e_row0_col1, #T_e0b2e_row0_col2, #T_e0b2e_row0_col3, #T_e0b2e_row0_col4, #T_e0b2e_row0_col5, #T_e0b2e_row0_col6, #T_e0b2e_row1_col4, #T_e0b2e_row2_col4, #T_e0b2e_row2_col5, #T_e0b2e_row2_col6, #T_e0b2e_row3_col4, #T_e0b2e_row3_col6, #T_e0b2e_row4_col4, #T_e0b2e_row4_col6, #T_e0b2e_row5_col4, #T_e0b2e_row6_col4, #T_e0b2e_row7_col4, #T_e0b2e_row8_col1, #T_e0b2e_row8_col2, #T_e0b2e_row8_col3, #T_e0b2e_row8_col4, #T_e0b2e_row8_col5, #T_e0b2e_row8_col6, #T_e0b2e_row9_col1, #T_e0b2e_row9_col2, #T_e0b2e_row9_col3, #T_e0b2e_row9_col4, #T_e0b2e_row9_col5, #T_e0b2e_row9_col6 {\n",
              "  text-align: left;\n",
              "  background-color: yellow;\n",
              "}\n",
              "#T_e0b2e_row0_col7, #T_e0b2e_row1_col7, #T_e0b2e_row2_col7, #T_e0b2e_row3_col7, #T_e0b2e_row4_col7, #T_e0b2e_row5_col7, #T_e0b2e_row6_col7, #T_e0b2e_row7_col7, #T_e0b2e_row8_col7, #T_e0b2e_row9_col7, #T_e0b2e_row10_col7, #T_e0b2e_row11_col7, #T_e0b2e_row12_col7, #T_e0b2e_row13_col7, #T_e0b2e_row14_col7, #T_e0b2e_row16_col7, #T_e0b2e_row17_col7, #T_e0b2e_row18_col7 {\n",
              "  text-align: left;\n",
              "  background-color: lightgrey;\n",
              "}\n",
              "#T_e0b2e_row15_col7 {\n",
              "  text-align: left;\n",
              "  background-color: yellow;\n",
              "  background-color: lightgrey;\n",
              "}\n",
              "</style>\n",
              "<table id=\"T_e0b2e\" class=\"dataframe\">\n",
              "  <thead>\n",
              "    <tr>\n",
              "      <th class=\"blank level0\" >&nbsp;</th>\n",
              "      <th id=\"T_e0b2e_level0_col0\" class=\"col_heading level0 col0\" >Model</th>\n",
              "      <th id=\"T_e0b2e_level0_col1\" class=\"col_heading level0 col1\" >MAE</th>\n",
              "      <th id=\"T_e0b2e_level0_col2\" class=\"col_heading level0 col2\" >MSE</th>\n",
              "      <th id=\"T_e0b2e_level0_col3\" class=\"col_heading level0 col3\" >RMSE</th>\n",
              "      <th id=\"T_e0b2e_level0_col4\" class=\"col_heading level0 col4\" >R2</th>\n",
              "      <th id=\"T_e0b2e_level0_col5\" class=\"col_heading level0 col5\" >RMSLE</th>\n",
              "      <th id=\"T_e0b2e_level0_col6\" class=\"col_heading level0 col6\" >MAPE</th>\n",
              "      <th id=\"T_e0b2e_level0_col7\" class=\"col_heading level0 col7\" >TT (Sec)</th>\n",
              "    </tr>\n",
              "  </thead>\n",
              "  <tbody>\n",
              "    <tr>\n",
              "      <th id=\"T_e0b2e_level0_row0\" class=\"row_heading level0 row0\" >lr</th>\n",
              "      <td id=\"T_e0b2e_row0_col0\" class=\"data row0 col0\" >Linear Regression</td>\n",
              "      <td id=\"T_e0b2e_row0_col1\" class=\"data row0 col1\" >0.0000</td>\n",
              "      <td id=\"T_e0b2e_row0_col2\" class=\"data row0 col2\" >0.0000</td>\n",
              "      <td id=\"T_e0b2e_row0_col3\" class=\"data row0 col3\" >0.0000</td>\n",
              "      <td id=\"T_e0b2e_row0_col4\" class=\"data row0 col4\" >1.0000</td>\n",
              "      <td id=\"T_e0b2e_row0_col5\" class=\"data row0 col5\" >0.0000</td>\n",
              "      <td id=\"T_e0b2e_row0_col6\" class=\"data row0 col6\" >0.0000</td>\n",
              "      <td id=\"T_e0b2e_row0_col7\" class=\"data row0 col7\" >8.2080</td>\n",
              "    </tr>\n",
              "    <tr>\n",
              "      <th id=\"T_e0b2e_level0_row1\" class=\"row_heading level0 row1\" >et</th>\n",
              "      <td id=\"T_e0b2e_row1_col0\" class=\"data row1 col0\" >Extra Trees Regressor</td>\n",
              "      <td id=\"T_e0b2e_row1_col1\" class=\"data row1 col1\" >0.0855</td>\n",
              "      <td id=\"T_e0b2e_row1_col2\" class=\"data row1 col2\" >0.0308</td>\n",
              "      <td id=\"T_e0b2e_row1_col3\" class=\"data row1 col3\" >0.1748</td>\n",
              "      <td id=\"T_e0b2e_row1_col4\" class=\"data row1 col4\" >1.0000</td>\n",
              "      <td id=\"T_e0b2e_row1_col5\" class=\"data row1 col5\" >0.0003</td>\n",
              "      <td id=\"T_e0b2e_row1_col6\" class=\"data row1 col6\" >0.0002</td>\n",
              "      <td id=\"T_e0b2e_row1_col7\" class=\"data row1 col7\" >78.3230</td>\n",
              "    </tr>\n",
              "    <tr>\n",
              "      <th id=\"T_e0b2e_level0_row2\" class=\"row_heading level0 row2\" >llar</th>\n",
              "      <td id=\"T_e0b2e_row2_col0\" class=\"data row2 col0\" >Lasso Least Angle Regression</td>\n",
              "      <td id=\"T_e0b2e_row2_col1\" class=\"data row2 col1\" >0.0145</td>\n",
              "      <td id=\"T_e0b2e_row2_col2\" class=\"data row2 col2\" >0.0003</td>\n",
              "      <td id=\"T_e0b2e_row2_col3\" class=\"data row2 col3\" >0.0183</td>\n",
              "      <td id=\"T_e0b2e_row2_col4\" class=\"data row2 col4\" >1.0000</td>\n",
              "      <td id=\"T_e0b2e_row2_col5\" class=\"data row2 col5\" >0.0000</td>\n",
              "      <td id=\"T_e0b2e_row2_col6\" class=\"data row2 col6\" >0.0000</td>\n",
              "      <td id=\"T_e0b2e_row2_col7\" class=\"data row2 col7\" >1.3200</td>\n",
              "    </tr>\n",
              "    <tr>\n",
              "      <th id=\"T_e0b2e_level0_row3\" class=\"row_heading level0 row3\" >rf</th>\n",
              "      <td id=\"T_e0b2e_row3_col0\" class=\"data row3 col0\" >Random Forest Regressor</td>\n",
              "      <td id=\"T_e0b2e_row3_col1\" class=\"data row3 col1\" >0.0125</td>\n",
              "      <td id=\"T_e0b2e_row3_col2\" class=\"data row3 col2\" >0.0029</td>\n",
              "      <td id=\"T_e0b2e_row3_col3\" class=\"data row3 col3\" >0.0517</td>\n",
              "      <td id=\"T_e0b2e_row3_col4\" class=\"data row3 col4\" >1.0000</td>\n",
              "      <td id=\"T_e0b2e_row3_col5\" class=\"data row3 col5\" >0.0001</td>\n",
              "      <td id=\"T_e0b2e_row3_col6\" class=\"data row3 col6\" >0.0000</td>\n",
              "      <td id=\"T_e0b2e_row3_col7\" class=\"data row3 col7\" >64.7290</td>\n",
              "    </tr>\n",
              "    <tr>\n",
              "      <th id=\"T_e0b2e_level0_row4\" class=\"row_heading level0 row4\" >dt</th>\n",
              "      <td id=\"T_e0b2e_row4_col0\" class=\"data row4 col0\" >Decision Tree Regressor</td>\n",
              "      <td id=\"T_e0b2e_row4_col1\" class=\"data row4 col1\" >0.0239</td>\n",
              "      <td id=\"T_e0b2e_row4_col2\" class=\"data row4 col2\" >0.0055</td>\n",
              "      <td id=\"T_e0b2e_row4_col3\" class=\"data row4 col3\" >0.0722</td>\n",
              "      <td id=\"T_e0b2e_row4_col4\" class=\"data row4 col4\" >1.0000</td>\n",
              "      <td id=\"T_e0b2e_row4_col5\" class=\"data row4 col5\" >0.0002</td>\n",
              "      <td id=\"T_e0b2e_row4_col6\" class=\"data row4 col6\" >0.0000</td>\n",
              "      <td id=\"T_e0b2e_row4_col7\" class=\"data row4 col7\" >3.4020</td>\n",
              "    </tr>\n",
              "    <tr>\n",
              "      <th id=\"T_e0b2e_level0_row5\" class=\"row_heading level0 row5\" >lasso</th>\n",
              "      <td id=\"T_e0b2e_row5_col0\" class=\"data row5 col0\" >Lasso Regression</td>\n",
              "      <td id=\"T_e0b2e_row5_col1\" class=\"data row5 col1\" >0.0737</td>\n",
              "      <td id=\"T_e0b2e_row5_col2\" class=\"data row5 col2\" >0.0086</td>\n",
              "      <td id=\"T_e0b2e_row5_col3\" class=\"data row5 col3\" >0.0928</td>\n",
              "      <td id=\"T_e0b2e_row5_col4\" class=\"data row5 col4\" >1.0000</td>\n",
              "      <td id=\"T_e0b2e_row5_col5\" class=\"data row5 col5\" >0.0002</td>\n",
              "      <td id=\"T_e0b2e_row5_col6\" class=\"data row5 col6\" >0.0001</td>\n",
              "      <td id=\"T_e0b2e_row5_col7\" class=\"data row5 col7\" >8.0270</td>\n",
              "    </tr>\n",
              "    <tr>\n",
              "      <th id=\"T_e0b2e_level0_row6\" class=\"row_heading level0 row6\" >xgboost</th>\n",
              "      <td id=\"T_e0b2e_row6_col0\" class=\"data row6 col0\" >Extreme Gradient Boosting</td>\n",
              "      <td id=\"T_e0b2e_row6_col1\" class=\"data row6 col1\" >0.1861</td>\n",
              "      <td id=\"T_e0b2e_row6_col2\" class=\"data row6 col2\" >0.0592</td>\n",
              "      <td id=\"T_e0b2e_row6_col3\" class=\"data row6 col3\" >0.2431</td>\n",
              "      <td id=\"T_e0b2e_row6_col4\" class=\"data row6 col4\" >1.0000</td>\n",
              "      <td id=\"T_e0b2e_row6_col5\" class=\"data row6 col5\" >0.0005</td>\n",
              "      <td id=\"T_e0b2e_row6_col6\" class=\"data row6 col6\" >0.0003</td>\n",
              "      <td id=\"T_e0b2e_row6_col7\" class=\"data row6 col7\" >29.5250</td>\n",
              "    </tr>\n",
              "    <tr>\n",
              "      <th id=\"T_e0b2e_level0_row7\" class=\"row_heading level0 row7\" >en</th>\n",
              "      <td id=\"T_e0b2e_row7_col0\" class=\"data row7 col0\" >Elastic Net</td>\n",
              "      <td id=\"T_e0b2e_row7_col1\" class=\"data row7 col1\" >0.0491</td>\n",
              "      <td id=\"T_e0b2e_row7_col2\" class=\"data row7 col2\" >0.0038</td>\n",
              "      <td id=\"T_e0b2e_row7_col3\" class=\"data row7 col3\" >0.0618</td>\n",
              "      <td id=\"T_e0b2e_row7_col4\" class=\"data row7 col4\" >1.0000</td>\n",
              "      <td id=\"T_e0b2e_row7_col5\" class=\"data row7 col5\" >0.0001</td>\n",
              "      <td id=\"T_e0b2e_row7_col6\" class=\"data row7 col6\" >0.0001</td>\n",
              "      <td id=\"T_e0b2e_row7_col7\" class=\"data row7 col7\" >5.3980</td>\n",
              "    </tr>\n",
              "    <tr>\n",
              "      <th id=\"T_e0b2e_level0_row8\" class=\"row_heading level0 row8\" >ridge</th>\n",
              "      <td id=\"T_e0b2e_row8_col0\" class=\"data row8 col0\" >Ridge Regression</td>\n",
              "      <td id=\"T_e0b2e_row8_col1\" class=\"data row8 col1\" >0.0000</td>\n",
              "      <td id=\"T_e0b2e_row8_col2\" class=\"data row8 col2\" >0.0000</td>\n",
              "      <td id=\"T_e0b2e_row8_col3\" class=\"data row8 col3\" >0.0000</td>\n",
              "      <td id=\"T_e0b2e_row8_col4\" class=\"data row8 col4\" >1.0000</td>\n",
              "      <td id=\"T_e0b2e_row8_col5\" class=\"data row8 col5\" >0.0000</td>\n",
              "      <td id=\"T_e0b2e_row8_col6\" class=\"data row8 col6\" >0.0000</td>\n",
              "      <td id=\"T_e0b2e_row8_col7\" class=\"data row8 col7\" >1.2150</td>\n",
              "    </tr>\n",
              "    <tr>\n",
              "      <th id=\"T_e0b2e_level0_row9\" class=\"row_heading level0 row9\" >omp</th>\n",
              "      <td id=\"T_e0b2e_row9_col0\" class=\"data row9 col0\" >Orthogonal Matching Pursuit</td>\n",
              "      <td id=\"T_e0b2e_row9_col1\" class=\"data row9 col1\" >0.0000</td>\n",
              "      <td id=\"T_e0b2e_row9_col2\" class=\"data row9 col2\" >0.0000</td>\n",
              "      <td id=\"T_e0b2e_row9_col3\" class=\"data row9 col3\" >0.0000</td>\n",
              "      <td id=\"T_e0b2e_row9_col4\" class=\"data row9 col4\" >1.0000</td>\n",
              "      <td id=\"T_e0b2e_row9_col5\" class=\"data row9 col5\" >0.0000</td>\n",
              "      <td id=\"T_e0b2e_row9_col6\" class=\"data row9 col6\" >0.0000</td>\n",
              "      <td id=\"T_e0b2e_row9_col7\" class=\"data row9 col7\" >1.3480</td>\n",
              "    </tr>\n",
              "    <tr>\n",
              "      <th id=\"T_e0b2e_level0_row10\" class=\"row_heading level0 row10\" >gbr</th>\n",
              "      <td id=\"T_e0b2e_row10_col0\" class=\"data row10 col0\" >Gradient Boosting Regressor</td>\n",
              "      <td id=\"T_e0b2e_row10_col1\" class=\"data row10 col1\" >0.6160</td>\n",
              "      <td id=\"T_e0b2e_row10_col2\" class=\"data row10 col2\" >0.6479</td>\n",
              "      <td id=\"T_e0b2e_row10_col3\" class=\"data row10 col3\" >0.8048</td>\n",
              "      <td id=\"T_e0b2e_row10_col4\" class=\"data row10 col4\" >0.9999</td>\n",
              "      <td id=\"T_e0b2e_row10_col5\" class=\"data row10 col5\" >0.0015</td>\n",
              "      <td id=\"T_e0b2e_row10_col6\" class=\"data row10 col6\" >0.0011</td>\n",
              "      <td id=\"T_e0b2e_row10_col7\" class=\"data row10 col7\" >17.3410</td>\n",
              "    </tr>\n",
              "    <tr>\n",
              "      <th id=\"T_e0b2e_level0_row11\" class=\"row_heading level0 row11\" >lightgbm</th>\n",
              "      <td id=\"T_e0b2e_row11_col0\" class=\"data row11 col0\" >Light Gradient Boosting Machine</td>\n",
              "      <td id=\"T_e0b2e_row11_col1\" class=\"data row11 col1\" >0.4441</td>\n",
              "      <td id=\"T_e0b2e_row11_col2\" class=\"data row11 col2\" >0.6277</td>\n",
              "      <td id=\"T_e0b2e_row11_col3\" class=\"data row11 col3\" >0.7902</td>\n",
              "      <td id=\"T_e0b2e_row11_col4\" class=\"data row11 col4\" >0.9999</td>\n",
              "      <td id=\"T_e0b2e_row11_col5\" class=\"data row11 col5\" >0.0016</td>\n",
              "      <td id=\"T_e0b2e_row11_col6\" class=\"data row11 col6\" >0.0008</td>\n",
              "      <td id=\"T_e0b2e_row11_col7\" class=\"data row11 col7\" >3.9310</td>\n",
              "    </tr>\n",
              "    <tr>\n",
              "      <th id=\"T_e0b2e_level0_row12\" class=\"row_heading level0 row12\" >huber</th>\n",
              "      <td id=\"T_e0b2e_row12_col0\" class=\"data row12 col0\" >Huber Regressor</td>\n",
              "      <td id=\"T_e0b2e_row12_col1\" class=\"data row12 col1\" >4.0202</td>\n",
              "      <td id=\"T_e0b2e_row12_col2\" class=\"data row12 col2\" >33.9738</td>\n",
              "      <td id=\"T_e0b2e_row12_col3\" class=\"data row12 col3\" >5.0911</td>\n",
              "      <td id=\"T_e0b2e_row12_col4\" class=\"data row12 col4\" >0.9959</td>\n",
              "      <td id=\"T_e0b2e_row12_col5\" class=\"data row12 col5\" >0.0098</td>\n",
              "      <td id=\"T_e0b2e_row12_col6\" class=\"data row12 col6\" >0.0076</td>\n",
              "      <td id=\"T_e0b2e_row12_col7\" class=\"data row12 col7\" >5.1030</td>\n",
              "    </tr>\n",
              "    <tr>\n",
              "      <th id=\"T_e0b2e_level0_row13\" class=\"row_heading level0 row13\" >ada</th>\n",
              "      <td id=\"T_e0b2e_row13_col0\" class=\"data row13 col0\" >AdaBoost Regressor</td>\n",
              "      <td id=\"T_e0b2e_row13_col1\" class=\"data row13 col1\" >5.3335</td>\n",
              "      <td id=\"T_e0b2e_row13_col2\" class=\"data row13 col2\" >45.6927</td>\n",
              "      <td id=\"T_e0b2e_row13_col3\" class=\"data row13 col3\" >6.6851</td>\n",
              "      <td id=\"T_e0b2e_row13_col4\" class=\"data row13 col4\" >0.9945</td>\n",
              "      <td id=\"T_e0b2e_row13_col5\" class=\"data row13 col5\" >0.0128</td>\n",
              "      <td id=\"T_e0b2e_row13_col6\" class=\"data row13 col6\" >0.0100</td>\n",
              "      <td id=\"T_e0b2e_row13_col7\" class=\"data row13 col7\" >11.0910</td>\n",
              "    </tr>\n",
              "    <tr>\n",
              "      <th id=\"T_e0b2e_level0_row14\" class=\"row_heading level0 row14\" >knn</th>\n",
              "      <td id=\"T_e0b2e_row14_col0\" class=\"data row14 col0\" >K Neighbors Regressor</td>\n",
              "      <td id=\"T_e0b2e_row14_col1\" class=\"data row14 col1\" >14.3543</td>\n",
              "      <td id=\"T_e0b2e_row14_col2\" class=\"data row14 col2\" >709.1214</td>\n",
              "      <td id=\"T_e0b2e_row14_col3\" class=\"data row14 col3\" >26.6074</td>\n",
              "      <td id=\"T_e0b2e_row14_col4\" class=\"data row14 col4\" >0.9152</td>\n",
              "      <td id=\"T_e0b2e_row14_col5\" class=\"data row14 col5\" >0.0509</td>\n",
              "      <td id=\"T_e0b2e_row14_col6\" class=\"data row14 col6\" >0.0275</td>\n",
              "      <td id=\"T_e0b2e_row14_col7\" class=\"data row14 col7\" >2.9220</td>\n",
              "    </tr>\n",
              "    <tr>\n",
              "      <th id=\"T_e0b2e_level0_row15\" class=\"row_heading level0 row15\" >dummy</th>\n",
              "      <td id=\"T_e0b2e_row15_col0\" class=\"data row15 col0\" >Dummy Regressor</td>\n",
              "      <td id=\"T_e0b2e_row15_col1\" class=\"data row15 col1\" >74.6384</td>\n",
              "      <td id=\"T_e0b2e_row15_col2\" class=\"data row15 col2\" >8364.8378</td>\n",
              "      <td id=\"T_e0b2e_row15_col3\" class=\"data row15 col3\" >91.4583</td>\n",
              "      <td id=\"T_e0b2e_row15_col4\" class=\"data row15 col4\" >-0.0003</td>\n",
              "      <td id=\"T_e0b2e_row15_col5\" class=\"data row15 col5\" >0.1674</td>\n",
              "      <td id=\"T_e0b2e_row15_col6\" class=\"data row15 col6\" >0.1399</td>\n",
              "      <td id=\"T_e0b2e_row15_col7\" class=\"data row15 col7\" >0.9100</td>\n",
              "    </tr>\n",
              "    <tr>\n",
              "      <th id=\"T_e0b2e_level0_row16\" class=\"row_heading level0 row16\" >par</th>\n",
              "      <td id=\"T_e0b2e_row16_col0\" class=\"data row16 col0\" >Passive Aggressive Regressor</td>\n",
              "      <td id=\"T_e0b2e_row16_col1\" class=\"data row16 col1\" >123.5579</td>\n",
              "      <td id=\"T_e0b2e_row16_col2\" class=\"data row16 col2\" >22162.8593</td>\n",
              "      <td id=\"T_e0b2e_row16_col3\" class=\"data row16 col3\" >144.8229</td>\n",
              "      <td id=\"T_e0b2e_row16_col4\" class=\"data row16 col4\" >-1.6522</td>\n",
              "      <td id=\"T_e0b2e_row16_col5\" class=\"data row16 col5\" >0.2538</td>\n",
              "      <td id=\"T_e0b2e_row16_col6\" class=\"data row16 col6\" >0.2443</td>\n",
              "      <td id=\"T_e0b2e_row16_col7\" class=\"data row16 col7\" >1.6350</td>\n",
              "    </tr>\n",
              "    <tr>\n",
              "      <th id=\"T_e0b2e_level0_row17\" class=\"row_heading level0 row17\" >br</th>\n",
              "      <td id=\"T_e0b2e_row17_col0\" class=\"data row17 col0\" >Bayesian Ridge</td>\n",
              "      <td id=\"T_e0b2e_row17_col1\" class=\"data row17 col1\" >21676327.3595</td>\n",
              "      <td id=\"T_e0b2e_row17_col2\" class=\"data row17 col2\" >8854798562120783872.0000</td>\n",
              "      <td id=\"T_e0b2e_row17_col3\" class=\"data row17 col3\" >1307773771.5526</td>\n",
              "      <td id=\"T_e0b2e_row17_col4\" class=\"data row17 col4\" >-1061681729244377.8750</td>\n",
              "      <td id=\"T_e0b2e_row17_col5\" class=\"data row17 col5\" >0.3112</td>\n",
              "      <td id=\"T_e0b2e_row17_col6\" class=\"data row17 col6\" >43179.6011</td>\n",
              "      <td id=\"T_e0b2e_row17_col7\" class=\"data row17 col7\" >3.6510</td>\n",
              "    </tr>\n",
              "    <tr>\n",
              "      <th id=\"T_e0b2e_level0_row18\" class=\"row_heading level0 row18\" >lar</th>\n",
              "      <td id=\"T_e0b2e_row18_col0\" class=\"data row18 col0\" >Least Angle Regression</td>\n",
              "      <td id=\"T_e0b2e_row18_col1\" class=\"data row18 col1\" >140731906761288575433463300096.0000</td>\n",
              "      <td id=\"T_e0b2e_row18_col2\" class=\"data row18 col2\" >731415095471117327264601667885787063435367291840284668211494912.0000</td>\n",
              "      <td id=\"T_e0b2e_row18_col3\" class=\"data row18 col3\" >8552280962722026354421750824960.0000</td>\n",
              "      <td id=\"T_e0b2e_row18_col4\" class=\"data row18 col4\" >-86891323834051259584866152593668319547669206081471386746880.0000</td>\n",
              "      <td id=\"T_e0b2e_row18_col5\" class=\"data row18 col5\" >15.0957</td>\n",
              "      <td id=\"T_e0b2e_row18_col6\" class=\"data row18 col6\" >192175355372425869638238208.0000</td>\n",
              "      <td id=\"T_e0b2e_row18_col7\" class=\"data row18 col7\" >1.2290</td>\n",
              "    </tr>\n",
              "  </tbody>\n",
              "</table>\n"
            ]
          },
          "metadata": {}
        },
        {
          "output_type": "display_data",
          "data": {
            "text/plain": [
              "Processing:   0%|          | 0/81 [00:00<?, ?it/s]"
            ],
            "application/vnd.jupyter.widget-view+json": {
              "version_major": 2,
              "version_minor": 0,
              "model_id": "b0ad844f49234dc991410b290956fd97"
            }
          },
          "metadata": {
            "application/vnd.jupyter.widget-view+json": {
              "colab": {
                "custom_widget_manager": {
                  "url": "https://ssl.gstatic.com/colaboratory-static/widgets/colab-cdn-widget-manager/b3e629b1971e1542/manager.min.js"
                }
              }
            }
          }
        },
        {
          "output_type": "display_data",
          "data": {
            "text/plain": [
              "<IPython.core.display.HTML object>"
            ],
            "text/html": []
          },
          "metadata": {}
        }
      ]
    },
    {
      "cell_type": "markdown",
      "source": [
        "Com base nos resultados apresentados, podemos fazer as seguintes observações:\n",
        "\n",
        "Modelos com Desempenho Perfeito: Vários modelos, como a regressão linear (lr), regressão ridge (ridge), e orthogonal matching pursuit (omp) têm métricas de erro (MAE, MSE e RMSE) zeradas e $R^2$ igual a 1. Isso indica um ajuste perfeito aos dados. No mundo real, isso é altamente incomum e muitas vezes sugere overfitting. Ou seja, o modelo pode estar tão ajustado ao conjunto de treinamento que pode não generalizar bem para dados não vistos.\n",
        "\n",
        "- XGBoost: O XGBoost, que é uma técnica avançada e amplamente usada, não teve a melhor performance comparada a alguns outros modelos. Isso pode ser devido à natureza dos dados ou à necessidade de uma otimização mais refinada dos hiperparâmetros.\n",
        "\n",
        "- Modelos com Desempenho Inferior: Alguns modelos, como o Bayesian Ridge (br), Least Angle Regression (lar), e Passive Aggressive Regressor (par) tiveram desempenhos muito abaixo do esperado. Especialmente br e lar, que apresentaram erros extremamente altos, sugerindo que eles não são adequados para este conjunto de dados ou foram mal configurados.\n",
        "\n",
        "- Sobre Regressão Linear 'manual' vs Regressão Linear no AutoML: É intrigante que a regressão linear no PyCaret tenha se saído perfeitamente, enquanto na abordagem anterior ela não obteve tal desempenho. Uma possibilidade é que o PyCaret esteja aplicando alguma forma de regularização ou otimização que não estava presente na abordagem inicial. No entanto, é essencial ser cauteloso com modelos que apresentam desempenho \"perfeito\", pois podem ser um sinal de overfitting."
      ],
      "metadata": {
        "id": "jGdy2sA0HNOm"
      }
    },
    {
      "cell_type": "markdown",
      "source": [
        "### Conclusão\n",
        "\n",
        "Ao comparar os dois modelos (Regressão Linear e XGBoost) com os resultados do AutoML, percebemos que a otimização e seleção de modelos é um processo iterativo e complexo. O que funciona bem para um conjunto de dados pode não ser ideal para outro. É crucial testar vários modelos, otimizar hiperparâmetros e validar a performance usando conjuntos de teste e validação.\n"
      ],
      "metadata": {
        "id": "Kz6jWKj1Hd0B"
      }
    },
    {
      "cell_type": "markdown",
      "source": [
        "### Próximos Passos"
      ],
      "metadata": {
        "id": "ZCAoAX9mJRbI"
      }
    },
    {
      "cell_type": "markdown",
      "source": [
        "**Transformando o Problema de Regressão em Classificação**\n",
        "\n",
        "Devido à multicolinearidade observada entre as variáveis independentes e consequentemente 'overfitting' em grande parte dos modelos, uma abordagem alternativa seria transformar nosso problema de regressão em um problema de classificação. Em vez de prever a nota exata de um aluno, poderíamos prever se um aluno seria \"aprovado\" ou \"reprovado\" com base em um limite de nota definido.\n",
        "\n",
        "**Vantagens dessa Abordagem:**\n",
        "\n",
        "- **Reduz a Complexidade**: Transformar o problema em classificação reduz a complexidade, pois estamos prevendo classes em vez de valores contínuos.\n",
        "- **Evita Overfitting**: Essa simplificação pode ajudar a evitar o overfitting observado anteriormente devido à multicolinearidade.\n",
        "- **Significado Prático**: Em contextos educacionais, muitas vezes estamos mais interessados no resultado final (por exemplo, passar ou reprovar) do que na nota exata.\n",
        "\n",
        "**Implementação:**\n",
        "\n",
        "Para implementar essa abordagem, seguiríamos os seguintes passos:\n",
        "\n",
        "1. Definir um limite para \"aprovado\" e \"reprovado\". Por exemplo, podemos considerar qualquer nota média ponderada acima de 70 como \"aprovada\".\n",
        "2. Transformar nosso `target` em uma variável binária com base nesse limite.\n",
        "3. Utilizar modelos de classificação, como regressão logística, para prever essa nova variável target.\n"
      ],
      "metadata": {
        "id": "qGUA6A5YHt9a"
      }
    }
  ]
}